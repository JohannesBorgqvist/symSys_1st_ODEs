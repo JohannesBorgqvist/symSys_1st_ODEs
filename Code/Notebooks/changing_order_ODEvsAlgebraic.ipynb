{
 "cells": [
  {
   "cell_type": "markdown",
   "metadata": {},
   "source": [
    "# Details of algorithm\n",
    "*Date:* 2021-07-29<br>\n",
    "\n",
    "Ok, so one thing that bothered me greatly, was the fact that the script returned generators that do not satisfy the linearised symmetry conditions. Philosophically, this is very problematic as the idea behind using ansätze is that you impose a structure on the solutions that you are looking for which contain a number of unknown functions. Then you plug in these ansätze into the linearised symmetry conditions, and based on that a set of equations are derived. So, by default the solution to the equations that are derived called the *determining equations* must necessarily solve the linearised symmetry conditions as well. \n",
    "\n",
    "Now, for the implementation I have some of the generators that are returned do in fact satisfy the linearised symmetry conditions, but the worry is that *additional* faulty generators are returned as well. If the implementation is correct this should not be possible, which leads me to beleive that something in the implementation is wrong. So let us go trough the different steps and the approach that just came to me yesterday evening that I am currently implementing will work. \n",
    "\n",
    "## The mathematics for finding the symmetries\n",
    "\n",
    "In essence we have a list of 16 unknown coefficients. Assume that these are collected in the following vector:\n",
    "\n",
    "\\begin{equation}\\mathbf{c}=\\left[\\begin{matrix}C_{1}\\\\C_{2}\\\\C_{3}\\\\C_{4}\\\\C_{5}\\\\C_{6}\\\\C_{7}\\\\C_{8}\\\\C_{9}\\\\C_{10}\\\\C_{11}\\\\C_{12}\\\\C_{13}\\\\C_{14}\\\\C_{15}\\\\C_{16}\\end{matrix}\\right].\\end{equation}\n",
    "\n",
    "Then this vector satisfies the following two equations:\n",
    "\n",
    "\\begin{align*}\n",
    "\\dfrac{\\mathrm{d}\\mathbf{c}}{\\mathrm{d}t}&=B\\mathbf{c},\\\\\n",
    "B_{\\mathrm{algebraic}}\\mathbf{c}&=\\mathbf{0}.\n",
    "\\end{align*}\n",
    "\n",
    "The first ODE is solved by calculating the Jordan form of $B$ according to:\n",
    "\n",
    "$$B=PJP^{-1}$$\n",
    "and then the *homogeneous* solution to the ODE is solved by the equation\n",
    "\n",
    "$$\\mathbf{c}\\gets Pe^{Jt}P^{-1}\\mathbf{c}.$$\n",
    "\n",
    "Then the algebraic equations give certain conditions on the arbitrary integration coefficients that can be plugged back into the vector. So what I did previously was to solve the ODE system first and then the algebraic system. Now, the plan is to switch the order of these operations and instead solve the algebraic equations first and then the ODE system. \n",
    "\n",
    "Also, I should note that for certain ansätze we get an inhomogeneous system that looks as follows:\n",
    "\n",
    "\\begin{align*}\n",
    "\\dfrac{\\mathrm{d}\\mathbf{c}}{\\mathrm{d}t}&=B\\mathbf{c}+\\mathbf{f}\\_1(t),\\\\\n",
    "B_{\\mathrm{algebraic}}\\mathbf{c}&=\\mathbf{f}\\_2(t).\n",
    "\\end{align*}\n",
    "\n",
    "The solution formula to the ODE system in this case is the following:\n",
    "\n",
    "$$\\mathbf{c}\\gets Pe^{Jt}P^{-1}\\mathbf{c}+Pe^{Jt}P^{-1}\\int_0^t Pe^{-Js}P^{-1}\\mathbf{f}_1(t)\\mathrm{d}s.$$\n",
    "\n",
    "It turns out that running the calculations with ansätze of degree 1 leads to a homogeneous ODE system, so we will start with this case. The calculations with ansätze of degree 2 leads to an inhomogeneous ODE system, so we will tackle this after. Let's hope that changing the order will lead to a better result. \n",
    "\n",
    "No, this was a bad idea man. Lets solve the ODE system first. "
   ]
  },
  {
   "cell_type": "markdown",
   "metadata": {},
   "source": [
    "# Part 1: Solve the ODE system\n",
    "\n",
    "## Ansätze n=1\n",
    "Coefficients:<br>\n",
    "\\begin{equation}\\left[\\begin{matrix}C_{1}\\\\C_{2}\\\\C_{3}\\\\C_{4}\\\\C_{5}\\\\C_{6}\\\\C_{7}\\\\C_{8}\\\\C_{9}\\\\C_{10}\\\\C_{11}\\\\C_{12}\\\\C_{13}\\\\C_{14}\\\\C_{15}\\\\C_{16}\\end{matrix}\\right]\\end{equation}\n",
    "Number of unknowns:     16<br>\n",
    "Coefficients after ODE:<br>\n",
    "\\begin{equation}\\left[\\begin{matrix}C_{1} - C_{14} x_{0} + \\frac{C_{5} x_{0}^{2}}{2} + \\frac{C_{9} x_{0}^{2}}{2}\\\\C_{2}\\\\C_{3}\\\\C_{4}\\\\C_{5}\\\\- C_{5} x_{0} + C_{6} + C_{9} x_{0}\\\\C_{13} x_{0} - C_{5} x_{0} + C_{7}\\\\- C_{13} x_{0} + C_{8} - C_{9} x_{0}\\\\C_{9}\\\\C_{10} + C_{5} x_{0} - C_{9} x_{0}\\\\C_{11} - C_{13} x_{0} - C_{5} x_{0}\\\\C_{12} + C_{13} x_{0} - C_{9} x_{0}\\\\C_{13}\\\\C_{14} - C_{5} x_{0} - C_{9} x_{0}\\\\- C_{13} x_{0} + C_{15} + C_{5} x_{0}\\\\- C_{13} x_{0} + C_{16} + C_{9} x_{0}\\end{matrix}\\right]\\end{equation}\n",
    "Number of unknowns:     16<br>\n",
    "\n"
   ]
  },
  {
   "cell_type": "markdown",
   "metadata": {},
   "source": [
    "# Part 2: Solve the algebraic equations\n",
    "\n",
    "Algebraic equation<br>:\n",
    "\\begin{equation}\n",
    "\\left[\\begin{matrix}- C_{2}\\\\- C_{3}\\\\- C_{4}\\\\C_{5} x_{0} - C_{6} - C_{9} x_{0}\\\\- C_{13} x_{0} + C_{5} x_{0} - C_{7}\\\\C_{13} x_{0} + C_{14} - C_{5} x_{0} - C_{8}\\\\- C_{10} - C_{5} x_{0} + C_{9} x_{0}\\\\- C_{11} + C_{13} x_{0} + C_{14} - C_{9} x_{0}\\\\- C_{12} - C_{13} x_{0} + C_{9} x_{0}\\\\C_{13} x_{0} - C_{15} - C_{5} x_{0}\\\\C_{13} x_{0} - C_{16} - C_{9} x_{0}\\end{matrix}\\right]=\\left[\\begin{array}{cccccccccccccccc}0 & -1 & 0 & 0 & 0 & 0 & 0 & 0 & 0 & 0 & 0 & 0 & 0 & 0 & 0 & 0\\\\0 & 0 & -1 & 0 & 0 & 0 & 0 & 0 & 0 & 0 & 0 & 0 & 0 & 0 & 0 & 0\\\\0 & 0 & 0 & -1 & 0 & 0 & 0 & 0 & 0 & 0 & 0 & 0 & 0 & 0 & 0 & 0\\\\0 & 0 & 0 & 0 & 0 & -1 & 0 & 0 & 0 & 0 & 0 & 0 & 0 & 0 & 0 & 0\\\\0 & 0 & 0 & 0 & 0 & 0 & -1 & 0 & 0 & 0 & 0 & 0 & 0 & 0 & 0 & 0\\\\0 & 0 & 0 & 0 & 0 & 0 & 0 & -1 & 0 & 0 & 0 & 0 & 0 & 1 & 0 & 0\\\\0 & 0 & 0 & 0 & 0 & 0 & 0 & 0 & 0 & -1 & 0 & 0 & 0 & 0 & 0 & 0\\\\0 & 0 & 0 & 0 & 0 & 0 & 0 & 0 & 0 & 0 & -1 & 0 & 0 & 1 & 0 & 0\\\\0 & 0 & 0 & 0 & 0 & 0 & 0 & 0 & 0 & 0 & 0 & -1 & 0 & 0 & 0 & 0\\\\0 & 0 & 0 & 0 & 0 & 0 & 0 & 0 & 0 & 0 & 0 & 0 & 0 & 0 & -1 & 0\\\\0 & 0 & 0 & 0 & 0 & 0 & 0 & 0 & 0 & 0 & 0 & 0 & 0 & 0 & 0 & -1\\end{array}\\right]\\left[\\begin{matrix}C_{1} - C_{14} x_{0} + \\frac{C_{5} x_{0}^{2}}{2} + \\frac{C_{9} x_{0}^{2}}{2}\\\\C_{2}\\\\C_{3}\\\\C_{4}\\\\C_{5}\\\\- C_{5} x_{0} + C_{6} + C_{9} x_{0}\\\\C_{13} x_{0} - C_{5} x_{0} + C_{7}\\\\- C_{13} x_{0} + C_{8} - C_{9} x_{0}\\\\C_{9}\\\\C_{10} + C_{5} x_{0} - C_{9} x_{0}\\\\C_{11} - C_{13} x_{0} - C_{5} x_{0}\\\\C_{12} + C_{13} x_{0} - C_{9} x_{0}\\\\C_{13}\\\\C_{14} - C_{5} x_{0} - C_{9} x_{0}\\\\- C_{13} x_{0} + C_{15} + C_{5} x_{0}\\\\- C_{13} x_{0} + C_{16} + C_{9} x_{0}\\end{matrix}\\right]\n",
    "\\end{equation}\n",
    "\n",
    "The algebraic equations:<br>\n",
    "\\begin{equation}\n",
    "\\left[\\begin{matrix}- C_{2}\\\\- C_{3}\\\\- C_{4}\\\\C_{5} x_{0} - C_{6} - C_{9} x_{0}\\\\- C_{13} x_{0} + C_{5} x_{0} - C_{7}\\\\C_{13} x_{0} + C_{14} - C_{5} x_{0} - C_{8}\\\\- C_{10} - C_{5} x_{0} + C_{9} x_{0}\\\\- C_{11} + C_{13} x_{0} + C_{14} - C_{9} x_{0}\\\\- C_{12} - C_{13} x_{0} + C_{9} x_{0}\\\\C_{13} x_{0} - C_{15} - C_{5} x_{0}\\\\C_{13} x_{0} - C_{16} - C_{9} x_{0}\\end{matrix}\\right]=\\left[\\begin{array}{ccccccccccccccc}-1 & 0 & 0 & 0 & 0 & 0 & 0 & 0 & 0 & 0 & 0 & 0 & 0 & 0 & 0\\\\0 & -1 & 0 & 0 & 0 & 0 & 0 & 0 & 0 & 0 & 0 & 0 & 0 & 0 & 0\\\\0 & 0 & -1 & 0 & 0 & 0 & 0 & 0 & 0 & 0 & 0 & 0 & 0 & 0 & 0\\\\0 & 0 & 0 & x_{0} & -1 & 0 & 0 & - x_{0} & 0 & 0 & 0 & 0 & 0 & 0 & 0\\\\0 & 0 & 0 & x_{0} & 0 & -1 & 0 & 0 & 0 & 0 & 0 & - x_{0} & 0 & 0 & 0\\\\0 & 0 & 0 & - x_{0} & 0 & 0 & -1 & 0 & 0 & 0 & 0 & x_{0} & 1 & 0 & 0\\\\0 & 0 & 0 & - x_{0} & 0 & 0 & 0 & x_{0} & -1 & 0 & 0 & 0 & 0 & 0 & 0\\\\0 & 0 & 0 & 0 & 0 & 0 & 0 & - x_{0} & 0 & -1 & 0 & x_{0} & 1 & 0 & 0\\\\0 & 0 & 0 & 0 & 0 & 0 & 0 & x_{0} & 0 & 0 & -1 & - x_{0} & 0 & 0 & 0\\\\0 & 0 & 0 & - x_{0} & 0 & 0 & 0 & 0 & 0 & 0 & 0 & x_{0} & 0 & -1 & 0\\\\0 & 0 & 0 & 0 & 0 & 0 & 0 & - x_{0} & 0 & 0 & 0 & x_{0} & 0 & 0 &-1\\end{array}\\right]\\left[\\begin{matrix}C_{2}\\\\C_{3}\\\\C_{4}\\\\C_{5}\\\\C_{6}\\\\C_{7}\\\\C_{8}\\\\C_{9}\\\\C_{10}\\\\C_{11}\\\\C_{12}\\\\C_{13}\\\\C_{14}\\\\C_{15}\\\\C_{16}\\end{matrix}\\right]\n",
    "\\end{equation}\n",
    "         \n",
    "The algebraic equations after row reduction:\n",
    "Algebraic equations after row reduction:<br>\n",
    "\\begin{equation}\n",
    "\\left[\\begin{matrix}C_{2}\\\\C_{3}\\\\C_{4}\\\\- C_{13} + \\frac{C_{15}}{x_{0}} + C_{5}\\\\C_{15} - C_{16} + C_{6}\\\\C_{15} + C_{7}\\\\- C_{14} - C_{15} + C_{8}\\\\- C_{13} + \\frac{C_{16}}{x_{0}} + C_{9}\\\\C_{10} - C_{15} + C_{16}\\\\C_{11} - C_{14} - C_{16}\\\\C_{12} + C_{16}\\end{matrix}\\right]=\\left[\\begin{array}{ccccccccccccccc}1 & 0 & 0 & 0 & 0 & 0 & 0 & 0 & 0 & 0 & 0 & 0 & 0 & 0 & 0\\\\0 & 1 & 0 & 0 & 0 & 0 & 0 & 0 & 0 & 0 & 0 & 0 & 0 & 0 & 0\\\\0 & 0 & 1 & 0 & 0 & 0 & 0 & 0 & 0 & 0 & 0 & 0 & 0 & 0 & 0\\\\0 & 0 & 0 & 1 & 0 & 0 & 0 & 0 & 0 & 0 & 0 & -1 & 0 & \\frac{1}{x_{0}} & 0\\\\0 & 0 & 0 & 0 & 1 & 0 & 0 & 0 & 0 & 0 & 0 & 0 & 0 & 1 & -1\\\\0 & 0 & 0 & 0 & 0 & 1 & 0 & 0 & 0 & 0 & 0 & 0 & 0 & 1 & 0\\\\0 & 0 & 0 & 0 & 0 & 0 & 1 & 0 & 0 & 0 & 0 & 0 & -1 & -1 & 0\\\\0 & 0 & 0 & 0 & 0 & 0 & 0 & 1 & 0 & 0 & 0 & -1 & 0 & 0 & \\frac{1}{x_{0}}\\\\0 & 0 & 0 & 0 & 0 & 0 & 0 & 0 & 1 & 0 & 0 & 0 & 0 & -1 & 1\\\\0 & 0 & 0 & 0 & 0 & 0 & 0 & 0 & 0 & 1 & 0 & 0 & -1 & 0 & -1\\\\0 & 0 & 0 & 0 & 0 & 0 & 0 & 0 & 0 & 0 & 1 & 0 & 0 & 0 & 1\\end{array}\\right]\\left[\\begin{matrix}C_{2}\\\\C_{3}\\\\C_{4}\\\\C_{5}\\\\C_{6}\\\\C_{7}\\\\C_{8}\\\\C_{9}\\\\C_{10}\\\\C_{11}\\\\C_{12}\\\\C_{13}\\\\C_{14}\\\\C_{15}\\\\C_{16}\\end{matrix}\\right]-\\left[\\begin{matrix}0\\\\0\\\\0\\\\0\\\\0\\\\0\\\\0\\\\0\\\\0\\\\0\\\\0\\end{matrix}\\right]\n",
    "\\end{equation}\n",
    "\n",
    "### Solving these equations\n",
    "Equation:       $C_{2}=0$       ,       Solution:       $C_{2}=\\left[ 0\\right]$<br>\n",
    "Equation:       $C_{3}=0$       ,       Solution:       $C_{3}=\\left[ 0\\right]$<br>\n",
    "Equation:       $C_{4}=0$       ,       Solution:       $C_{4}=\\left[ 0\\right]$<br>\n",
    "Equation:       $- C_{13} + \\frac{C_{15}}{x_{0}} + C_{5}=0$     ,       Solution:       $C_{5}=\\left[ C_{13} - \\frac{C_{15}}{x_{0}}\\right]$<br>\n",
    "Equation:       $C_{15} - C_{16} + C_{6}=0$     ,       Solution:       $C_{6}=\\left[ - C_{15} + C_{16}\\right]$<br>\n",
    "Equation:       $C_{15} + C_{7}=0$      ,       Solution:       $C_{7}=\\left[ - C_{15}\\right]$<br>\n",
    "Equation:       $- C_{14} - C_{15} + C_{8}=0$   ,       Solution:       $C_{8}=\\left[ C_{14} + C_{15}\\right]$<br>\n",
    "Equation:       $- C_{13} + \\frac{C_{16}}{x_{0}} + C_{9}=0$     ,       Solution:       $C_{9}=\\left[ C_{13} - \\frac{C_{16}}{x_{0}}\\right]$<br>\n",
    "Equation:       $C_{10} - C_{15} + C_{16}=0$    ,       Solution:       $C_{10}=\\left[ C_{15} - C_{16}\\right]$<br>\n",
    "Equation:       $C_{11} - C_{14} - C_{16}=0$    ,       Solution:       $C_{11}=\\left[ C_{14} + C_{16}\\right]$<br>\n",
    "Equation:       $C_{12} + C_{16}=0$     ,       Solution:       $C_{12}=\\left[ - C_{16}\\right]$<br>\n",
    "### Output from the substitution step\n",
    "Solution *before* algebraic substitution:<br>\n",
    "\\begin{equation}\\left[\\begin{matrix}C_{1} - C_{14} x_{0} + \\frac{C_{5} x_{0}^{2}}{2} + \\frac{C_{9} x_{0}^{2}}{2}\\\\C_{2}\\\\C_{3}\\\\C_{4}\\\\C_{5}\\\\- C_{5} x_{0} + C_{6} + C_{9} x_{0}\\\\C_{13} x_{0} - C_{5} x_{0} + C_{7}\\\\- C_{13} x_{0} + C_{8} - C_{9} x_{0}\\\\C_{9}\\\\C_{10} + C_{5} x_{0} - C_{9} x_{0}\\\\C_{11} - C_{13} x_{0} - C_{5} x_{0}\\\\C_{12} + C_{13} x_{0} - C_{9} x_{0}\\\\C_{13}\\\\C_{14} - C_{5} x_{0} - C_{9} x_{0}\\\\- C_{13} x_{0} + C_{15} + C_{5} x_{0}\\\\- C_{13} x_{0} + C_{16} + C_{9} x_{0}\\end{matrix}\\right]\\end{equation}\n",
    "Solution *after* algebraic substitution:<br>\n",
    "\\begin{equation}\\left[\\begin{matrix}C_{1} + C_{13} x_{0}^{2} - C_{14} x_{0} - \\frac{C_{15} x_{0}}{2} - \\frac{C_{16} x_{0}}{2}\\\\0\\\\0\\\\0\\\\C_{13} - \\frac{C_{15}}{x_{0}}\\\\0\\\\0\\\\- 2 C_{13} x_{0} + C_{14} + C_{15} + C_{16}\\\\C_{13} - \\frac{C_{16}}{x_{0}}\\\\0\\\\- 2 C_{13} x_{0} + C_{14} + C_{15} + C_{16}\\\\0\\\\C_{13}\\\\- 2 C_{13} x_{0} + C_{14} + C_{15} + C_{16}\\\\0\\\\0\\end{matrix}\\right]\\end{equation}\n"
   ]
  },
  {
   "cell_type": "markdown",
   "metadata": {},
   "source": [
    "### Splitting up the tangents and checking the results\n",
    "constants_in_final_solution\n",
    "\\begin{equation*}\\left[\\begin{matrix}C_{13}\\\\C_{16}\\\\C_{15}\\\\C_{14}\\\\C_{1}\\end{matrix}\\right]\\end{equation*}\n",
    "Number of component tangents before removing:   5\n",
    "Tangent:<br>\n",
    "\\begin{equation*}\\left[ x_{0}^{2}, \\  - 2 x_{0} x_{1} + 1, \\  - 2 x_{0} x_{2} + 1, \\  - 2 x_{0} x_{3} + 1\\right]\\end{equation*}\n",
    "Lin syms<br>\n",
    "\\begin{equation*}\\left[ 0, \\  0, \\  0\\right]\\end{equation*}\n",
    "Tangent:<br>\n",
    "\\begin{equation*}\\left[ - \\frac{x_{0}}{2}, \\  x_{1}, \\  x_{2} - \\frac{1}{x_{0}}, \\  x_{3}\\right]\\end{equation*}\n",
    "Lin syms<br>\n",
    "\\begin{equation*}\\left[ - \\frac{x_{1} x_{2}}{2} - \\frac{x_{1} x_{3}}{2} + \\frac{x_{2} x_{3}}{2} + \\frac{x_{1}}{x_{0}} - \\frac{x_{3}}{x_{0}}, \\  - \\frac{x_{1} x_{2}}{2} + \\frac{x_{1} x_{3}}{2} - \\frac{x_{2} x_{3}}{2} + \\frac{x_{1}}{x_{0}} + \\frac{x_{3}}{x_{0}} - \\frac{1}{x_{0}^{2}}, \\  \\frac{x_{1} x_{2}}{2} - \\frac{x_{1} x_{3}}{2} - \\frac{x_{2} x_{3}}{2} - \\frac{x_{1}}{x_{0}} + \\frac{x_{3}}{x_{0}}\\right]\\end{equation*}\n",
    "Tangent:<br>\n",
    "\\begin{equation*}\\left[ - \\frac{x_{0}}{2}, \\  x_{1} - \\frac{1}{x_{0}}, \\  x_{2}, \\  x_{3}\\right]\\end{equation*}\n",
    "Lin syms<br>\n",
    "\\begin{equation*}\\left[ - \\frac{x_{1} x_{2}}{2} - \\frac{x_{1} x_{3}}{2} + \\frac{x_{2} x_{3}}{2} + \\frac{x_{2}}{x_{0}} + \\frac{x_{3}}{x_{0}} - \\frac{1}{x_{0}^{2}}, \\  - \\frac{x_{1} x_{2}}{2} + \\frac{x_{1} x_{3}}{2} - \\frac{x_{2} x_{3}}{2} + \\frac{x_{2}}{x_{0}} - \\frac{x_{3}}{x_{0}}, \\  \\frac{x_{1} x_{2}}{2} - \\frac{x_{1} x_{3}}{2} - \\frac{x_{2} x_{3}}{2} - \\frac{x_{2}}{x_{0}} + \\frac{x_{3}}{x_{0}}\\right]\\end{equation*}\n",
    "Tangent:<br>\n",
    "\\begin{equation*}\\left[ - x_{0}, \\  x_{1}, \\  x_{2}, \\  x_{3}\\right]\\end{equation*}\n",
    "Lin syms<br>\n",
    "\\begin{equation*}\\left[ 0, \\  0, \\  0\\right]\\end{equation*}\n",
    "Tangent:<br>\n",
    "\\begin{equation*}\\left[ 1, \\  0, \\  0, \\  0\\right]\\end{equation*}\n",
    "Lin syms<br>\n",
    "\\begin{equation*}\\left[ 0, \\  0, \\  0\\right]\\end{equation*}\n",
    "Number of component tangents after removing:    3\n"
   ]
  },
  {
   "cell_type": "markdown",
   "metadata": {},
   "source": [
    "\n"
   ]
  },
  {
   "cell_type": "code",
   "execution_count": null,
   "metadata": {},
   "outputs": [],
   "source": []
  }
 ],
 "metadata": {
  "kernelspec": {
   "display_name": "Python 3",
   "language": "python",
   "name": "python3"
  },
  "language_info": {
   "codemirror_mode": {
    "name": "ipython",
    "version": 3
   },
   "file_extension": ".py",
   "mimetype": "text/x-python",
   "name": "python",
   "nbconvert_exporter": "python",
   "pygments_lexer": "ipython3",
   "version": "3.8.3"
  }
 },
 "nbformat": 4,
 "nbformat_minor": 4
}
