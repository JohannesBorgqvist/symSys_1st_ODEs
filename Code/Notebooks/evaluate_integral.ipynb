{
 "cells": [
  {
   "cell_type": "markdown",
   "id": "c80b373d",
   "metadata": {},
   "source": [
    "# Integration by parts with arbitrary functions in *sympy*\n",
    "*Date:* 2021-10-04,<br>\n",
    "*Written by:* Johannes Borgqvist. <br>\n",
    "\n",
    "One of the last steps in order to finish the writing of the code is to be able to evaluate integrals by using integration by parts on an integral where the integrand contains an unknown function or more specifically the derivative of an unknown function. To this end, this notebook is an attempt to start writing the function(s) required to simplify these integrals. Also, the integrals should be definite where the integration is conducted with the help of a dummy variable.\n",
    "\n",
    "More concretely, consider the following integral\n",
    "\n",
    "$$\\int^{t}_{0}\\dfrac{\\mathrm{d}f(s)}{\\mathrm{d}s}e^{ks}\\mathrm{d}s$$\n",
    "where $t$ is the variable, $f$ is the unknown function, $s$ is the dummy variable and $k$ is an arbitrary constant. Then the integration by parts of the above integral looks as follows:\n",
    "\\begin{align}\n",
    "\\int^{t}_{0}\\dfrac{\\mathrm{d}f(s)}{\\mathrm{d}s}e^{ks}\\mathrm{d}s&=\\left[f(s)e^{ks}\\right]^{t}_{0}-k\\int^{t}_{0}f(s)e^{ks}\\mathrm{d}s\\\\\n",
    "&=f(t)e^{kt}-\\underset{=C}{\\underbrace{f(0)}}-k\\int^{t}_{0}f(s)e^{ks}\\mathrm{d}s\\\\\n",
    "\\Longrightarrow \\int^{t}_{0}\\dfrac{\\mathrm{d}f(s)}{\\mathrm{d}s}e^{ks}\\mathrm{d}s&=f(t)e^{kt}-C-k\\int^{t}_{0}f(s)e^{ks}\\mathrm{d}s\n",
    "\\end{align}\n",
    "    where $C$ is an arbitrary integration constant. So, we need to be able to evaluate this integral using integration by parts. So let's see if we can work with this. "
   ]
  },
  {
   "cell_type": "code",
   "execution_count": 1,
   "id": "279d84fd",
   "metadata": {},
   "outputs": [
    {
     "name": "stdout",
     "output_type": "stream",
     "text": [
      "\n",
      "\tInitial Integral:\n",
      "\t\t\\int\\limits_{0}^{t} e^{k_{1} t} \\frac{d}{d t} f{\\left(t \\right)}\\, dt\n",
      "\n",
      "\n",
      "\tEvaluated Integral:\n",
      "\t\t\\int\\limits_{0}^{t} e^{k_{1} t} \\frac{d}{d t} f{\\left(t \\right)}\\, dt\n",
      "\n"
     ]
    }
   ],
   "source": [
    "# Import our beloved libraries\n",
    "from sympy import *\n",
    "from sympy.core.function import *\n",
    "# Create two arbitrary coefficients\n",
    "k1 = Symbol('k1')\n",
    "k2 = Symbol('k2')\n",
    "# Create two arbitrary integration coefficients\n",
    "C1 = Symbol('C1')\n",
    "C2 = Symbol('C2')\n",
    "# Create the variable which we integrate with\n",
    "t = Symbol('t')\n",
    "# Create the dummy variable with which we integrate with\n",
    "s = Symbol('s')\n",
    "# Create two arbitrary expressions\n",
    "f = symbols('f',cls=Function)\n",
    "g = symbols('g',cls=Function)\n",
    "# Define an expression for the integrand\n",
    "integrand = diff(f(t),t)*exp(k1*t)\n",
    "#integrand = Derivative(f(t),t)*exp(k*t)\n",
    "# Create an integral\n",
    "#integral = Integral(integrand,t,(t,0,t))\n",
    "integral = integrate(integrand,(t,0,t))\n",
    "# Print the integral\n",
    "print(\"\\n\\tInitial Integral:\\n\\t\\t%s\\n\"%(latex(integral)))\n",
    "# Evaluate integral\n",
    "integral = integral.doit()\n",
    "# Print the evaluated integral\n",
    "print(\"\\n\\tEvaluated Integral:\\n\\t\\t%s\\n\"%(latex(integral)))\n",
    "# Create a coefficient counter\n",
    "coefficient_counter = 1"
   ]
  },
  {
   "cell_type": "markdown",
   "id": "689c493d",
   "metadata": {},
   "source": [
    "So it seems like the built-in \"*doit*\" command does not do the trick. So we need to implement something by ourselves. \n",
    "\n",
    "$$\\int\\limits_{0}^{t} e^{k t} \\frac{d}{d t} f{\\left(t \\right)}\\, dt$$"
   ]
  },
  {
   "cell_type": "code",
   "execution_count": 2,
   "id": "aef9818c",
   "metadata": {},
   "outputs": [
    {
     "name": "stdout",
     "output_type": "stream",
     "text": [
      "\n",
      "\tFactors in integrand:\t\t\t(Derivative(f(t), t), exp(k1*t))\n",
      "\n"
     ]
    }
   ],
   "source": [
    "# Okay, so can we extract all factors?\n",
    "factors_in_integrand = integrand.factor().args\n",
    "print(\"\\n\\tFactors in integrand:\\t\\t\\t%s\\n\"%(str(factors_in_integrand)))"
   ]
  },
  {
   "cell_type": "markdown",
   "id": "afe80638",
   "metadata": {},
   "source": [
    "So that is brilliant, hey? Let's see if we can identify the derivatives here... Perhaps, we do not need to find the derivatives themselves, but rather we can find the undefined functions! "
   ]
  },
  {
   "cell_type": "code",
   "execution_count": 3,
   "id": "ce3dd607",
   "metadata": {},
   "outputs": [
    {
     "name": "stdout",
     "output_type": "stream",
     "text": [
      "\t\tThe derivative term is:\n",
      "\t\t\t\\frac{d}{d t} f{\\left(t \\right)}\n",
      "\n",
      "\t\tThe primitive function is:\n",
      "\t\t\tf{\\left(t \\right)}\n",
      "\n"
     ]
    }
   ],
   "source": [
    "# The derivative term\n",
    "derivative_term = 0\n",
    "# Loop over our factors in the integrand \n",
    "# and see if any of them contain a derivative \n",
    "for factor in factors_in_integrand:\n",
    "    # Find the arbitrary functions\n",
    "    a_f = list(factor.atoms(AppliedUndef))\n",
    "    if len(a_f)>0:\n",
    "        derivative_term = factor\n",
    "# Print the derivative term\n",
    "print(\"\\t\\tThe derivative term is:\\n\\t\\t\\t%s\\n\"%(latex(derivative_term)))\n",
    "# Primitive function\n",
    "primitive_function = Integral(derivative_term,t).doit()\n",
    "# Print the primitive function\n",
    "print(\"\\t\\tThe primitive function is:\\n\\t\\t\\t%s\\n\"%(latex(primitive_function)))"
   ]
  },
  {
   "cell_type": "markdown",
   "id": "3043b08e",
   "metadata": {},
   "source": [
    "Ok, so now we are onto something. Let's put this to the test. Let's say we have two expressions\n",
    "\n",
    "\\begin{align}\n",
    " \\int^{t}_{0}\\dfrac{\\mathrm{d}f(s)}{\\mathrm{d}s}e^{k_1 s}\\mathrm{d}s+\\int^{t}_{0}\\dfrac{\\mathrm{d}f(s)}{\\mathrm{d}s}e^{k_2 s}\\mathrm{d}s&=f(t)(e^{k_1 t}+e^{k_2 t})-2C_1-k_1\\int^{t}_{0}f(s)e^{k_1 s}\\mathrm{d}s-k_2\\int^{t}_{0}f(s)e^{k_2 s}\\mathrm{d}s,\\\\\n",
    " \\int^{t}_{0}\\dfrac{\\mathrm{d}f(s)}{\\mathrm{d}s}e^{k_1 s}\\mathrm{d}s+\\int^{t}_{0}\\dfrac{\\mathrm{d}g(s)}{\\mathrm{d}s}e^{k_2 s}\\mathrm{d}s&=f(t)e^{k_1 t}+g(t)e^{k_2 t}-C_1-C_2-k_1\\int^{t}_{0}f(s)e^{k_1 s}\\mathrm{d}s-k_2\\int^{t}_{0}g(s)e^{k_2 s}\\mathrm{d}s.\\\\\n",
    "\\end{align}\n",
    "Then, we want to write a function which re-writes an integral expressions where a derivative is located in the integrands and then introduces one arbitrary coefficient in the first case and a second arbitrary integral in the second case. \n",
    "\n",
    "First we need to see if it can identify the number of arbitrary functions in a composite integrand. "
   ]
  },
  {
   "cell_type": "code",
   "execution_count": 4,
   "id": "fd37999d",
   "metadata": {},
   "outputs": [
    {
     "name": "stdout",
     "output_type": "stream",
     "text": [
      "\n",
      "\t\tComposite integrand 1:\n",
      "\t\t\te^{k_{1} t} \\frac{d}{d t} f{\\left(t \\right)} + e^{k_{2} t} \\frac{d}{d t} g{\\left(t \\right)}\n",
      "\n",
      "\n",
      "\t\tComposite integrand 2:\n",
      "\t\t\te^{k_{1} t} \\frac{d}{d t} f{\\left(t \\right)} + e^{k_{2} t} \\frac{d}{d t} f{\\left(t \\right)}\n",
      "\n",
      "\n",
      "\t\tArbitrary functions in 1:\n",
      "\t\t\t\\left\\{f{\\left(t \\right)}, g{\\left(t \\right)}\\right\\}\n",
      "\n",
      "\n",
      "\t\tArbitrary functions in 2:\n",
      "\t\t\t\\left\\{f{\\left(t \\right)}\\right\\}\n",
      "\n",
      "\n",
      "\t\tTerms in integrand 1:\n",
      "\t\t\t\\left( e^{k_{1} t} \\frac{d}{d t} f{\\left(t \\right)}, \\  e^{k_{2} t} \\frac{d}{d t} g{\\left(t \\right)}\\right)\n",
      "\n",
      "\t\tTerms in integrand 2:\n",
      "\t\t\t\\left( e^{k_{1} t} \\frac{d}{d t} f{\\left(t \\right)}, \\  e^{k_{2} t} \\frac{d}{d t} f{\\left(t \\right)}\\right)\n"
     ]
    }
   ],
   "source": [
    "integrand_composite_1 = integrand + diff(g(t),t)*exp(k2*t)\n",
    "integrand_composite_2 = integrand + diff(f(t),t)*exp(k2*t)\n",
    "print(\"\\n\\t\\tComposite integrand 1:\\n\\t\\t\\t%s\\n\"%(latex(integrand_composite_1)))\n",
    "print(\"\\n\\t\\tComposite integrand 2:\\n\\t\\t\\t%s\\n\"%(latex(integrand_composite_2)))\n",
    "arb_funcs_1 = integrand_composite_1.atoms(AppliedUndef)\n",
    "arb_funcs_2 = integrand_composite_2.atoms(AppliedUndef)\n",
    "\n",
    "#print(integrand_composite_1.args)\n",
    "#print(integrand_composite_2.args)\n",
    "print(\"\\n\\t\\tArbitrary functions in 1:\\n\\t\\t\\t%s\\n\"%(latex(arb_funcs_1)))\n",
    "print(\"\\n\\t\\tArbitrary functions in 2:\\n\\t\\t\\t%s\\n\"%(latex(arb_funcs_2)))\n",
    "\n",
    "print(\"\\n\\t\\tTerms in integrand 1:\\n\\t\\t\\t%s\"%(latex(integrand_composite_1.args)))\n",
    "print(\"\\n\\t\\tTerms in integrand 2:\\n\\t\\t\\t%s\"%(latex(integrand_composite_2.args)))"
   ]
  },
  {
   "cell_type": "markdown",
   "id": "0e8055ac",
   "metadata": {},
   "source": [
    "Ok, let's see if we might be able to write a function here. We'll need three things\n",
    "1. \"function_list\" which is a list of arbitrary functions,\n",
    "2. \"constant_list\" which is a list of arbitrary constants coupled to the arbitrary functions,\n",
    "3. \"integrand_vector\" which is a list of the integrand that are to be evaluated using integration by parts.\n",
    "\n"
   ]
  },
  {
   "cell_type": "code",
   "execution_count": 5,
   "id": "9c6c69b6",
   "metadata": {},
   "outputs": [],
   "source": [
    "function_list = [f, g]\n",
    "constant_list = [C1, C2]\n",
    "integrand_list = [integrand_composite_1, integrand_composite_2]"
   ]
  },
  {
   "cell_type": "code",
   "execution_count": 6,
   "id": "884d0263",
   "metadata": {},
   "outputs": [],
   "source": [
    "def integration_by_parts(function_list,constant_list,integrand_list,variable):\n",
    "    # At the end, we want to return the correct integrals\n",
    "    integral_list = []\n",
    "    # Loop through the integrands\n",
    "    for integrand in integrand_list:\n",
    "        # Allocate a temporary integral\n",
    "        temp_int = 0\n",
    "        # Split this into further parts and solve these\n",
    "        for sub_integrand in integrand.args:\n",
    "            # Now, firstly we isolate the factors\n",
    "            factors_in_subintegrand = sub_integrand.factor().args\n",
    "            # The derivative term\n",
    "            derivative_term = 0\n",
    "            # Loop over our factors in the integrand \n",
    "            # and see if any of them contain a derivative \n",
    "            for factor in factors_in_subintegrand:\n",
    "                # Find the arbitrary functions\n",
    "                a_f = list(factor.atoms(AppliedUndef))\n",
    "                if len(a_f)>0:\n",
    "                    derivative_term = factor\n",
    "            # The other func is the coefficient of the derivative term\n",
    "            other_func = sub_integrand.coeff(derivative_term)\n",
    "            # Calculate the primitive function\n",
    "            primitive_function = Integral(derivative_term,variable).doit()\n",
    "            # Let's add the three terms to our temporary integral\n",
    "            temp_int += primitive_function*other_func\n",
    "            # Loop over integration constants as well\n",
    "            for f_i in range(len(function_list)):\n",
    "                if function_list[f_i](variable)==primitive_function:\n",
    "                    temp_int += -constant_list[f_i]*other_func.subs(variable,0)\n",
    "            # Lastly, we add the integral term\n",
    "            new_integrand = primitive_function*Derivative(other_func,variable).doit()\n",
    "            temp_int += -Integral(new_integrand,(variable,0,variable))\n",
    "        # Add the evaluated integrals to our integral list\n",
    "        integral_list.append(temp_int.doit())\n",
    "    # Return the integral list\n",
    "    return integral_list"
   ]
  },
  {
   "cell_type": "code",
   "execution_count": 7,
   "id": "bc5b4740",
   "metadata": {},
   "outputs": [
    {
     "name": "stdout",
     "output_type": "stream",
     "text": [
      "\\begin{align*}\n",
      "\\int\\limits_{0}^{t} \\left(e^{k_{1} t} \\frac{d}{d t} f{\\left(t \\right)} + e^{k_{2} t} \\frac{d}{d t} g{\\left(t \\right)}\\right)\\, dt&=- C_{1} - C_{2} - k_{1} \\int\\limits_{0}^{t} f{\\left(t \\right)} e^{k_{1} t}\\, dt - k_{2} \\int\\limits_{0}^{t} g{\\left(t \\right)} e^{k_{2} t}\\, dt + f{\\left(t \\right)} e^{k_{1} t} + g{\\left(t \\right)} e^{k_{2} t}\\\\\n",
      "\\int\\limits_{0}^{t} \\left(e^{k_{1} t} \\frac{d}{d t} f{\\left(t \\right)} + e^{k_{2} t} \\frac{d}{d t} f{\\left(t \\right)}\\right)\\, dt&=- 2 C_{1} - k_{1} \\int\\limits_{0}^{t} f{\\left(t \\right)} e^{k_{1} t}\\, dt - k_{2} \\int\\limits_{0}^{t} f{\\left(t \\right)} e^{k_{2} t}\\, dt + f{\\left(t \\right)} e^{k_{1} t} + f{\\left(t \\right)} e^{k_{2} t}\\\\\n",
      "\\end{align*}\n"
     ]
    }
   ],
   "source": [
    "# Let's test our function\n",
    "integral_list = integration_by_parts(function_list,constant_list,integrand_list,t)\n",
    "# Print the results of our calculations\n",
    "print(\"\\\\begin{align*}\")\n",
    "# Loop over them and print them one by one\n",
    "for index in range(len(integrand_list)):\n",
    "    print(\"%s&=%s\\\\\\\\\"%(latex(Integral(integrand_list[index],(t,0,t))),latex(integral_list[index])))\n",
    "print(\"\\\\end{align*}\")"
   ]
  },
  {
   "cell_type": "markdown",
   "id": "c17aa8bb",
   "metadata": {},
   "source": [
    "The results of our calculations are:\n",
    "\n",
    "\\begin{align*}\n",
    "\\int\\limits_{0}^{t} \\left(e^{k_{1} t} \\frac{d}{d t} f{\\left(t \\right)} + e^{k_{2} t} \\frac{d}{d t} g{\\left(t \\right)}\\right)\\, dt&=- C_{1} - C_{2} - k_{1} \\int\\limits_{0}^{t} f{\\left(t \\right)} e^{k_{1} t}\\, dt - k_{2} \\int\\limits_{0}^{t} g{\\left(t \\right)} e^{k_{2} t}\\, dt + f{\\left(t \\right)} e^{k_{1} t} + g{\\left(t \\right)} e^{k_{2} t}\\\\\n",
    "\\int\\limits_{0}^{t} \\left(e^{k_{1} t} \\frac{d}{d t} f{\\left(t \\right)} + e^{k_{2} t} \\frac{d}{d t} f{\\left(t \\right)}\\right)\\, dt&=- 2 C_{1} - k_{1} \\int\\limits_{0}^{t} f{\\left(t \\right)} e^{k_{1} t}\\, dt - k_{2} \\int\\limits_{0}^{t} f{\\left(t \\right)} e^{k_{2} t}\\, dt + f{\\left(t \\right)} e^{k_{1} t} + f{\\left(t \\right)} e^{k_{2} t}\\\\\n",
    "\\end{align*}\n",
    "And I mean this looks marvelous does it not? We've actually implemented the integration by parts correctly! "
   ]
  },
  {
   "cell_type": "code",
   "execution_count": null,
   "id": "978fcd80",
   "metadata": {},
   "outputs": [],
   "source": []
  }
 ],
 "metadata": {
  "kernelspec": {
   "display_name": "Python 3",
   "language": "python",
   "name": "python3"
  },
  "language_info": {
   "codemirror_mode": {
    "name": "ipython",
    "version": 3
   },
   "file_extension": ".py",
   "mimetype": "text/x-python",
   "name": "python",
   "nbconvert_exporter": "python",
   "pygments_lexer": "ipython3",
   "version": "3.8.8"
  }
 },
 "nbformat": 4,
 "nbformat_minor": 5
}
