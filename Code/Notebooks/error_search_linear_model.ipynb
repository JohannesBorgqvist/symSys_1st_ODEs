{
 "cells": [
  {
   "cell_type": "markdown",
   "metadata": {},
   "source": [
    "# Error search linear model\n",
    "Apparently there are some problems in the last step where we try to solve the general linear model\n",
    "\n",
    "\\begin{align}\n",
    "\\dfrac{\\mathrm{d}u}{\\mathrm{d}t}&=a(t)u+b(t)v,\\\\\n",
    "\\dfrac{\\mathrm{d}v}{\\mathrm{d}t}&=c(t)u+d(t)v.\n",
    "\\end{align}\n",
    "So, the aim of this notebook is to try and find this error. The first error message comes when the algebraic equations are solved. Let's see what we have here by printing out the various parts of the codes."
   ]
  },
  {
   "cell_type": "markdown",
   "metadata": {},
   "source": [
    "## Finding the error\n",
    "\n",
    "$$\\left[\\begin{matrix}0 & 1 & 0 & 0 & 0 & 0 & 0 & 0 & 0\\\\0 & 0 & 1 & 0 & 0 & 0 & 0 & 0 & 0\\end{matrix}\\right]$$\n",
    "$$\\left[ \\operatorname{c_{0 2}}{\\left(x_{0} \\right)}, \\  \\operatorname{c_{0 1}}{\\left(x_{0} \\right)}\\right]$$\n",
    "(1, 2)\n",
    "$$\\left[\\begin{matrix}\\operatorname{c_{0 0}}\\\\\\operatorname{c_{0 2}}\\\\\\operatorname{c_{0 1}}\\\\\\operatorname{c_{1 0}}\\\\\\operatorname{c_{1 2}}\\\\\\operatorname{c_{1 1}}\\\\\\operatorname{c_{2 0}}\\\\\\operatorname{c_{2 2}}\\\\\\operatorname{c_{2 1}}\\end{matrix}\\right]$$\n"
   ]
  },
  {
   "cell_type": "code",
   "execution_count": null,
   "metadata": {},
   "outputs": [],
   "source": []
  }
 ],
 "metadata": {
  "kernelspec": {
   "display_name": "Python 3",
   "language": "python",
   "name": "python3"
  },
  "language_info": {
   "codemirror_mode": {
    "name": "ipython",
    "version": 3
   },
   "file_extension": ".py",
   "mimetype": "text/x-python",
   "name": "python",
   "nbconvert_exporter": "python",
   "pygments_lexer": "ipython3",
   "version": "3.8.3"
  }
 },
 "nbformat": 4,
 "nbformat_minor": 4
}
