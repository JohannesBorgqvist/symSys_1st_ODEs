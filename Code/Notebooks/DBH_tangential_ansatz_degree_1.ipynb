{
 "cells": [
  {
   "cell_type": "markdown",
   "metadata": {},
   "source": [
    "# Error search DBH\n",
    "*Date:* 2021-07-20<br>\n",
    "\n",
    "Now there is a problem with the implementation of the symmetry algorithm applied to the DBH model which we will try to find. The DBH model is formulated as follows:<br>\n",
    "\n",
    "\\begin{align*}\n",
    "\\dfrac{\\mathrm{d}w_{1}}{\\mathrm{d}t}&=-w1*w2 - w1*w3 + w2*w3\\\\\n",
    "\\dfrac{\\mathrm{d}w_{2}}{\\mathrm{d}t}&=-w1*w2 + w1*w3 - w2*w3\\\\\n",
    "\\dfrac{\\mathrm{d}w_{3}}{\\mathrm{d}t}&=w1*w2 - w1*w3 - w2*w3\\\\\n",
    "\\end{align*}\n",
    "             \n",
    "So let's see what goes wrong here...\n"
   ]
  },
  {
   "cell_type": "code",
   "execution_count": null,
   "metadata": {},
   "outputs": [],
   "source": []
  }
 ],
 "metadata": {
  "kernelspec": {
   "display_name": "Python 3",
   "language": "python",
   "name": "python3"
  },
  "language_info": {
   "codemirror_mode": {
    "name": "ipython",
    "version": 3
   },
   "file_extension": ".py",
   "mimetype": "text/x-python",
   "name": "python",
   "nbconvert_exporter": "python",
   "pygments_lexer": "ipython3",
   "version": "3.8.3"
  }
 },
 "nbformat": 4,
 "nbformat_minor": 4
}
