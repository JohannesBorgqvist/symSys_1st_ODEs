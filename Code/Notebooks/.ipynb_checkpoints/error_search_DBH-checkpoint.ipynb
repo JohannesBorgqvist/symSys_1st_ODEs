{
 "cells": [
  {
   "cell_type": "markdown",
   "metadata": {},
   "source": [
    "# Error search DBH\n",
    "Now there is a problem with the DBH model. The DBH model is formulated as follows:\n",
    "\n",
    "\\begin{align*}\n",
    "\\dfrac{\\mathrm{d}w_1}{\\mathrm{d}t}&=w_3w_2-w_1w_3-w_1w_2,\\\\\n",
    "\\dfrac{\\mathrm{d}w_2}{\\mathrm{d}t}&=w_1w_3-w_2w_1-w_2w_3,\\\\\n",
    "\\dfrac{\\mathrm{d}w_3}{\\mathrm{d}t}&=w_2w_1-w_3w_2-w_3w_1.\\\\\n",
    "\\end{align*}\n"
   ]
  },
  {
   "cell_type": "code",
   "execution_count": null,
   "metadata": {},
   "outputs": [],
   "source": []
  }
 ],
 "metadata": {
  "kernelspec": {
   "display_name": "Python 3",
   "language": "python",
   "name": "python3"
  },
  "language_info": {
   "codemirror_mode": {
    "name": "ipython",
    "version": 3
   },
   "file_extension": ".py",
   "mimetype": "text/x-python",
   "name": "python",
   "nbconvert_exporter": "python",
   "pygments_lexer": "ipython3",
   "version": "3.8.3"
  }
 },
 "nbformat": 4,
 "nbformat_minor": 4
}
