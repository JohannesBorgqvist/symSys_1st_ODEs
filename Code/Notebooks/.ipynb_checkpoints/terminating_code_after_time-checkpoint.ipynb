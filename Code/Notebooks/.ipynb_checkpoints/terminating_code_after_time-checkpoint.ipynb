{
 "cells": [
  {
   "cell_type": "code",
   "execution_count": null,
   "id": "58446983",
   "metadata": {},
   "outputs": [],
   "source": [
    "import sys\n",
    "\n",
    "from multiprocessing import Process\n",
    "\n",
    "integer=sys.argv[1]\n",
    "\n",
    "init=map(int, integer.strip('[]'))\n",
    "\n",
    "num=list(init)[0]\n",
    "\n",
    "def exclaim(int):\n",
    "\n",
    "    time.sleep(int)\n",
    "\n",
    "    print(\"You were very patient!\")\n",
    "\n",
    "if __name__ == '__main__':\n",
    "\n",
    "    program = Process(target=exclaim, args=(num,))\n",
    "\n",
    "    program.start()\n",
    "\n",
    "    program.join(timeout=5)\n",
    "\n",
    "    program.terminate()"
   ]
  }
 ],
 "metadata": {
  "kernelspec": {
   "display_name": "Python 3",
   "language": "python",
   "name": "python3"
  },
  "language_info": {
   "codemirror_mode": {
    "name": "ipython",
    "version": 3
   },
   "file_extension": ".py",
   "mimetype": "text/x-python",
   "name": "python",
   "nbconvert_exporter": "python",
   "pygments_lexer": "ipython3",
   "version": "3.8.8"
  }
 },
 "nbformat": 4,
 "nbformat_minor": 5
}
