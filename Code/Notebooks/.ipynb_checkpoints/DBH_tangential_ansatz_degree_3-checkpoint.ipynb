{
 "cells": [
  {
   "cell_type": "markdown",
   "metadata": {},
   "source": [
    "# DBH model all details for the case where the degree of the tangential ansätze is 3\n",
    "*Date:* 2021-07-21<br>\n",
    "\n",
    "Now there is a problem with the implementation of the symmetry algorithm applied to the DBH model which we will try to find. The DBH model is formulated as follows:<br>\n",
    "\n",
    "\\begin{align*}\n",
    "\\dfrac{\\mathrm{d}w_{1}}{\\mathrm{d}t}&=- w_{1} w_{2} - w_{1} w_{3} + w_{2} w_{3}\\\\\n",
    "\\dfrac{\\mathrm{d}w_{2}}{\\mathrm{d}t}&=- w_{1} w_{2} + w_{1} w_{3} - w_{2} w_{3}\\\\\n",
    "\\dfrac{\\mathrm{d}w_{3}}{\\mathrm{d}t}&=w_{1} w_{2} - w_{1} w_{3} - w_{2} w_{3}\\\\\n",
    "\\end{align*}\n",
    "             \n",
    "So let's see what goes wrong here...\n"
   ]
  },
  {
   "cell_type": "markdown",
   "metadata": {},
   "source": [
    "## The tangential ansätze and the coefficients\n",
    "The tangential ansätze (third order polynomial): \n",
    "\n",
    "\\begin{align*}                                                                                                      \\xi&=w_{1}^{3} \\operatorname{c_{0 1}}{\\left(t \\right)} + w_{1}^{2} w_{2} \\operatorname{c_{0 2}}{\\left(t \\right)} + w_{1}^{2} w_{3} \\operatorname{c_{0 3}}{\\left(t \\right)} + w_{1}^{2} \\operatorname{c_{0 4}}{\\left(t \\right)} + w_{1} w_{2}^{2} \\operatorname{c_{0 5}}{\\left(t \\right)} + w_{1} w_{2} w_{3} \\operatorname{c_{0 6}}{\\left(t\\right)} + w_{1} w_{2} \\operatorname{c_{0 7}}{\\left(t \\right)} + w_{1} w_{3}^{2} \\operatorname{c_{0 8}}{\\left(t \\right)} + w_{1} w_{3} \\operatorname{c_{0 9}}{\\left(t \\right)} + w_{1} \\operatorname{c_{0 10}}{\\left(t \\right)} + w_{2}^{3} \\operatorname{c_{0 11}}{\\left(t \\right)} + w_{2}^{2} w_{3} \\operatorname{c_{0 12}}{\\left(t \\right)} + w_{2}^{2} \\operatorname{c_{0 13}}{\\left(t \\right)} + w_{2} w_{3}^{2} \\operatorname{c_{0 14}}{\\left(t \\right)} + w_{2} w_{3} \\operatorname{c_{0 15}}{\\left(t \\right)} + w_{2} \\operatorname{c_{0 16}}{\\left(t \\right)} + w_{3}^{3} \\operatorname{c_{0 17}}{\\left(t \\right)} + w_{3}^{2} \\operatorname{c_{0 18}}{\\left(t \\right)} + w_{3} \\operatorname{c_{0 19}}{\\left(t \\right)} + \\operatorname{c_{0 0}}{\\left(t \\right)}\\\\                                \\eta_{1}&=w_{1}^{3} \\operatorname{c_{1 1}}{\\left(t \\right)} + w_{1}^{2} w_{2} \\operatorname{c_{1 2}}{\\left(t \\right)} + w_{1}^{2} w_{3} \\operatorname{c_{1 3}}{\\left(t \\right)} + w_{1}^{2} \\operatorname{c_{1 4}}{\\left(t \\right)} + w_{1} w_{2}^{2} \\operatorname{c_{1 5}}{\\left(t \\right)} + w_{1} w_{2} w_{3} \\operatorname{c_{1 6}}{\\left(t \\right)} + w_{1} w_{2} \\operatorname{c_{1 7}}{\\left(t \\right)} + w_{1} w_{3}^{2} \\operatorname{c_{1 8}}{\\left(t \\right)} + w_{1} w_{3} \\operatorname{c_{1 9}}{\\left(t \\right)} + w_{1} \\operatorname{c_{1 10}}{\\left(t \\right)} + w_{2}^{3} \\operatorname{c_{1 11}}{\\left(t \\right)} + \n",
    "w_{2}^{2} w_{3} \\operatorname{c_{1 12}}{\\left(t \\right)} + w_{2}^{2} \\operatorname{c_{1 13}}{\\left(t \\right)} + w_{2} w_{3}^{2} \\operatorname{c_{1 14}}{\\left(t \\right)} + w_{2} w_{3} \\operatorname{c_{1 15}}{\\left(t \\right)} + w_{2} \\operatorname{c_{1 16}}{\\left(t \\right)} + w_{3}^{3} \\operatorname{c_{1 17}}\n",
    "{\\left(t \\right)} + w_{3}^{2} \\operatorname{c_{1 18}}{\\left(t \\right)} + w_{3} \\operatorname{c_{1 19}}{\\left(t \\right)} + \\operatorname{c_{1 0}}{\\left(t \\right)}\\\\                             \n",
    "\\eta_{2}&=w_{1}^{3} \\operatorname{c_{2 1}}{\\left(t \\right)} + w_{1}^{2} w_{2} \\operatorname{c_{2 2}}{\\left(t \\right)} + w_{1}^{2} w_{3} \\operatorname{c_{2 3}}{\\left(t \\right)} + w_{1}^{2} \\operatorname{c_{2 4}}{\\left(t \\right)} + w_{1} w_{2}^{2} \\operatorname{c_{2 5}}{\\left(t \\right)} + w_{1} w_{2} w_{3} \\operatorname{c_{2 6}}{\\left(t \\right)} + w_{1} w_{2} \\operatorname{c_{2 7}}{\\left(t \\right)} + w_{1} w_{3}^{2} \\operatorname{c_{2 8}}{\\left(t \\right)} + w_{1} w_{3} \\operatorname{c_{2 9}}{\\left(t \\right)} + w_{1} \\operatorname{c_{2 10}}{\\left(t \\right)} + w_{2}^{3} \\operatorname{c_{2 11}}{\\left(t \\right)} + \n",
    "w_{2}^{2} w_{3} \\operatorname{c_{2 12}}{\\left(t \\right)} + w_{2}^{2} \\operatorname{c_{2 13}}{\\left(t \\right)} + w_{2} w_{3}^{2} \\operatorname{c_{2 14}}{\\left(t \\right)} + w_{2} w_{3} \\operatorname{c_{2 15}}{\\left(t \\right)} + w_{2} \\operatorname{c_{2 16}}{\\left(t \\right)} + w_{3}^{3} \\operatorname{c_{2 17}}{\\left(t \\right)} + w_{3}^{2} \\operatorname{c_{2 18}}{\\left(t \\right)} + w_{3} \\operatorname{c_{2 19}}{\\left(t\\right)} + \\operatorname{c_{2 0}}{\\left(t \\right)}\\\\                             \n",
    "\\eta_{3}&=w_{1}^{3} \\operatorname{c_{3 1}}{\\left(t \\right)} + w_{1}^{2} w_{2} \\operatorname{c_{3 2}}{\\left(t \\right)} + w_{1}^{2} w_{3} \\operatorname{c_{3 3}}{\\left(t \\right)} + w_{1}^{2} \\operatorname{c_{3 4}}{\\left(t \\right)} + w_{1} w_{2}^{2} \\operatorname{c_{3 5}}{\\left(t \\right)} + w_{1} w_{2} w_{3} \\operatorname{c_{3 6}}{\\left(t \\right)} + w_{1} w_{2} \\operatorname{c_{3 7}}{\\left(t \\right)} + w_{1} w_{3}^{2} \\operatorname{c_{3 8}}{\\left(t \\right)} + w_{1} w_{3} \\operatorname{c_{3 9}}{\\left(t \\right)} + w_{1} \\operatorname{c_{3 10}}{\\left(t \\right)} + w_{2}^{3}\\operatorname{c_{3 11}}{\\left(t \\right)} + w_{2}^{2} w_{3} \\operatorname{c_{3 12}}{\\left(t \\right)} + w_{2}^{2} \\operatorname{c_{3 13}}{\\left(t \\right)} + w_{2} w_{3}^{2} \\operatorname{c_{3 14}}{\\left(t \\right)} + w_{2} w_{3} \\operatorname{c_{3 15}}{\\left(t \\right)} + w_{2} \\operatorname{c_{3 16}}{\\left(t \\right)} + w_{3}^{3} \\operatorname{c_{3 17}}{\\left(t \\right)} + w_{3}^{2} \\operatorname{c_{3 18}}{\\left(t \\right)} + w_{3} \\operatorname{c_{3 19}}{\\left(t \\right)} + \\operatorname{c_{3 0}}{\\left(t \\right)}\\\\                        \\end{align*}\n",
    "\n",
    "So, we have three ODEs, implying sixteen unknown coefficients which we want to find. "
   ]
  },
  {
   "cell_type": "markdown",
   "metadata": {},
   "source": [
    "## Determining equations\n",
    "The determining equations are listed below. \n",
    "\n",
    "\n",
    "\n",
    "So we have a $\\times $ system, and this should be our dimensions when we go over to matrix form!\n"
   ]
  },
  {
   "cell_type": "markdown",
   "metadata": {},
   "source": [
    "## Matrix formulation\n",
    "\n",
    "                      "
   ]
  },
  {
   "cell_type": "markdown",
   "metadata": {},
   "source": [
    "## Reduced matrices\n",
    "\n"
   ]
  },
  {
   "cell_type": "markdown",
   "metadata": {},
   "source": [
    "## Extracting algebraic equations\n"
   ]
  },
  {
   "cell_type": "markdown",
   "metadata": {},
   "source": [
    "# Jordan form and exponential matrix\n",
    "                                                                                      \n",
    "                 "
   ]
  },
  {
   "cell_type": "markdown",
   "metadata": {},
   "source": [
    "## Algebraic equations \n"
   ]
  },
  {
   "cell_type": "markdown",
   "metadata": {},
   "source": [
    "## Solution after substitution\n",
    "                                                                                  \n",
    "                                                                                                                                                                                                                \n",
    "## Tangents after substitution\n",
    "  "
   ]
  },
  {
   "cell_type": "code",
   "execution_count": null,
   "metadata": {},
   "outputs": [],
   "source": []
  }
 ],
 "metadata": {
  "kernelspec": {
   "display_name": "Python 3",
   "language": "python",
   "name": "python3"
  },
  "language_info": {
   "codemirror_mode": {
    "name": "ipython",
    "version": 3
   },
   "file_extension": ".py",
   "mimetype": "text/x-python",
   "name": "python",
   "nbconvert_exporter": "python",
   "pygments_lexer": "ipython3",
   "version": "3.8.3"
  }
 },
 "nbformat": 4,
 "nbformat_minor": 4
}
