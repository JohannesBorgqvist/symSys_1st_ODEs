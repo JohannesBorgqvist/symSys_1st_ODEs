{
 "cells": [
  {
   "cell_type": "markdown",
   "metadata": {},
   "source": [
    "# Error search linear model\n",
    "Apparently there are some problems in the last step where we try to solve the general linear model\n",
    "\n",
    "\\begin{align}\n",
    "\\dfrac{\\mathrm{d}u}{\\mathrm{d}t}&=a(t)u+b(t)v,\\\\\n",
    "\\dfrac{\\mathrm{d}v}{\\mathrm{d}t}&=c(t)u+d(t)v.\n",
    "\\end{align}\n",
    "So, the aim of this notebook is to try and find this error. The first error message comes when the algebraic equations are solved. Let's see what we have here by printing out the various parts of the codes."
   ]
  },
  {
   "cell_type": "markdown",
   "metadata": {},
   "source": [
    "### ORIGNAL MATRICES                                                                                                                                                                                                            \n",
    "Dimensions of A<br>                                                                                                                                                                                                             \n",
    "(12, 9)                                                                                                                                                                                                                         \n",
    "<br>The matrix A<br>                                                                                                                                                                                                            \n",
    "\\begin{equation}\\left[\\begin{matrix}0 & 0 & 0 & 1 & 0 & 0 & 0 & 0 & 0\\\\- b{\\left(x_{0} \\right)} & 0 & 0 & 0 & 1 & 0 & 0 & 0 & 0\\\\0 & - b{\\left(x_{0} \\right)} & 0 & 0 & 0 & 0 & 0 & 0 & 0\\\\- a{\\left(x_{0} \\right)} & 0 & 0 & 0 \n",
    "& 0 & 1 & 0 & 0 & 0\\\\0 & - a{\\left(x_{0} \\right)} & - b{\\left(x_{0} \\right)} & 0 & 0 & 0 & 0 & 0 & 0\\\\0 & 0 & - a{\\left(x_{0} \\right)} & 0 & 0 & 0 & 0 & 0 & 0\\\\0 & 0 & 0 & 0 & 0 & 0 & 1 & 0 & 0\\\\- d{\\left(x_{0} \\right)} & 0 \n",
    "& 0 & 0 & 0 & 0 & 0 & 1 & 0\\\\0 & - d{\\left(x_{0} \\right)} & 0 & 0 & 0 & 0 & 0 & 0 & 0\\\\- c{\\left(x_{0} \\right)} & 0 & 0 & 0 & 0 & 0 & 0 & 0 & 1\\\\0 & - c{\\left(x_{0} \\right)} & - d{\\left(x_{0} \\right)} & 0 & 0 & 0 & 0 & 0 & 0\n",
    "\\\\0 & 0 & - c{\\left(x_{0} \\right)} & 0 & 0 & 0 & 0 & 0 & 0\\end{matrix}\\right]\\end{equation}                                                                                                                                     \n",
    "Dimensions of B<br>                                                                                                                                                                                                             \n",
    "(12, 9)                                                                                                                                                                                                                         \n",
    "<br>The matrix B<br>                                                                                                                                                                                                            \n",
    "\\begin{equation}\n",
    "\\left[\\begin{matrix}0 & 0 & 0 & a{\\left(x_{0} \\right)} & 0 & 0 & b{\\left(x_{0} \\right)} & 0 & 0\\\\\\frac{d}{d x_{0}} b{\\left(x_{0} \\right)} & 0 & 0 & 0 & a{\\left(x_{0} \\right)} - d{\\left(x_{0} \\right)} & - b{\\left(x_{0} \\right)} & 0 & b{\\left(x_{0} \\right)} & 0\\\\0 & b{\\left(x_{0} \\right)} d{\\left(x_{0} \\right)} + \\frac{d}{d x_{0}} b{\\left(x_{0} \\right)} & b^{2}{\\left(x_{0} \\right)} & 0 & 0 & 0 & 0 & 0 & 0\\\\\\frac{d}{d x_{0}} a{\\left(x_{0} \\right)} & 0 & 0 & 0 & - c{\\left(x_{0} \\right)} & 0 & 0 & 0 & b{\\left(x_{0} \\right)}\\\\0 & a{\\left(x_{0} \\right)} d{\\left(x_{0} \\right)} + b{\\left(x_{0} \\right)} c{\\left(x_{0} \\right)} + \\frac{d}{d x_{0}} a{\\left(x_{0} \\right)} & 2 a{\\left(x_{0} \\right)} b{\\left(x_{0} \\right)} + \\frac{d}{d x_{0}} b{\\left(x_{0} \\right)} & 0 & 0 & 0 & 0 & 0 & 0\\\\0 & a{\\left(x_{0} \\right)} c{\\left(x_{0} \\right)} & a^{2}{\\left(x_{0} \\right)} + \\frac{d}{d x_{0}} a{\\left(x_{0} \\right)} & 0 & 0 & 0 & 0 & 0 & 0\\\\0 & 0 & 0 & c{\\left(x_{0} \\right)} & 0 & 0 & d{\\left(x_{0} \\right)} & 0 & 0\\\\\\frac{d}{d x_{0}} d{\\left(x_{0} \\right)} & 0 & 0 & 0 & c{\\left(x_{0} \\right)} & 0 & 0 & 0 & - b{\\left(x_{0} \\right)}\\\\0 & d^{2}{\\left(x_{0} \\right)} + \\frac{d}{d x_{0}} d{\\left(x_{0} \\right)} & b{\\left(x_{0} \\right)} d{\\left(x_{0} \\right)} & 0 & 0 & 0 & 0 & 0 & 0\\\\\\frac{d}{d x_{0}} c{\\left(x_{0} \\right)} & 0 & 0 & 0 & 0 & c{\\left(x_{0} \\right)} & 0 & - c{\\left(x_{0} \\right)} & - a{\\left(x_{0} \\right)} + d{\\left(x_{0} \\right)}\\\\0 & 2 c{\\left(x_{0} \\right)} d{\\left(x_{0} \\right)} + \\frac{d}{d x_{0}} c{\\left(x_{0} \\right)} & a{\\left(x_{0} \\right)} d{\\left(x_{0} \\right)} + b{\\left(x_{0} \\right)} c{\\left(x_{0} \\right)} + \\frac{d}{d x_{0}} d{\\left(x_{0} \\right)} & 0 & 0 & 0 & 0 & 0 & 0\\\\0 & c^{2}{\\left(x_{0} \\right)} & a{\\left(x_{0} \\right)}c{\\left(x_{0} \\right)} + \\frac{d}{d x_{0}} c{\\left(x_{0} \\right)} & 0 & 0 & 0 & 0 & 0 & 0\\end{matrix}\\right]\n",
    "\\end{equation}                                                                                                                           \n",
    "### Matrices after the reduction of col(M^T)                                                                                                                                                                                    \n",
    "Dimensions of A<br>                                                                                                                                                                                                             \n",
    "(10, 9)                                                                                                                                                                                                                         \n",
    "<br>The matrix A<br>                                                                                                                                                                                                            \n",
    "\\begin{equation}\\left[\\begin{matrix}0 & 0 & 0 & -1 & 0 & 0 & 0 & 0 & 0\\\\b{\\left(x_{0} \\right)} & 0 & 0 & 0 & -1 & 0 & 0 & 0 & 0\\\\0 & b{\\left(x_{0} \\right)} & 0 & 0 & 0 & 0 & 0 & 0 & 0\\\\a{\\left(x_{0} \\right)} & 0 & 0 & 0 & 0 \n",
    "& -1 & 0 & 0 & 0\\\\0 & a{\\left(x_{0} \\right)} & b{\\left(x_{0} \\right)} & 0 & 0 & 0 & 0 & 0 & 0\\\\0 & 0 & a{\\left(x_{0} \\right)} & 0 & 0 & 0 & 0 & 0 & 0\\\\0 & 0 & 0 & 0 & 0 & 0 & -1 & 0 & 0\\\\d{\\left(x_{0} \\right)} & 0 & 0 & 0 & \n",
    "0 & 0 & 0 & -1 & 0\\\\0 & d{\\left(x_{0} \\right)} & 0 & 0 & 0 & 0 & 0 & 0 & 0\\\\c{\\left(x_{0} \\right)} & 0 & 0 & 0 & 0 & 0 & 0 & 0 & -1\\end{matrix}\\right]\\end{equation}                                                            \n",
    "Dimensions of B<br>\n",
    "(10, 9)\n",
    "<br>The matrix B<br>\n",
    "\\begin{equation}\\left[\\begin{matrix}0 & 0 & 0 & - a{\\left(x_{0} \\right)} & 0 & 0 & - b{\\left(x_{0} \\right)} & 0 & 0\\\\- \\frac{d}{d x_{0}} b{\\left(x_{0} \\right)} & 0 & 0 & 0 & - a{\\left(x_{0} \\right)} + d{\\left(x_{0} \\right)} & b{\\left(x_{0} \\right)} & 0 & - b{\\left(x_{0} \\right)} & 0\\\\0 & - b{\\left(x_{0} \\right)} d{\\left(x_{0} \\right)} - \\frac{d}{d x_{0}} b{\\left(x_{0} \\right)} & - b^{2}{\\left(x_{0} \\right)} & 0 & 0 & 0 & 0 & 0 & 0\\\\- \\frac{d}{d x_{0}} a{\\left(x_{0} \\right)} & 0 & 0 & 0 & c{\\left(x_{0} \\right)} & 0 & 0 & 0 & - b{\\left(x_{0} \\right)}\\\\0 & - a{\\left(x_{0} \\right)} d{\\left(x_{0} \\right)} - b{\\left(x_{0} \\right)} c{\\left(x_{0} \\right)} - \\frac{d}{d x_{0}} a{\\left(x_{0} \\right)} & - 2 a{\\left(x_{0} \\right)} b{\\left(x_{0} \\right)} - \\frac{d}{d x_{0}} b{\\left(x_{0} \\right)} & 0 & 0 & 0 & 0 & 0 & 0\\\\0 & - a{\\left(x_{0} \\right)} c{\\left(x_{0} \\right)} & - a^{2}{\\left(x_{0} \\right)} - \\frac{d}{d x_{0}} a{\\left(x_{0} \\right)} & 0 & 0 & 0 & 0 & 0 & 0\\\\0 & 0 & 0 & - c{\\left(x_{0} \\right)} & 0 & 0 & - d{\\left(x_{0} \\right)} & 0 & 0\\\\- \\frac{d}{d x_{0}} d{\\left(x_{0} \\right)} & 0 & 0 & 0 & - c{\\left(x_{0} \\right)} & 0 & 0 & 0 & b{\\left(x_{0} \\right)}\\\\0 & - d^{2}{\\left(x_{0} \\right)} - \\frac{d}{d x_{0}} d{\\left(x_{0} \\right)} & - b{\\left(x_{0} \\right)} d{\\left(x_{0} \\right)} & 0 & 0 & 0 & 0 & 0 & 0\\\\- \\frac{d}{d x_{0}} c{\\left(x_{0} \\right)} & 0 & 0 & 0 & 0 & - c{\\left(x_{0} \\right)} & 0 & c{\\left(x_{0} \\right)} & a{\\left(x_{0} \\right)} - d{\\left(x_{0} \\right)}\\end{matrix}\\right]\\end{equation}\n",
    "\n",
    "### Row reduction of M\n",
    "Dimensions of A<br>\n",
    "(10, 9)\n",
    "<br>The matrix A<br>\n",
    "\\begin{equation}\\left[\\begin{matrix}1 & 0 & 0 & 0 & 0 & 0 & 0 & 0 & - \\frac{1}{c{\\left(x_{0} \\right)}}\\\\0 & 1 & 0 & 0 & 0 & 0 & 0 & 0 & 0\\\\0 & 0 & 1 & 0 & 0 & 0 & 0 & 0 & 0\\\\0 & 0 & 0 & 1 & 0 & 0 & 0 & 0 & 0\\\\0 & 0 & 0 & 0 & 1 & 0 & 0 & 0 & - \\frac{b{\\left(x_{0} \\right)}}{c{\\left(x_{0} \\right)}}\\\\0 & 0 & 0 & 0 & 0 & 1 & 0 & 0 & - \\frac{a{\\left(x_{0} \\right)}}{c{\\left(x_{0} \\right)}}\\\\0 & 0 & 0 & 0 & 0 & 0 & 1 & 0 & 0\\\\0 & 0 & 0 & 0 & 0 & 0 & 0 & 1 & - \\frac{d{\\left(x_{0} \\right)}}{c{\\left(x_{0} \\right)}}\\\\0 & 0 & 0 & 0 & 0 & 0 & 0 & 0 & 0\\\\0 & 0 & 0 & 0 & 0 & 0 & 0 & 0 & 0\\end{matrix}\\right]\\end{equation}\n",
    "Dimensions of B<br>\n",
    "(10, 9)\n",
    "<br>The matrix B<br>\n",
    "\\begin{equation}\\left[\\begin{matrix}- \\frac{\\frac{d}{d x_{0}} c{\\left(x_{0} \\right)}}{c{\\left(x_{0} \\right)}} & 0 & 0 & 0 & 0 & -1 & 0 & 1 & \\frac{a{\\left(x_{0} \\right)}}{c{\\left(x_{0} \\right)}} - \\frac{d{\\left(x_{0} \\right)}}{c{\\left(x_{0} \\right)}}\\\\0 & 0 & 0 & 0 & 0 & 0 & 0 & 0 & 0\\\\0 & 0 & 0 & 0 & 0 & 0 & 0 & 0 & 0\\\\0 & 0 & 0 & a{\\left(x_{0} \\right)} & 0 & 0 & b{\\left(x_{0} \\right)} & 0 & 0\\\\- \\frac{b{\\left(x_{0} \\right)} \\frac{d}{d x_{0}} c{\\left(x_{0} \\right)}}{c{\\left(x_{0} \\right)}} + \\frac{d}{d x_{0}} b{\\left(x_{0} \\right)} & 0 & 0 & 0 & a{\\left(x_{0} \\right)} - d{\\left(x_{0} \\right)} & - 2 b{\\left(x_{0} \\right)} & 0 & 2 b{\\left(x_{0} \\right)} & \\frac{a{\\left(x_{0} \\right)} b{\\left(x_{0} \\right)}}{c{\\left(x_{0} \\right)}} - \\frac{b{\\left(x_{0} \\right)} d{\\left(x_{0} \\right)}}{c{\\left(x_{0} \\right)}}\\\\- \\frac{a{\\left(x_{0} \\right)} \\frac{d}{d x_{0}} c{\\left(x_{0} \\right)}}{c{\\left(x_{0} \\right)}} + \\frac{d}{d x_{0}} a{\\left(x_{0} \\right)} & 0 & 0 & 0 & - c{\\left(x_{0} \\right)} & - a{\\left(x_{0} \\right)} & 0 & a{\\left(x_{0} \\right)} & \\frac{a^{2}{\\left(x_{0} \\right)} - a{\\left(x_{0} \\right)} d{\\left(x_{0} \\right)} + b{\\left(x_{0} \\right)} c{\\left(x_{0} \\right)}}{c{\\left(x_{0} \\right)}}\\\\0 & 0 & 0 & c{\\left(x_{0} \\right)} & 0 & 0 & d{\\left(x_{0} \\right)} & 0 & 0\\\\\\frac{d}{d x_{0}} d{\\left(x_{0} \\right)} - \\frac{d{\\left(x_{0} \\right)} \\frac{d}{d x_{0}} c{\\left(x_{0} \\right)}}{c{\\left(x_{0} \\right)}} & 0 & 0 & 0 & c{\\left(x_{0} \\right)} & - d{\\left(x_{0} \\right)} & 0 & d{\\left(x_{0} \\right)} & - \\frac{- a{\\left(x_{0} \\right)} d{\\left(x_{0} \\right)} + b{\\left(x_{0} \\right)} c{\\left(x_{0} \\right)} + d^{2}{\\left(x_{0} \\right)}}{c{\\left(x_{0} \\right)}}\\\\0 & -1 & 0 & 0 & 0 & 0 & 0 & 0 & 0\\\\0 & 0 & -1 & 0 & 0 & 0 & 0 & 0 & 0\\end{matrix}\\right]\\end{equation}\n",
    "### Extracting algebraic equations\n",
    "Dimensions of A<br>\n",
    "(8, 9)\n",
    "<br>The matrix A<br>\n",
    "\\begin{equation}\\left[\\begin{matrix}1 & 0 & 0 & 0 & 0 & 0 & 0 & 0 & - \\frac{1}{c{\\left(x_{0} \\right)}}\\\\0 & 1 & 0 & 0 & 0 & 0 & 0 & 0 & 0\\\\0 & 0 & 1 & 0 & 0 & 0 & 0 & 0 & 0\\\\0 & 0 & 0 & 1 & 0 & 0 & 0 & 0 & 0\\\\0 & 0 & 0 & 0 & 1 & 0 & 0 & 0 & - \\frac{b{\\left(x_{0} \\right)}}{c{\\left(x_{0} \\right)}}\\\\0 & 0 & 0 & 0 & 0 & 1 & 0 & 0 & - \\frac{a{\\left(x_{0} \\right)}}{c{\\left(x_{0} \\right)}}\\\\0 & 0 & 0 & 0 & 0 & 0 & 1 & 0 & 0\\\\0 & 0 & 0 & 0 & 0 & 0 & 0 & 1 & - \\frac{d{\\left(x_{0} \\right)}}{c{\\left(x_{0} \\right)}}\\end{matrix}\\right]\\end{equation}\n",
    "Dimensions of B<br>\n",
    "(8, 9)\n",
    "<br>The matrix B<br>\n",
    "\\begin{equation}\\left[\\begin{matrix}- \\frac{\\frac{d}{d x_{0}} c{\\left(x_{0} \\right)}}{c{\\left(x_{0} \\right)}} & 0 & 0 & 0 & 0 & -1 & 0 & 1 & \\frac{a{\\left(x_{0} \\right)}}{c{\\left(x_{0} \\right)}} - \\frac{d{\\left(x_{0} \\right)}}{c{\\left(x_{0} \\right)}}\\\\0 & 0 & 0 & 0 & 0 & 0 & 0 & 0 & 0\\\\0 & 0 & 0 & 0 & 0 & 0 & 0 & 0 & 0\\\\0 & 0 & 0 & a{\\left(x_{0} \\right)} & 0 & 0 & b{\\left(x_{0} \\right)} & 0 & 0\\\\- \\frac{b{\\left(x_{0} \\right)} \\frac{d}{d x_{0}} c{\\left(x_{0} \\right)}}{c{\\left(x_{0} \\right)}} + \\frac{d}{d x_{0}} b{\\left(x_{0} \\right)} & 0 & 0 & 0 & a{\\left(x_{0} \\right)} - d{\\left(x_{0} \\right)} & - 2 b{\\left(x_{0} \\right)} & 0 & 2 b{\\left(x_{0} \\right)} & \\frac{a{\\left(x_{0} \\right)} b{\\left(x_{0} \\right)}}{c{\\left(x_{0} \\right)}} - \\frac{b{\\left(x_{0} \\right)} d{\\left(x_{0} \\right)}}{c{\\left(x_{0} \\right)}}\\\\- \\frac{a{\\left(x_{0} \\right)} \\frac{d}{d x_{0}} c{\\left(x_{0} \\right)}}{c{\\left(x_{0} \\right)}} + \\frac{d}{d x_{0}} a{\\left(x_{0} \\right)} & 0 & 0 & 0 & - c{\\left(x_{0} \\right)} & - a{\\left(x_{0} \\right)} & 0 & a{\\left(x_{0} \\right)} & \\frac{a^{2}{\\left(x_{0} \\right)} - a{\\left(x_{0} \\right)} d{\\left(x_{0} \\right)} + b{\\left(x_{0} \\right)} c{\\left(x_{0} \\right)}}{c{\\left(x_{0} \\right)}}\\\\0 & 0 & 0 & c{\\left(x_{0} \\right)} & 0 & 0 & d{\\left(x_{0} \\right)} & 0 & 0\\\\\\frac{d}{d x_{0}} d{\\left(x_{0} \\right)} - \\frac{d{\\left(x_{0} \\right)} \\frac{d}{d x_{0}} c{\\left(x_{0} \\right)}}{c{\\left(x_{0} \\right)}} & 0 & 0 & 0 & c{\\left(x_{0} \\right)} & - d{\\left(x_{0} \\right)} & 0 & d{\\left(x_{0} \\right)} & - \\frac{- a{\\left(x_{0} \\right)} d{\\left(x_{0} \\right)} + b{\\left(x_{0} \\right)} c{\\left(x_{0} \\right)} + d^{2}{\\left(x_{0} \\right)}}{c{\\left(x_{0} \\right)}}\\end{matrix}\\right]\\end{equation}\n",
    "Dimensions of $B_{\\textrm{algebraic}}$<br>\n",
    "(2, 9)\n",
    "<br>The matrix $B_{\\textrm{algebraic}}$<br>\n",
    "\\begin{equation}\\left[\\begin{matrix}0 & -1 & 0 & 0 & 0 & 0 & 0 & 0 & 0\\\\0 & 0 & -1 & 0 & 0 & 0 & 0 & 0 & 0\\end{matrix}\\right]\\end{equation}"
   ]
  },
  {
   "cell_type": "code",
   "execution_count": null,
   "metadata": {},
   "outputs": [],
   "source": []
  }
 ],
 "metadata": {
  "kernelspec": {
   "display_name": "Python 3",
   "language": "python",
   "name": "python3"
  },
  "language_info": {
   "codemirror_mode": {
    "name": "ipython",
    "version": 3
   },
   "file_extension": ".py",
   "mimetype": "text/x-python",
   "name": "python",
   "nbconvert_exporter": "python",
   "pygments_lexer": "ipython3",
   "version": "3.8.3"
  }
 },
 "nbformat": 4,
 "nbformat_minor": 4
}
