{
 "cells": [
  {
   "cell_type": "markdown",
   "metadata": {},
   "source": [
    "# Hydons ansätze degree 2\n",
    "\n",
    "This is a notebook with all the LaTeX code for Hydon's ansätze of degree 2. The model at hand is the following:\n",
    "\n",
    "\\begin{align*}\n",
    "\\dv{y_{1}}{t}&=\\frac{t y_{1} + y_{2}^{2}}{- t^{2} + y_{1} y_{2}},\\\\\n",
    "\\dv{y_{2}}{t}&=\\frac{t y_{2} + y_{1}^{2}}{- t^{2} + y_{1} y_{2}}.\\\\\n",
    "\\end{align*}\n",
    "\n",
    "The rest of the document is to print out all the details of the model at hand so that we can pre"
   ]
  },
  {
   "cell_type": "code",
   "execution_count": null,
   "metadata": {},
   "outputs": [],
   "source": []
  }
 ],
 "metadata": {
  "kernelspec": {
   "display_name": "Python 3",
   "language": "python",
   "name": "python3"
  },
  "language_info": {
   "codemirror_mode": {
    "name": "ipython",
    "version": 3
   },
   "file_extension": ".py",
   "mimetype": "text/x-python",
   "name": "python",
   "nbconvert_exporter": "python",
   "pygments_lexer": "ipython3",
   "version": "3.8.8"
  }
 },
 "nbformat": 4,
 "nbformat_minor": 4
}
