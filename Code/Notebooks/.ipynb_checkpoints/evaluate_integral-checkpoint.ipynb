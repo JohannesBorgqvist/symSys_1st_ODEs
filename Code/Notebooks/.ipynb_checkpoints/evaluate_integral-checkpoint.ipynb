{
 "cells": [
  {
   "cell_type": "markdown",
   "id": "c80b373d",
   "metadata": {},
   "source": [
    "# Integration by parts with arbitrary functions in *sympy*\n",
    "*Date:* 2021-10-04,<br>\n",
    "*Written by:* Johannes Borgqvist. <br>\n",
    "\n",
    "One of the last steps in order to finish the writing of the code is to be able to evaluate integrals by using integration by parts on an integral where the integrand contains an unknown function or more specifically the derivative of an unknown function. To this end, this notebook is an attempt to start writing the function(s) required to simplify these integrals. Also, the integrals should be definite where the integration is conducted with the help of a dummy variable.\n",
    "\n",
    "More concretely, consider the following integral\n",
    "\n",
    "$$\\int^{t}_{0}\\dfrac{\\mathrm{d}f(s)}{\\mathrm{d}s}e^{ks}\\mathrm{d}s$$\n",
    "where $t$ is the variable, $f$ is the unknown function, $s$ is the dummy variable and $k$ is an arbitrary constant. Then the integration by parts of the above integral looks as follows:\n",
    "\\begin{align}\n",
    "\\int^{t}_{0}\\dfrac{\\mathrm{d}f(s)}{\\mathrm{d}s}e^{ks}\\mathrm{d}s&=\\left[f(s)e^{ks}\\right]^{t}_{0}-k\\int^{t}_{0}f(s)e^{ks}\\mathrm{d}s\\\\\n",
    "&=f(t)e^{kt}-\\underset{=C}{\\underbrace{f(0)}}-k\\int^{t}_{0}f(s)e^{ks}\\mathrm{d}s\\\\\n",
    "\\Longrightarrow \\int^{t}_{0}\\dfrac{\\mathrm{d}f(s)}{\\mathrm{d}s}e^{ks}\\mathrm{d}s&=f(t)e^{kt}-C-k\\int^{t}_{0}f(s)e^{ks}\\mathrm{d}s\n",
    "\\end{align}\n",
    "    where $C$ is an arbitrary integration constant. So, we need to be able to evaluate this integral using integration by parts. So let's see if we can work with this. "
   ]
  },
  {
   "cell_type": "code",
   "execution_count": 23,
   "id": "279d84fd",
   "metadata": {},
   "outputs": [
    {
     "name": "stdout",
     "output_type": "stream",
     "text": [
      "\n",
      "\tInitial Integral:\n",
      "\t\t\\int\\limits_{0}^{t} e^{k_{1} t} \\frac{d}{d t} f{\\left(t \\right)}\\, dt\n",
      "\n",
      "\n",
      "\tEvaluated Integral:\n",
      "\t\t\\int\\limits_{0}^{t} e^{k_{1} t} \\frac{d}{d t} f{\\left(t \\right)}\\, dt\n",
      "\n"
     ]
    }
   ],
   "source": [
    "# Import our beloved libraries\n",
    "from sympy import *\n",
    "from sympy.core.function import *\n",
    "# Create two arbitrary coefficients\n",
    "k1 = Symbol('k1')\n",
    "k2 = Symbol('k2')\n",
    "# Create two arbitrary integration coefficients\n",
    "C1 = Symbol('C1')\n",
    "C2 = Symbol('C2')\n",
    "# Create the variable which we integrate with\n",
    "t = Symbol('t')\n",
    "# Create the dummy variable with which we integrate with\n",
    "s = Symbol('s')\n",
    "# Create two arbitrary expressions\n",
    "f = symbols('f',cls=Function)\n",
    "g = symbols('g',cls=Function)\n",
    "# Define an expression for the integrand\n",
    "integrand = diff(f(t),t)*exp(k1*t)\n",
    "#integrand = Derivative(f(t),t)*exp(k*t)\n",
    "# Create an integral\n",
    "#integral = Integral(integrand,t,(t,0,t))\n",
    "integral = integrate(integrand,(t,0,t))\n",
    "# Print the integral\n",
    "print(\"\\n\\tInitial Integral:\\n\\t\\t%s\\n\"%(latex(integral)))\n",
    "# Evaluate integral\n",
    "integral = integral.doit()\n",
    "# Print the evaluated integral\n",
    "print(\"\\n\\tEvaluated Integral:\\n\\t\\t%s\\n\"%(latex(integral)))\n",
    "# Create a coefficient counter\n",
    "coefficient_counter = 1"
   ]
  },
  {
   "cell_type": "markdown",
   "id": "689c493d",
   "metadata": {},
   "source": [
    "So it seems like the built-in \"*doit*\" command does not do the trick. So we need to implement something by ourselves. \n",
    "\n",
    "$$\\int\\limits_{0}^{t} e^{k t} \\frac{d}{d t} f{\\left(t \\right)}\\, dt$$"
   ]
  },
  {
   "cell_type": "code",
   "execution_count": 24,
   "id": "aef9818c",
   "metadata": {},
   "outputs": [
    {
     "name": "stdout",
     "output_type": "stream",
     "text": [
      "\n",
      "\tFactors in integrand:\t\t\t(Derivative(f(t), t), exp(k1*t))\n",
      "\n"
     ]
    }
   ],
   "source": [
    "# Okay, so can we extract all factors?\n",
    "factors_in_integrand = integrand.factor().args\n",
    "print(\"\\n\\tFactors in integrand:\\t\\t\\t%s\\n\"%(str(factors_in_integrand)))"
   ]
  },
  {
   "cell_type": "markdown",
   "id": "afe80638",
   "metadata": {},
   "source": [
    "So that is brilliant, hey? Let's see if we can identify the derivatives here... Perhaps, we do not need to find the derivatives themselves, but rather we can find the undefined functions! "
   ]
  },
  {
   "cell_type": "code",
   "execution_count": 25,
   "id": "ce3dd607",
   "metadata": {},
   "outputs": [
    {
     "name": "stdout",
     "output_type": "stream",
     "text": [
      "\t\tThe derivative term is:\n",
      "\t\t\t\\frac{d}{d t} f{\\left(t \\right)}\n",
      "\n",
      "\t\tThe primitive function is:\n",
      "\t\t\tf{\\left(t \\right)}\n",
      "\n"
     ]
    }
   ],
   "source": [
    "# The derivative term\n",
    "derivative_term = 0\n",
    "# Loop over our factors in the integrand \n",
    "# and see if any of them contain a derivative \n",
    "for factor in factors_in_integrand:\n",
    "    # Find the arbitrary functions\n",
    "    a_f = list(factor.atoms(AppliedUndef))\n",
    "    if len(a_f)>0:\n",
    "        derivative_term = factor\n",
    "# Print the derivative term\n",
    "print(\"\\t\\tThe derivative term is:\\n\\t\\t\\t%s\\n\"%(latex(derivative_term)))\n",
    "# Primitive function\n",
    "primitive_function = Integral(derivative_term,t).doit()\n",
    "# Print the primitive function\n",
    "print(\"\\t\\tThe primitive function is:\\n\\t\\t\\t%s\\n\"%(latex(primitive_function)))"
   ]
  },
  {
   "cell_type": "markdown",
   "id": "3043b08e",
   "metadata": {},
   "source": [
    "Ok, so now we are onto something. Let's put this to the test. Let's say we have two expressions\n",
    "\n",
    "\\begin{align}\n",
    " \\int^{t}_{0}\\dfrac{\\mathrm{d}f(s)}{\\mathrm{d}s}e^{k_1 s}\\mathrm{d}s+\\int^{t}_{0}\\dfrac{\\mathrm{d}f(s)}{\\mathrm{d}s}e^{k_2 s}\\mathrm{d}s&=f(t)(e^{k_1 t}+e^{k_2 t})-2C_1-k_1\\int^{t}_{0}f(s)e^{k_1 s}\\mathrm{d}s-k_2\\int^{t}_{0}f(s)e^{k_2 s}\\mathrm{d}s,\\\\\n",
    " \\int^{t}_{0}\\dfrac{\\mathrm{d}f(s)}{\\mathrm{d}s}e^{k_1 s}\\mathrm{d}s+\\int^{t}_{0}\\dfrac{\\mathrm{d}g(s)}{\\mathrm{d}s}e^{k_2 s}\\mathrm{d}s&=f(t)e^{k_1 t}+g(t)e^{k_2 t}-C_1-C_2-k_1\\int^{t}_{0}f(s)e^{k_1 s}\\mathrm{d}s-k_2\\int^{t}_{0}g(s)e^{k_2 s}\\mathrm{d}s.\\\\\n",
    "\\end{align}\n",
    "Then, we want to write a function which re-writes an integral expressions where a derivative is located in the integrands and then introduces one arbitrary coefficient in the first case and a second arbitrary integral in the second case. \n",
    "\n",
    "First we need to see if it can identify the number of arbitrary functions in a composite integrand. "
   ]
  },
  {
   "cell_type": "code",
   "execution_count": 26,
   "id": "fd37999d",
   "metadata": {},
   "outputs": [
    {
     "name": "stdout",
     "output_type": "stream",
     "text": [
      "\n",
      "\t\tComposite integrand 1:\n",
      "\t\t\te^{k_{1} t} \\frac{d}{d t} f{\\left(t \\right)} + e^{k_{2} t} \\frac{d}{d t} g{\\left(t \\right)}\n",
      "\n",
      "\n",
      "\t\tComposite integrand 2:\n",
      "\t\t\te^{k_{1} t} \\frac{d}{d t} f{\\left(t \\right)} + e^{k_{2} t} \\frac{d}{d t} f{\\left(t \\right)}\n",
      "\n",
      "\n",
      "\t\tArbitrary functions in 1:\n",
      "\t\t\t\\left\\{f{\\left(t \\right)}, g{\\left(t \\right)}\\right\\}\n",
      "\n",
      "\n",
      "\t\tArbitrary functions in 2:\n",
      "\t\t\t\\left\\{f{\\left(t \\right)}\\right\\}\n",
      "\n",
      "\n",
      "\t\tTerms in integrand 1:\n",
      "\t\t\t\\left( e^{k_{1} t} \\frac{d}{d t} f{\\left(t \\right)}, \\  e^{k_{2} t} \\frac{d}{d t} g{\\left(t \\right)}\\right)\n",
      "\n",
      "\t\tTerms in integrand 2:\n",
      "\t\t\t\\left( e^{k_{1} t} \\frac{d}{d t} f{\\left(t \\right)}, \\  e^{k_{2} t} \\frac{d}{d t} f{\\left(t \\right)}\\right)\n"
     ]
    }
   ],
   "source": [
    "integrand_composite_1 = integrand + diff(g(t),t)*exp(k2*t)\n",
    "integrand_composite_2 = integrand + diff(f(t),t)*exp(k2*t)\n",
    "print(\"\\n\\t\\tComposite integrand 1:\\n\\t\\t\\t%s\\n\"%(latex(integrand_composite_1)))\n",
    "print(\"\\n\\t\\tComposite integrand 2:\\n\\t\\t\\t%s\\n\"%(latex(integrand_composite_2)))\n",
    "arb_funcs_1 = integrand_composite_1.atoms(AppliedUndef)\n",
    "arb_funcs_2 = integrand_composite_2.atoms(AppliedUndef)\n",
    "\n",
    "#print(integrand_composite_1.args)\n",
    "#print(integrand_composite_2.args)\n",
    "print(\"\\n\\t\\tArbitrary functions in 1:\\n\\t\\t\\t%s\\n\"%(latex(arb_funcs_1)))\n",
    "print(\"\\n\\t\\tArbitrary functions in 2:\\n\\t\\t\\t%s\\n\"%(latex(arb_funcs_2)))\n",
    "\n",
    "print(\"\\n\\t\\tTerms in integrand 1:\\n\\t\\t\\t%s\"%(latex(integrand_composite_1.args)))\n",
    "print(\"\\n\\t\\tTerms in integrand 2:\\n\\t\\t\\t%s\"%(latex(integrand_composite_2.args)))"
   ]
  },
  {
   "cell_type": "markdown",
   "id": "0e8055ac",
   "metadata": {},
   "source": [
    "Ok, let's see if we might be able to write a function here. We'll need three things\n",
    "1. \"function_list\" which is a list of arbitrary functions,\n",
    "2. \"constant_list\" which is a list of arbitrary constants coupled to the arbitrary functions,\n",
    "3. \"integrand_vector\" which is a list of the integrand that are to be evaluated using integration by parts.\n",
    "\n"
   ]
  },
  {
   "cell_type": "code",
   "execution_count": 27,
   "id": "9c6c69b6",
   "metadata": {},
   "outputs": [],
   "source": [
    "function_list = [f, g]\n",
    "constant_list = [C1, C2]\n",
    "integrand_list = [integrand_composite_1, integrand_composite_2]"
   ]
  },
  {
   "cell_type": "code",
   "execution_count": 41,
   "id": "884d0263",
   "metadata": {},
   "outputs": [],
   "source": [
    "def integration_by_parts(function_list,constant_list,integrand_list,variable):\n",
    "    # At the end, we want to return the correct integrals\n",
    "    integral_list = []\n",
    "    # Loop through the integrands\n",
    "    for integrand in integrand_list:\n",
    "        # Allocate a temporary integral\n",
    "        temp_int = 0\n",
    "        # Split this into further parts and solve these\n",
    "        for sub_integrand in integrand.args:\n",
    "            # Now, firstly we isolate the factors\n",
    "            factors_in_subintegrand = sub_integrand.factor().args\n",
    "            # The derivative term\n",
    "            derivative_term = 0\n",
    "            # Loop over our factors in the integrand \n",
    "            # and see if any of them contain a derivative \n",
    "            for factor in factors_in_subintegrand:\n",
    "                # Find the arbitrary functions\n",
    "                a_f = list(factor.atoms(AppliedUndef))\n",
    "                if len(a_f)>0:\n",
    "                    derivative_term = factor\n",
    "            # The other func is the coefficient of the derivative term\n",
    "            other_func = sub_integrand.coeff(derivative_term)\n",
    "            # Calculate the primitive function\n",
    "            primitive_function = Integral(derivative_term,variable).doit()\n",
    "            # Let's add the three terms to our temporary integral\n",
    "            temp_int += primitive_function*other_func\n",
    "            # Loop over integration constants as well\n",
    "            for f_i in range(len(function_list)):\n",
    "                if function_list[f_i](variable)==primitive_function:\n",
    "                    temp_int += -constant_list[f_i]*other_func.subs(variable,0)\n",
    "            # Lastly, we add the integral term\n",
    "            new_integrand = primitive_function*Derivative(other_func,variable).doit()\n",
    "            temp_int += -Integral(new_integrand,(variable,0,variable))\n",
    "        if temp_int != 0:\n",
    "            temp_int = temp_int.doit()\n",
    "        # Add the evaluated integrals to our integral list\n",
    "        integral_list.append(temp_int)\n",
    "    # Return the integral list\n",
    "    return integral_list"
   ]
  },
  {
   "cell_type": "code",
   "execution_count": 42,
   "id": "bc5b4740",
   "metadata": {},
   "outputs": [
    {
     "ename": "AttributeError",
     "evalue": "'Tuple' object has no attribute 'factor'",
     "output_type": "error",
     "traceback": [
      "\u001b[0;31m---------------------------------------------------------------------------\u001b[0m",
      "\u001b[0;31mAttributeError\u001b[0m                            Traceback (most recent call last)",
      "\u001b[0;32m<ipython-input-42-6e16a0757a1f>\u001b[0m in \u001b[0;36m<module>\u001b[0;34m\u001b[0m\n\u001b[1;32m      1\u001b[0m \u001b[0;31m# Let's test our function\u001b[0m\u001b[0;34m\u001b[0m\u001b[0;34m\u001b[0m\u001b[0;34m\u001b[0m\u001b[0m\n\u001b[0;32m----> 2\u001b[0;31m \u001b[0mintegral_list\u001b[0m \u001b[0;34m=\u001b[0m \u001b[0mintegration_by_parts\u001b[0m\u001b[0;34m(\u001b[0m\u001b[0mfunction_list\u001b[0m\u001b[0;34m,\u001b[0m\u001b[0mconstant_list\u001b[0m\u001b[0;34m,\u001b[0m\u001b[0mintegrand_list\u001b[0m\u001b[0;34m,\u001b[0m\u001b[0mt\u001b[0m\u001b[0;34m)\u001b[0m\u001b[0;34m\u001b[0m\u001b[0;34m\u001b[0m\u001b[0m\n\u001b[0m\u001b[1;32m      3\u001b[0m \u001b[0;31m# Print the results of our calculations\u001b[0m\u001b[0;34m\u001b[0m\u001b[0;34m\u001b[0m\u001b[0;34m\u001b[0m\u001b[0m\n\u001b[1;32m      4\u001b[0m \u001b[0mprint\u001b[0m\u001b[0;34m(\u001b[0m\u001b[0;34m\"\\\\begin{align*}\"\u001b[0m\u001b[0;34m)\u001b[0m\u001b[0;34m\u001b[0m\u001b[0;34m\u001b[0m\u001b[0m\n\u001b[1;32m      5\u001b[0m \u001b[0;31m# Loop over them and print them one by one\u001b[0m\u001b[0;34m\u001b[0m\u001b[0;34m\u001b[0m\u001b[0;34m\u001b[0m\u001b[0m\n",
      "\u001b[0;32m<ipython-input-41-cb4aad50ec0d>\u001b[0m in \u001b[0;36mintegration_by_parts\u001b[0;34m(function_list, constant_list, integrand_list, variable)\u001b[0m\n\u001b[1;32m      9\u001b[0m         \u001b[0;32mfor\u001b[0m \u001b[0msub_integrand\u001b[0m \u001b[0;32min\u001b[0m \u001b[0mintegrand\u001b[0m\u001b[0;34m.\u001b[0m\u001b[0margs\u001b[0m\u001b[0;34m:\u001b[0m\u001b[0;34m\u001b[0m\u001b[0;34m\u001b[0m\u001b[0m\n\u001b[1;32m     10\u001b[0m             \u001b[0;31m# Now, firstly we isolate the factors\u001b[0m\u001b[0;34m\u001b[0m\u001b[0;34m\u001b[0m\u001b[0;34m\u001b[0m\u001b[0m\n\u001b[0;32m---> 11\u001b[0;31m             \u001b[0mfactors_in_subintegrand\u001b[0m \u001b[0;34m=\u001b[0m \u001b[0msub_integrand\u001b[0m\u001b[0;34m.\u001b[0m\u001b[0mfactor\u001b[0m\u001b[0;34m(\u001b[0m\u001b[0;34m)\u001b[0m\u001b[0;34m.\u001b[0m\u001b[0margs\u001b[0m\u001b[0;34m\u001b[0m\u001b[0;34m\u001b[0m\u001b[0m\n\u001b[0m\u001b[1;32m     12\u001b[0m             \u001b[0;31m# The derivative term\u001b[0m\u001b[0;34m\u001b[0m\u001b[0;34m\u001b[0m\u001b[0;34m\u001b[0m\u001b[0m\n\u001b[1;32m     13\u001b[0m             \u001b[0mderivative_term\u001b[0m \u001b[0;34m=\u001b[0m \u001b[0;36m0\u001b[0m\u001b[0;34m\u001b[0m\u001b[0;34m\u001b[0m\u001b[0m\n",
      "\u001b[0;31mAttributeError\u001b[0m: 'Tuple' object has no attribute 'factor'"
     ]
    }
   ],
   "source": [
    "# Let's test our function\n",
    "integral_list = integration_by_parts(function_list,constant_list,integrand_list,t)\n",
    "# Print the results of our calculations\n",
    "print(\"\\\\begin{align*}\")\n",
    "# Loop over them and print them one by one\n",
    "for index in range(len(integrand_list)):\n",
    "    print(\"%s&=%s\\\\\\\\\"%(latex(Integral(integrand_list[index],(t,0,t))),latex(integral_list[index])))\n",
    "print(\"\\\\end{align*}\")"
   ]
  },
  {
   "cell_type": "markdown",
   "id": "c17aa8bb",
   "metadata": {},
   "source": [
    "The results of our calculations are:\n",
    "\n",
    "\\begin{align*}\n",
    "\\int\\limits_{0}^{t} \\left(e^{k_{1} t} \\frac{d}{d t} f{\\left(t \\right)} + e^{k_{2} t} \\frac{d}{d t} g{\\left(t \\right)}\\right)\\, dt&=- C_{1} - C_{2} - k_{1} \\int\\limits_{0}^{t} f{\\left(t \\right)} e^{k_{1} t}\\, dt - k_{2} \\int\\limits_{0}^{t} g{\\left(t \\right)} e^{k_{2} t}\\, dt + f{\\left(t \\right)} e^{k_{1} t} + g{\\left(t \\right)} e^{k_{2} t}\\\\\n",
    "\\int\\limits_{0}^{t} \\left(e^{k_{1} t} \\frac{d}{d t} f{\\left(t \\right)} + e^{k_{2} t} \\frac{d}{d t} f{\\left(t \\right)}\\right)\\, dt&=- 2 C_{1} - k_{1} \\int\\limits_{0}^{t} f{\\left(t \\right)} e^{k_{1} t}\\, dt - k_{2} \\int\\limits_{0}^{t} f{\\left(t \\right)} e^{k_{2} t}\\, dt + f{\\left(t \\right)} e^{k_{1} t} + f{\\left(t \\right)} e^{k_{2} t}\\\\\n",
    "\\end{align*}\n",
    "And I mean this looks marvelous does it not? We've actually implemented the integration by parts correctly! "
   ]
  },
  {
   "cell_type": "markdown",
   "id": "992ff9e8",
   "metadata": {},
   "source": [
    "Now, I discovered a problem where the function above does not do the trick. It is the case when the composite function looks as follows:\n",
    "\n",
    "$$\\dfrac{\\mathrm{d}f}{\\mathrm{d}t}$$\n",
    "which is to say that there is no other function present in the expression. So we really need to take this into account as well. Let's play around a little bit with expressions like this and then we can se what comes of it. "
   ]
  },
  {
   "cell_type": "code",
   "execution_count": 30,
   "id": "823d97b2",
   "metadata": {},
   "outputs": [
    {
     "name": "stdout",
     "output_type": "stream",
     "text": [
      "The arguments of Derivative(f(t), t):\n",
      "(f(t), (t, 1))\n",
      "The arguments of k1*Derivative(g(t), t):\n",
      "(k1, Derivative(g(t), t))\n",
      "The arguments of exp(k1*t)*Derivative(f(t), t) + exp(k2*t)*Derivative(g(t), t):\n",
      "(exp(k1*t)*Derivative(f(t), t), exp(k2*t)*Derivative(g(t), t))\n",
      "The arguments of exp(k1*t)*Derivative(f(t), t):\n",
      "(Derivative(f(t), t), exp(k1*t))\n"
     ]
    }
   ],
   "source": [
    "# Define a new integrand\n",
    "integrand_non_composite_1 = Derivative(f(t),t)\n",
    "# Print the args, hey?\n",
    "print(\"The arguments of %s:\"%(str(integrand_non_composite_1)))\n",
    "print(integrand_non_composite_1.args)\n",
    "# Define a new integrand\n",
    "integrand_non_composite_2 = k1*Derivative(g(t),t)\n",
    "# Print the args, hey?\n",
    "print(\"The arguments of %s:\"%(str(integrand_non_composite_2)))\n",
    "print(integrand_non_composite_2.args)\n",
    "# Print the args, hey?\n",
    "print(\"The arguments of %s:\"%(str(integrand_composite_1)))\n",
    "print(integrand_composite_1.args)\n",
    "# Print the args, hey?\n",
    "print(\"The arguments of %s:\"%(str(integrand_composite_1.args[0])))\n",
    "print(integrand_composite_1.args[0].args)"
   ]
  },
  {
   "cell_type": "markdown",
   "id": "7e157f7d",
   "metadata": {},
   "source": [
    "Now, it all of a sudden came to me. Instead of using the function args which is not reliable, we should use the function coeff which is reliable! So below follows a better version of the function at hand. "
   ]
  },
  {
   "cell_type": "code",
   "execution_count": 66,
   "id": "af8862cc",
   "metadata": {},
   "outputs": [],
   "source": [
    "def integration_by_parts(function_list,constant_list,integrand_list,variable,dummy):\n",
    "    # At the end, we want to return the correct integrals\n",
    "    integral_list = []\n",
    "    # Loop through the integrands\n",
    "    for integrand in integrand_list:\n",
    "        # Allocate a temporary integral\n",
    "        temp_int = 0\n",
    "        # Loop through the functions and find the coefficients in the integrand\n",
    "        for func_index in range(len(function_list)):\n",
    "            # Extract the function at hand\n",
    "            func = function_list[func_index]\n",
    "            # If we have no coefficients, we'll just move on\n",
    "            if integrand.coeff(Derivative(func(variable),variable)) == 0:\n",
    "                continue\n",
    "            else:# Otherwise, we extract the other function in the integrand\n",
    "                # Extract the coefficient which is the \"other function\" in the integrand\n",
    "                other_function = integrand.coeff(Derivative(func(variable),variable))\n",
    "            # Now, we have two options:\n",
    "            # 1. The coefficient is a constant (e.g. 1, 5 or k),\n",
    "            # 2. The coefficient is a function meaning that we have to use integration\n",
    "            # by parts. \n",
    "            # Alternative 1: Constant\n",
    "            if len(list(other_function.atoms(Function)))==0:\n",
    "                # Just solve the integral\n",
    "                temp_int += (other_function*func(variable)) - (other_function*constant_list[func_index])\n",
    "            else:# Alternative 2: Integration by parts\n",
    "                # The boundary term in the integration by parts\n",
    "                temp_int += (other_function*func(variable)) - (other_function.subs(variable,0)*constant_list[func_index]) \n",
    "                # The integral in the integraiton by parts\n",
    "                new_integrand = (func(variable)*Derivative(other_function,variable).doit()).subs(variable,dummy)\n",
    "                temp_int += -Integral(new_integrand,(dummy,0,variable))\n",
    "        # Evaluate the integrand if possible\n",
    "        if temp_int != 0:\n",
    "            temp_int = temp_int.doit()\n",
    "        # Add the evaluated integrals to our integral list\n",
    "        integral_list.append(temp_int)\n",
    "    # Return the integral list\n",
    "    return integral_list"
   ]
  },
  {
   "cell_type": "code",
   "execution_count": 67,
   "id": "c9833f6a",
   "metadata": {},
   "outputs": [
    {
     "name": "stdout",
     "output_type": "stream",
     "text": [
      "\\begin{align*}\n",
      "\\int\\limits_{0}^{t} \\left(e^{k_{1} t} \\frac{d}{d t} f{\\left(t \\right)} + e^{k_{2} t} \\frac{d}{d t} g{\\left(t \\right)}\\right)\\, dt&=- C_{1} - C_{2} - k_{1} \\int\\limits_{0}^{t} f{\\left(s \\right)} e^{k_{1} s}\\, ds - k_{2} \\int\\limits_{0}^{t} g{\\left(s \\right)} e^{k_{2} s}\\, ds + f{\\left(t \\right)} e^{k_{1} t} + g{\\left(t \\right)} e^{k_{2} t}\\\\\n",
      "\\int\\limits_{0}^{t} \\left(e^{k_{1} t} \\frac{d}{d t} f{\\left(t \\right)} + e^{k_{2} t} \\frac{d}{d t} f{\\left(t \\right)}\\right)\\, dt&=- 2 C_{1} + \\left(e^{k_{1} t} + e^{k_{2} t}\\right) f{\\left(t \\right)} - \\int\\limits_{0}^{t} \\left(k_{1} e^{k_{1} s} + k_{2} e^{k_{2} s}\\right) f{\\left(s \\right)}\\, ds\\\\\n",
      "\\int\\limits_{0}^{t} \\frac{d}{d t} f{\\left(t \\right)}\\, dt&=- C_{1} + f{\\left(t \\right)}\\\\\n",
      "\\int\\limits_{0}^{t} k_{1} \\frac{d}{d t} g{\\left(t \\right)}\\, dt&=- C_{2} k_{1} + k_{1} g{\\left(t \\right)}\\\\\n",
      "\\int\\limits_{0}^{t} \\left(- 3 k_{1} \\frac{d}{d t} g{\\left(t \\right)} + 6 \\frac{d}{d t} f{\\left(t \\right)}\\right)\\, dt&=- 6 C_{1} + 3 C_{2} k_{1} - 3 k_{1} g{\\left(t \\right)} + 6 f{\\left(t \\right)}\\\\\n",
      "\\end{align*}\n"
     ]
    }
   ],
   "source": [
    "# Define the necessary functions, constants and integrand\n",
    "function_list = [f, g]\n",
    "constant_list = [C1, C2]\n",
    "integrand_list = [integrand_composite_1, integrand_composite_2,integrand_non_composite_1,integrand_non_composite_2,6*integrand_non_composite_1-3*integrand_non_composite_2]\n",
    "# Define a dummy variable\n",
    "s = Symbol('s')\n",
    "# Let's test the newest version of our function\n",
    "integral_list = integration_by_parts(function_list,constant_list,integrand_list,t,s)\n",
    "# Print the results of our calculations\n",
    "print(\"\\\\begin{align*}\")\n",
    "# Loop over them and print them one by one\n",
    "for index in range(len(integrand_list)):\n",
    "    print(\"%s&=%s\\\\\\\\\"%(latex(Integral(integrand_list[index],(t,0,t))),latex(integral_list[index])))\n",
    "print(\"\\\\end{align*}\")"
   ]
  },
  {
   "cell_type": "markdown",
   "id": "26b94c56",
   "metadata": {},
   "source": [
    "The final test, innit?\n",
    "\\begin{align*}\n",
    "\\int\\limits_{0}^{t} \\left(e^{k_{1} t} \\frac{d}{d t} f{\\left(t \\right)} + e^{k_{2} t} \\frac{d}{d t} g{\\left(t \\right)}\\right)\\, dt&=- C_{1} - C_{2} - k_{1} \\int\\limits_{0}^{t} f{\\left(s \\right)} e^{k_{1} s}\\, ds - k_{2} \\int\\limits_{0}^{t} g{\\left(s \\right)} e^{k_{2} s}\\, ds + f{\\left(t \\right)} e^{k_{1} t} + g{\\left(t \\right)} e^{k_{2} t}\\\\\n",
    "\\int\\limits_{0}^{t} \\left(e^{k_{1} t} \\frac{d}{d t} f{\\left(t \\right)} + e^{k_{2} t} \\frac{d}{d t} f{\\left(t \\right)}\\right)\\, dt&=- 2 C_{1} + \\left(e^{k_{1} t} + e^{k_{2} t}\\right) f{\\left(t \\right)} - \\int\\limits_{0}^{t} \\left(k_{1} e^{k_{1} s} + k_{2} e^{k_{2} s}\\right) f{\\left(s \\right)}\\, ds\\\\\n",
    "\\int\\limits_{0}^{t} \\frac{d}{d t} f{\\left(t \\right)}\\, dt&=- C_{1} + f{\\left(t \\right)}\\\\\n",
    "\\int\\limits_{0}^{t} k_{1} \\frac{d}{d t} g{\\left(t \\right)}\\, dt&=- C_{2} k_{1} + k_{1} g{\\left(t \\right)}\\\\\n",
    "\\int\\limits_{0}^{t} \\left(- 3 k_{1} \\frac{d}{d t} g{\\left(t \\right)} + 6 \\frac{d}{d t} f{\\left(t \\right)}\\right)\\, dt&=- 6 C_{1} + 3 C_{2} k_{1} - 3 k_{1} g{\\left(t \\right)} + 6 f{\\left(t \\right)}\\\\\n",
    "\\end{align*}\n",
    "\n"
   ]
  },
  {
   "cell_type": "code",
   "execution_count": null,
   "id": "5cee0994",
   "metadata": {},
   "outputs": [],
   "source": []
  }
 ],
 "metadata": {
  "kernelspec": {
   "display_name": "Python 3",
   "language": "python",
   "name": "python3"
  },
  "language_info": {
   "codemirror_mode": {
    "name": "ipython",
    "version": 3
   },
   "file_extension": ".py",
   "mimetype": "text/x-python",
   "name": "python",
   "nbconvert_exporter": "python",
   "pygments_lexer": "ipython3",
   "version": "3.8.8"
  }
 },
 "nbformat": 4,
 "nbformat_minor": 5
}
