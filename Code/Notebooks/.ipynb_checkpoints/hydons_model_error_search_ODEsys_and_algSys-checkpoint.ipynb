{
 "cells": [
  {
   "cell_type": "markdown",
   "metadata": {},
   "source": [
    "# Error search ODE system and algebra system Hydons model\n",
    "*Date:* 2021-09-14,<br>\n",
    "*Written by:* Johannes Borgqvist.<br>\n",
    "\n",
    "This document contains an attempt of finding the error in the calculations of the symmetry generators for Hydon's model. The model at hand is the following two component ODE system:\n",
    "\n",
    "\\begin{align}\n",
    "\\dfrac{\\mathrm{d}y_1}{\\mathrm{d}t}&=\\dfrac{ty_1+y_2^2}{y_1 y_2-\n",
    "t^2}=\\omega_1(t,y_1,y_2),\\\\\n",
    "\\dfrac{\\mathrm{d}y_2}{\\mathrm{d}t}&=\\dfrac{ty_2+y_1^2}{y_1 y_2-t^2}=\\omega_2(t,y_1,y_2).\n",
    "\\end{align}\n",
    "To this model, the aim is to find the most general form of the *infinitesimal generator of the Lie group* denoted by $X$ which is defined as follows:\n",
    "\n",
    "$$X=\\xi(t,y_1,y_2)\\partial_t+\\eta_1(t,y_1,y_2)\\partial_{y_1}+\\eta_2(t,y_1,y_2)\\partial_{y_2}.$$\n",
    "\n",
    "To find this generator, a set of *linear ansätze* is used for the three tangents as follows:\n",
    "\n",
    "\\begin{align}\n",
    "\\xi(t,y_1,y_2)&=c_{00}(t)+c_{01}(t)y_1+c_{02}(t)y_2,\\\\\n",
    "\\eta_1(t,y_1,y_2)&=c_{10}(t)+c_{11}(t)y_1+c_{12}(t)y_2,\\\\\n",
    "\\eta_2(t,y_1,y_2)&=c_{20}(t)+c_{21}(t)y_1+c_{22}(t)y_2.\\\\\n",
    "\\end{align}\n",
    "The aim is to find the nine arbitrary functions $c_{ij}(t)$ for the two indices $i,j\\in\\left\\{0,1,2\\right\\}$. The equations required in order to find these constants are given by the two *linearised symmetry conditions* given by\n",
    "\n",
    "$$X^{(1)}(y_k'-\\omega_k(t,y_1,y_2))=0,\\;\\;\\textrm{for}\\;\\;k\\in\\left\\{1,2\\right\\}.$$\n",
    "Here, $X^{(1)}$ corresponds to the prolonged generator given by\n",
    "\n",
    "$$X^{(1)}=X+\\eta_1^{(1)}\\partial_{y_1'}+\\eta_2^{(1)}\\partial_{y_2'}$$\n",
    "where the prolonged tangents are given by the *prolongation formula*:\n",
    "$$\\eta_k^{(1)}=D_t\\eta_k-y'D_t\\xi,\\;\\;\\textrm{for}\\;\\;k\\in\\left\\{1,2\\right\\}$$\n",
    "where the total derivative is defined as follows: $D_t=\\partial_t+y_1'\\partial_{y_1}+y_2'\\partial_{y_2}$. Now, plugging in these ansätze will result in a linear system of equations which can be formulated on matrix form as follows:\n",
    "\n",
    "$$A\\dfrac{\\mathrm{d}\\mathbf{c}(t)}{\\mathrm{d}t}=B\\mathbf{c}(t)$$\n",
    "where the vector $\\mathbf{c}(t)\\in\\mathcal{C}(\\mathbb{R}^9)$ contains the nine arbitrary coefficients in the tangential ansätze. Typically, the number of equations are much larger than the number of unknowns meaning that if $A,B\\in\\mathcal{C}\\left(\\mathbb{R}^{n\\times m}\\right)$ then $n\\gg m$ (in this case $m=9$). After row reducing this system and simplifying it is (in the best of worlds) possible to write the system on the following form:\n",
    "\n",
    "\\begin{align}\n",
    "\\dfrac{\\mathrm{d}\\mathbf{c}(t)}{\\mathrm{d}t}&=B\\mathbf{c}(t),\\\\\n",
    "B_{\\mathrm{algebraic}}\\mathbf{c}(t)&=\\mathbf{0}.\n",
    "\\end{align}\n",
    "The first ODE system is a quadratic ODE system which can be solved using the Jordan decomposition. That is if \n",
    "$$B=P^{-1}JP$$\n",
    "then the solution to the ODE system is given by\n",
    "$$\\mathbf{c}(t)=P^{-1}e^{Jt}P\\mathbf{c}_0$$\n",
    "for some initial condition $\\mathbf{c}_{0}$ composed of arbitrary integration constants. Then the solution of the system of ODEs is plugged in to the algebraic equations given by the second matrix equation above. This will result in certain algebraic equations that can simplify the results even further. \n",
    "\n",
    "Now, the problem is that certain generators are obtained that do not solve the linearised symmetry conditions. This implies that the implementation of the algorithm is wrong, as the methodology of ansätze can never yield non-solutions. Therefore, the Hydon example will be used to see if the error is introduced in the solution of the ODE system or if it is when certain simplifications are made when the algebraic equations are solved. \n",
    "\n",
    "What will be done in the subsequent cells is that all matrices will be printed out and then we will try to track down the error. "
   ]
  },
  {
   "cell_type": "code",
   "execution_count": null,
   "metadata": {},
   "outputs": [],
   "source": []
  }
 ],
 "metadata": {
  "kernelspec": {
   "display_name": "Python 3",
   "language": "python",
   "name": "python3"
  },
  "language_info": {
   "codemirror_mode": {
    "name": "ipython",
    "version": 3
   },
   "file_extension": ".py",
   "mimetype": "text/x-python",
   "name": "python",
   "nbconvert_exporter": "python",
   "pygments_lexer": "ipython3",
   "version": "3.8.3"
  }
 },
 "nbformat": 4,
 "nbformat_minor": 4
}
