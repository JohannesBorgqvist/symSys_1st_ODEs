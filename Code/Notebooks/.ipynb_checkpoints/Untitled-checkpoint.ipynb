{
 "cells": [
  {
   "cell_type": "markdown",
   "metadata": {},
   "source": [
    "# Error search linear model\n",
    "Apparently there are some problems in the last step where we try to solve the general linear model\n",
    "\n",
    "\\begin{align}\n",
    "\\dfrac{\\mathrm{d}u}{\\mathrm{d}t}&=a(t)u+b(t)v,\\\\\n",
    "\\dfrac{\\mathrm{d}v}{\\mathrm{d}t}&=c(t)u+d(t)v.\n",
    "\\end{align}\n",
    "So, the aim of this notebook is to try and find this error. The first error message comes when the algebraic equations are solved. Let's see what we have here by printing out the various parts of the codes."
   ]
  },
  {
   "cell_type": "markdown",
   "metadata": {},
   "source": []
  }
 ],
 "metadata": {
  "kernelspec": {
   "display_name": "Python 3",
   "language": "python",
   "name": "python3"
  },
  "language_info": {
   "codemirror_mode": {
    "name": "ipython",
    "version": 3
   },
   "file_extension": ".py",
   "mimetype": "text/x-python",
   "name": "python",
   "nbconvert_exporter": "python",
   "pygments_lexer": "ipython3",
   "version": "3.8.3"
  }
 },
 "nbformat": 4,
 "nbformat_minor": 4
}
