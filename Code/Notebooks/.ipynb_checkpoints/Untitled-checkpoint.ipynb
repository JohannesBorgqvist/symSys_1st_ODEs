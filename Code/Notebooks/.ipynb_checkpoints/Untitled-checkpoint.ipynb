{
 "cells": [
  {
   "cell_type": "markdown",
   "id": "c80b373d",
   "metadata": {},
   "source": [
    "# Integration by parts with arbitrary functions in *sympy*\n",
    "*Date:* 2021-10-04,<br>\n",
    "*Written by:* Johannes Borgqvist. <br>\n",
    "\n",
    "One of the last steps in order to finish the writing of the code is to be able to evaluate integrals by using integration by parts on an integral where the integrand contains an unknown function or more specifically the derivative of an unknown function. To this end, this notebook is an attempt to start writing the function(s) required to simplify these integrals. Also, the integrals should be definite where the integration is conducted with the help of a dummy variable.\n",
    "\n",
    "More concretely, consider the following integral\n",
    "\n",
    "$$\\int^{t}_{0}\\dfrac{\\mathrm{d}f(s)}{\\mathrm{d}s}e^{ks}\\mathrm{d}s$$\n",
    "where $t$ is the variable, $f$ is the unknown function, $s$ is the dummy variable and $k$ is an arbitrary constant. Then the integration by parts of the above integral looks as follows:\n",
    "\\begin{align}\n",
    "\\int^{t}_{0}\\dfrac{\\mathrm{d}f(s)}{\\mathrm{d}s}e^{ks}\\mathrm{d}s&=\\left[f(s)e^{ks}\\right]^{t}_{0}-k\\int^{t}_{0}f(s)e^{ks}\\mathrm{d}s\\\\\n",
    "&=f(t)e^{kt}-\\underset{=C}{\\underbrace{f(0)}}-k\\int^{t}_{0}f(s)e^{ks}\\mathrm{d}s\\\\\n",
    "\\Longrightarrow \\int^{t}_{0}\\dfrac{\\mathrm{d}f(s)}{\\mathrm{d}s}e^{ks}\\mathrm{d}s&=f(t)e^{kt}-C-k\\int^{t}_{0}f(s)e^{ks}\\mathrm{d}s\n",
    "\\end{align}\n",
    "where $C$ is an arbitrary integration constant. "
   ]
  },
  {
   "cell_type": "code",
   "execution_count": null,
   "id": "279d84fd",
   "metadata": {},
   "outputs": [],
   "source": []
  }
 ],
 "metadata": {
  "kernelspec": {
   "display_name": "Python 3",
   "language": "python",
   "name": "python3"
  },
  "language_info": {
   "codemirror_mode": {
    "name": "ipython",
    "version": 3
   },
   "file_extension": ".py",
   "mimetype": "text/x-python",
   "name": "python",
   "nbconvert_exporter": "python",
   "pygments_lexer": "ipython3",
   "version": "3.8.8"
  }
 },
 "nbformat": 4,
 "nbformat_minor": 5
}
