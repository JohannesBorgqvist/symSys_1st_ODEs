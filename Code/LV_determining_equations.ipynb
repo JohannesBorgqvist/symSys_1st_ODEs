{
 "cells": [
  {
   "cell_type": "markdown",
   "metadata": {},
   "source": [
    "# Deriving the determining equations of the Lotka-Volterra equations\n",
    "*Date*: 2022-03-30,<br>\n",
    "*Written by:* Johannes Borgqvist.<br>\n",
    "Ok, so consider the dimensionles *Lotka-Volterra* model:\n",
    "\\begin{align}\n",
    "    \\dfrac{\\mathrm{d}u}{\\mathrm{d}t}&=u(1-v),\\\\\n",
    "    \\dfrac{\\mathrm{d}v}{\\mathrm{d}t}&=\\alpha v(u-1).\\\\\n",
    "\\end{align}\n",
    "Now, we would like to see if we can derive the determining equations from this using sympy. <br>\n",
    "\n",
    "\n",
    "\n",
    "Expression before substitution\n",
    "$$\\frac{d}{d t} u{\\left(t \\right)} \\frac{d}{d u{\\left(t \\right)}} \\xi{\\left(t,u{\\left(t \\right)},v{\\left(t \\right)} \\right)} + \\frac{d}{d t} v{\\left(t \\right)} \\frac{d}{d v{\\left(t \\right)}} \\xi{\\left(t,u{\\left(t \\right)},v{\\left(t \\right)} \\right)} + \\left. \\frac{\\partial}{\\partial \\xi_{1}} \\xi{\\left(\\xi_{1},u{\\left(t \\right)},v{\\left(t \\right)} \\right)} \\right|_{\\substack{ \\xi_{1}=t }}$$\n",
    "Expression after substitution\n",
    "$$a u{\\left(t \\right)} v{\\left(t \\right)} \\frac{d}{d v{\\left(t \\right)}} \\xi{\\left(t,u{\\left(t \\right)},v{\\left(t \\right)} \\right)} - a v{\\left(t \\right)} \\frac{d}{d v{\\left(t \\right)}} \\xi{\\left(t,u{\\left(t \\right)},v{\\left(t \\right)} \\right)} - u{\\left(t \\right)} v{\\left(t \\right)} \\frac{d}{d u{\\left(t \\right)}} \\xi{\\left(t,u{\\left(t \\right)},v{\\left(t \\right)} \\right)} + u{\\left(t \\right)} \\frac{d}{d u{\\left(t \\right)}} \\xi{\\left(t,u{\\left(t \\right)},v{\\left(t \\right)} \\right)} + \\left. \\frac{\\partial}{\\partial \\xi_{1}} \\xi{\\left(\\xi_{1},u{\\left(t \\right)},v{\\left(t \\right)} \\right)} \\right|_{\\substack{ \\xi_{1}=t }}$$\n",
    "Extract individual coefficient in front of $u{\\left(t \\right)} v{\\left(t \\right)}$\n",
    "$$a \\frac{d}{d v{\\left(t \\right)}} \\xi{\\left(t,u{\\left(t \\right)},v{\\left(t \\right)} \\right)} - \\frac{d}{d u{\\left(t \\right)}} \\xi{\\left(t,u{\\left(t \\right)},v{\\left(t \\right)} \\right)}$$\n",
    "\n",
    "\n",
    "\n",
    "\n",
    "\n",
    "\n",
    "\n",
    "\n"
   ]
  },
  {
   "cell_type": "code",
   "execution_count": null,
   "metadata": {},
   "outputs": [],
   "source": [
    "# Import sympy\n",
    "from sympy import *\n",
    "# Finding monomials\n",
    "from sympy.polys.monomials import itermonomials, monomial_count\n",
    "# Ordering monomials \n",
    "from sympy.polys.orderings import monomial_key"
   ]
  },
  {
   "cell_type": "code",
   "execution_count": null,
   "metadata": {},
   "outputs": [],
   "source": [
    "# Independent variable\n",
    "t = symbols('t')\n",
    "# Temporary variables for the dependent variables\n",
    "x, y = symbols('x y')\n",
    "# Dependent variables\n",
    "u,v,xi,eta_1,eta_2 = symbols('u v xi eta_1 eta_2',cls=Function)\n",
    "# Define our reaction terms\n",
    "omega_1, omega_2 = symbols('omega_1 omega_2',cls=Function)\n",
    "# Define our parameter a\n",
    "a = symbols('a')\n",
    "# Define our reaction terms\n",
    "omega_1 = x*(1-y)\n",
    "omega_2 = a*y*(x-1)\n",
    "# Define our tangents\n",
    "xi_f = xi(t,u(t),v(t))\n",
    "eta_1_f = eta_1(t,u(t),v(t))\n",
    "eta_2_f = eta_2(t,u(t),v(t))\n",
    "# Create an expression\n",
    "lin_sym_1 = Derivative(eta_1_f).doit() - omega_1*Derivative(xi_f).doit() - eta_1_f*Derivative(omega_1,x).doit() - eta_2_f*Derivative(omega_1,y).doit()\n",
    "lin_sym_1 = lin_sym_1.subs(Derivative(u(t), t),omega_1)\n",
    "lin_sym_1 = expand(lin_sym_1.subs(Derivative(v(t), t),omega_2))\n",
    "# Generate all monomials for our polynomials\n",
    "M = list(itermonomials([x, y], 3))\n",
    "# Sort the list\n",
    "M = sorted(M, key=monomial_key('lex', [x, y]))\n",
    "# Calculate the number of terms in each of the polynomials\n",
    "num_of_terms = monomial_count(2,3)\n",
    "print(\"Linearised symmetry condition\")\n",
    "print(lin_sym_1)\n",
    "print(\"The monomials\")\n",
    "print(M)\n",
    "print(\"\\t\\tNumber of terms\\t=\\t%d\\n\\n\"%(num_of_terms))\n",
    "# Print the linearised symmetry condition\n",
    "lin_sym_temp = lin_sym_1.subs(x,u(t))\n",
    "lin_sym_temp = lin_sym_temp.subs(y,v(t))\n",
    "print(\"$$\" + latex(lin_sym_temp) + \"=0$$\")\n",
    "# Extract the determining equations\n",
    "initial_det_eq = [(monomial,lin_sym_1.coeff(monomial)) for monomial in M if monomial!= 0]\n",
    "# Save det_eq\n",
    "det_eq = []\n",
    "# Loop over all determining equations and remove all elements with x and y\n",
    "for index in range(len(det_eq)):\n",
    "    temp_eq = initial_det_eq[index][1].subs(x,0)\n",
    "    temp_eq = temp_eq.subs(y,0)\n",
    "    if temp_eq != 0:\n",
    "        det_eq.append(initial_det_eq[index])\n",
    "    #det_eq[index][1] = det_eq[index][1].subs(x,0)\n",
    "    #det_eq[index][1] = det_eq[index][1].subs(y,0)\n",
    "print(det_eq)"
   ]
  },
  {
   "cell_type": "code",
   "execution_count": null,
   "metadata": {},
   "outputs": [],
   "source": []
  },
  {
   "cell_type": "code",
   "execution_count": null,
   "metadata": {},
   "outputs": [],
   "source": []
  }
 ],
 "metadata": {
  "kernelspec": {
   "display_name": "Python 3 (ipykernel)",
   "language": "python",
   "name": "python3"
  },
  "language_info": {
   "codemirror_mode": {
    "name": "ipython",
    "version": 3
   },
   "file_extension": ".py",
   "mimetype": "text/x-python",
   "name": "python",
   "nbconvert_exporter": "python",
   "pygments_lexer": "ipython3",
   "version": "3.8.8"
  }
 },
 "nbformat": 4,
 "nbformat_minor": 5
}
