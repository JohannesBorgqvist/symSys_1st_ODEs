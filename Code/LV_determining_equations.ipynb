{
 "cells": [
  {
   "cell_type": "markdown",
   "id": "bf40e7ac",
   "metadata": {},
   "source": [
    "# Deriving the determining equations of the Lotka-Volterra equations\n",
    "*Date*: 2022-03-30,<br>\n",
    "*Written by:* Johannes Borgqvist.<br>\n",
    "Ok, so consider the dimensionless *Lotka-Volterra* model:\n",
    "\\begin{align}\n",
    "    \\dfrac{\\mathrm{d}u}{\\mathrm{d}t}&=u(1-v),\\\\\n",
    "    \\dfrac{\\mathrm{d}v}{\\mathrm{d}t}&=\\alpha v(u-1).\\\\\n",
    "\\end{align}\n",
    "Now, we would like to see if we can derive the determining equations from this using sympy. <br>"
   ]
  },
  {
   "cell_type": "code",
   "execution_count": 1,
   "id": "cddf32d5",
   "metadata": {},
   "outputs": [],
   "source": [
    "# Import sympy\n",
    "from sympy import *\n",
    "# Finding monomials\n",
    "from sympy.polys.monomials import itermonomials, monomial_count\n",
    "# Ordering monomials \n",
    "from sympy.polys.orderings import monomial_key"
   ]
  },
  {
   "cell_type": "markdown",
   "id": "d2a12ed0",
   "metadata": {},
   "source": [
    "# Setting up the reaction terms and so on"
   ]
  },
  {
   "cell_type": "code",
   "execution_count": 2,
   "id": "59adb405",
   "metadata": {},
   "outputs": [
    {
     "name": "stdout",
     "output_type": "stream",
     "text": [
      "The monomials\n",
      "[1, y, y**2, y**3, y**4, y**5, y**6, x, x*y, x*y**2, x*y**3, x*y**4, x*y**5, x**2, x**2*y, x**2*y**2, x**2*y**3, x**2*y**4, x**3, x**3*y, x**3*y**2, x**3*y**3, x**4, x**4*y, x**4*y**2, x**5, x**5*y, x**6]\n",
      "\t\tNumber of terms\t=\t10\n",
      "\n",
      "\n"
     ]
    }
   ],
   "source": [
    "# Independent variable\n",
    "t = symbols('t')\n",
    "# Temporary variables for the dependent variables\n",
    "x, y = symbols('x y')\n",
    "# Dependent variables\n",
    "u,v,xi,eta_1,eta_2 = symbols('u v xi eta_1 eta_2',cls=Function)\n",
    "# Define our reaction terms\n",
    "omega_1, omega_2 = symbols('omega_1 omega_2',cls=Function)\n",
    "# Define our parameter a\n",
    "a = symbols('a')\n",
    "# Define our reaction terms\n",
    "omega_1 = x*(1-y)\n",
    "omega_2 = a*y*(x-1)\n",
    "# Define our tangents\n",
    "xi_f = xi(t,u(t),v(t))\n",
    "eta_1_f = eta_1(t,u(t),v(t))\n",
    "eta_2_f = eta_2(t,u(t),v(t))\n",
    "# Generate all monomials for our polynomials\n",
    "M = list(itermonomials([x, y], 6))\n",
    "# Sort the list\n",
    "M = sorted(M, key=monomial_key('lex', [x, y]))\n",
    "# Calculate the number of terms in each of the polynomials\n",
    "num_of_terms = monomial_count(2,3)\n",
    "print(\"The monomials\")\n",
    "print(M)\n",
    "print(\"\\t\\tNumber of terms\\t=\\t%d\\n\\n\"%(num_of_terms))"
   ]
  },
  {
   "cell_type": "markdown",
   "id": "abdc7d87",
   "metadata": {},
   "source": [
    "# Linearised symmetry condition 1"
   ]
  },
  {
   "cell_type": "code",
   "execution_count": 3,
   "id": "8d16373d",
   "metadata": {},
   "outputs": [
    {
     "name": "stdout",
     "output_type": "stream",
     "text": [
      "Linearised symmetry condition 1\n",
      "$$a u^{2}{\\left(t \\right)} v^{2}{\\left(t \\right)} \\frac{d}{d v{\\left(t \\right)}} \\xi{\\left(t,u{\\left(t \\right)},v{\\left(t \\right)} \\right)} - a u^{2}{\\left(t \\right)} v{\\left(t \\right)} \\frac{d}{d v{\\left(t \\right)}} \\xi{\\left(t,u{\\left(t \\right)},v{\\left(t \\right)} \\right)} - a u{\\left(t \\right)} v^{2}{\\left(t \\right)} \\frac{d}{d v{\\left(t \\right)}} \\xi{\\left(t,u{\\left(t \\right)},v{\\left(t \\right)} \\right)} + a u{\\left(t \\right)} v{\\left(t \\right)} \\frac{d}{d v{\\left(t \\right)}} \\eta_{1}{\\left(t,u{\\left(t \\right)},v{\\left(t \\right)} \\right)} + a u{\\left(t \\right)} v{\\left(t \\right)} \\frac{d}{d v{\\left(t \\right)}} \\xi{\\left(t,u{\\left(t \\right)},v{\\left(t \\right)} \\right)} - a v{\\left(t \\right)} \\frac{d}{d v{\\left(t \\right)}} \\eta_{1}{\\left(t,u{\\left(t \\right)},v{\\left(t \\right)} \\right)} + \\eta_{1}{\\left(t,u{\\left(t \\right)},v{\\left(t \\right)} \\right)} v{\\left(t \\right)} - \\eta_{1}{\\left(t,u{\\left(t \\right)},v{\\left(t \\right)} \\right)} + \\eta_{2}{\\left(t,u{\\left(t \\right)},v{\\left(t \\right)} \\right)} u{\\left(t \\right)} - u^{2}{\\left(t \\right)} v^{2}{\\left(t \\right)} \\frac{d}{d u{\\left(t \\right)}} \\xi{\\left(t,u{\\left(t \\right)},v{\\left(t \\right)} \\right)} + 2 u^{2}{\\left(t \\right)} v{\\left(t \\right)} \\frac{d}{d u{\\left(t \\right)}} \\xi{\\left(t,u{\\left(t \\right)},v{\\left(t \\right)} \\right)} - u^{2}{\\left(t \\right)} \\frac{d}{d u{\\left(t \\right)}} \\xi{\\left(t,u{\\left(t \\right)},v{\\left(t \\right)} \\right)} - u{\\left(t \\right)} v{\\left(t \\right)} \\frac{d}{d u{\\left(t \\right)}} \\eta_{1}{\\left(t,u{\\left(t \\right)},v{\\left(t \\right)} \\right)} + u{\\left(t \\right)} v{\\left(t \\right)} \\left. \\frac{\\partial}{\\partial \\xi_{1}} \\xi{\\left(\\xi_{1},u{\\left(t \\right)},v{\\left(t \\right)} \\right)} \\right|_{\\substack{ \\xi_{1}=t }} + u{\\left(t \\right)} \\frac{d}{d u{\\left(t \\right)}} \\eta_{1}{\\left(t,u{\\left(t \\right)},v{\\left(t \\right)} \\right)} - u{\\left(t \\right)} \\left. \\frac{\\partial}{\\partial \\xi_{1}} \\xi{\\left(\\xi_{1},u{\\left(t \\right)},v{\\left(t \\right)} \\right)} \\right|_{\\substack{ \\xi_{1}=t }} + \\left. \\frac{\\partial}{\\partial \\xi_{1}} \\eta_{1}{\\left(\\xi_{1},u{\\left(t \\right)},v{\\left(t \\right)} \\right)} \\right|_{\\substack{ \\xi_{1}=t }}=0$$\n",
      "Zeroth coefficient\n",
      "-eta_1(t, u(t), v(t)) + Subs(Derivative(eta_1(_xi_1, u(t), v(t)), _xi_1), _xi_1, t)\n",
      "Printing the determining equations:\n",
      "\n",
      "\\begin{align*}\n",
      "1:&- \\eta_{1}{\\left(t,u{\\left(t \\right)},v{\\left(t \\right)} \\right)} + \\left. \\frac{\\partial}{\\partial \\xi_{1}} \\eta_{1}{\\left(\\xi_{1},u{\\left(t \\right)},v{\\left(t \\right)} \\right)} \\right|_{\\substack{ \\xi_{1}=t }}=0\\\\\n",
      "v:&- a \\frac{d}{d v{\\left(t \\right)}} \\eta_{1}{\\left(t,u{\\left(t \\right)},v{\\left(t \\right)} \\right)} + \\eta_{1}{\\left(t,u{\\left(t \\right)},v{\\left(t \\right)} \\right)}=0\\\\\n",
      "u:&\\eta_{2}{\\left(t,u{\\left(t \\right)},v{\\left(t \\right)} \\right)} + \\frac{d}{d u{\\left(t \\right)}} \\eta_{1}{\\left(t,u{\\left(t \\right)},v{\\left(t \\right)} \\right)} - \\left. \\frac{\\partial}{\\partial \\xi_{1}} \\xi{\\left(\\xi_{1},u{\\left(t \\right)},v{\\left(t \\right)} \\right)} \\right|_{\\substack{ \\xi_{1}=t }}=0\\\\\n",
      "u v:&a \\frac{d}{d v{\\left(t \\right)}} \\eta_{1}{\\left(t,u{\\left(t \\right)},v{\\left(t \\right)} \\right)} + a \\frac{d}{d v{\\left(t \\right)}} \\xi{\\left(t,u{\\left(t \\right)},v{\\left(t \\right)} \\right)} - \\frac{d}{d u{\\left(t \\right)}} \\eta_{1}{\\left(t,u{\\left(t \\right)},v{\\left(t \\right)} \\right)} + \\left. \\frac{\\partial}{\\partial \\xi_{1}} \\xi{\\left(\\xi_{1},u{\\left(t \\right)},v{\\left(t \\right)} \\right)} \\right|_{\\substack{ \\xi_{1}=t }}=0\\\\\n",
      "u v^{2}:&- a \\frac{d}{d v{\\left(t \\right)}} \\xi{\\left(t,u{\\left(t \\right)},v{\\left(t \\right)} \\right)}=0\\\\\n",
      "u^{2}:&- \\frac{d}{d u{\\left(t \\right)}} \\xi{\\left(t,u{\\left(t \\right)},v{\\left(t \\right)} \\right)}=0\\\\\n",
      "u^{2} v:&- a \\frac{d}{d v{\\left(t \\right)}} \\xi{\\left(t,u{\\left(t \\right)},v{\\left(t \\right)} \\right)} + 2 \\frac{d}{d u{\\left(t \\right)}} \\xi{\\left(t,u{\\left(t \\right)},v{\\left(t \\right)} \\right)}=0\\\\\n",
      "u^{2} v^{2}:&a \\frac{d}{d v{\\left(t \\right)}} \\xi{\\left(t,u{\\left(t \\right)},v{\\left(t \\right)} \\right)} - \\frac{d}{d u{\\left(t \\right)}} \\xi{\\left(t,u{\\left(t \\right)},v{\\left(t \\right)} \\right)}=0\\\\\n",
      "\\end{align*}\n"
     ]
    }
   ],
   "source": [
    "# Create an expression for the linearised symmetry condition\n",
    "lin_sym_1 = Derivative(eta_1_f).doit() - omega_1*Derivative(xi_f).doit() - eta_1_f*Derivative(omega_1,x).doit() - eta_2_f*Derivative(omega_1,y).doit()\n",
    "lin_sym_1 = lin_sym_1.subs(Derivative(u(t), t),omega_1)\n",
    "lin_sym_1 = expand(lin_sym_1.subs(Derivative(v(t), t),omega_2))\n",
    "# Print the linearised symmetry condition\n",
    "lin_sym_temp = lin_sym_1.subs(x,u(t))\n",
    "lin_sym_temp = lin_sym_temp.subs(y,v(t))\n",
    "print(\"Linearised symmetry condition 1\")\n",
    "print(\"$$\" + latex(lin_sym_temp) + \"=0$$\")\n",
    "# Extract the determining equations\n",
    "initial_det_eq = [(monomial,lin_sym_1.coeff(monomial)) for monomial in M if monomial!= 0]\n",
    "# The constant term is bound to be wrong so let's fix it\n",
    "coeff_0 = lin_sym_1.subs(x,0)\n",
    "coeff_0 = coeff_0.subs(y,0)\n",
    "initial_det_eq[0] = (1,coeff_0) \n",
    "# Extract the zeroth coefficient\n",
    "print(\"Zeroth coefficient\")\n",
    "coeff_0 = initial_det_eq[0][1]\n",
    "coeff_0 = coeff_0.subs(x,0)\n",
    "coeff_0 = coeff_0.subs(y,0)\n",
    "print(coeff_0)\n",
    "\n",
    "# Save det_eq\n",
    "det_eq = []\n",
    "# Loop over all determining equations and remove all elements with x and y\n",
    "for index in range(len(initial_det_eq)):\n",
    "    coeff = initial_det_eq[index][1]\n",
    "    coeff = coeff.subs(x,0)\n",
    "    coeff = coeff.subs(y,0)\n",
    "    if coeff != 0:\n",
    "        det_eq.append((initial_det_eq[index][0],coeff))\n",
    "# Print these coefficients nicely in latex\n",
    "print(\"Printing the determining equations:\")\n",
    "print(\"\\n\\\\begin{align*}\")\n",
    "for det_eq_index in range(len(det_eq)):\n",
    "    monomial_string = latex(det_eq[det_eq_index][0])\n",
    "    monomial_string = monomial_string.replace(\"x\",\"u\")\n",
    "    monomial_string = monomial_string.replace(\"y\",\"v\")\n",
    "    # Print the equation    \n",
    "    print(monomial_string + \":&\" + latex(det_eq[det_eq_index][1]) + \"=0\\\\\\\\\")\n",
    "print(\"\\\\end{align*}\")\n"
   ]
  },
  {
   "cell_type": "markdown",
   "id": "0118df69",
   "metadata": {},
   "source": [
    "# Linearised symmetry condition 2"
   ]
  },
  {
   "cell_type": "code",
   "execution_count": 4,
   "id": "8d4d5597",
   "metadata": {},
   "outputs": [
    {
     "name": "stdout",
     "output_type": "stream",
     "text": [
      "Linearised symmetry condition 2\n",
      "$$- a^{2} u^{2}{\\left(t \\right)} v^{2}{\\left(t \\right)} \\frac{d}{d v{\\left(t \\right)}} \\xi{\\left(t,u{\\left(t \\right)},v{\\left(t \\right)} \\right)} + 2 a^{2} u{\\left(t \\right)} v^{2}{\\left(t \\right)} \\frac{d}{d v{\\left(t \\right)}} \\xi{\\left(t,u{\\left(t \\right)},v{\\left(t \\right)} \\right)} - a^{2} v^{2}{\\left(t \\right)} \\frac{d}{d v{\\left(t \\right)}} \\xi{\\left(t,u{\\left(t \\right)},v{\\left(t \\right)} \\right)} - a \\eta_{1}{\\left(t,u{\\left(t \\right)},v{\\left(t \\right)} \\right)} v{\\left(t \\right)} - a \\eta_{2}{\\left(t,u{\\left(t \\right)},v{\\left(t \\right)} \\right)} u{\\left(t \\right)} + a \\eta_{2}{\\left(t,u{\\left(t \\right)},v{\\left(t \\right)} \\right)} + a u^{2}{\\left(t \\right)} v^{2}{\\left(t \\right)} \\frac{d}{d u{\\left(t \\right)}} \\xi{\\left(t,u{\\left(t \\right)},v{\\left(t \\right)} \\right)} - a u^{2}{\\left(t \\right)} v{\\left(t \\right)} \\frac{d}{d u{\\left(t \\right)}} \\xi{\\left(t,u{\\left(t \\right)},v{\\left(t \\right)} \\right)} - a u{\\left(t \\right)} v^{2}{\\left(t \\right)} \\frac{d}{d u{\\left(t \\right)}} \\xi{\\left(t,u{\\left(t \\right)},v{\\left(t \\right)} \\right)} + a u{\\left(t \\right)} v{\\left(t \\right)} \\frac{d}{d v{\\left(t \\right)}} \\eta_{2}{\\left(t,u{\\left(t \\right)},v{\\left(t \\right)} \\right)} + a u{\\left(t \\right)} v{\\left(t \\right)} \\frac{d}{d u{\\left(t \\right)}} \\xi{\\left(t,u{\\left(t \\right)},v{\\left(t \\right)} \\right)} - a u{\\left(t \\right)} v{\\left(t \\right)} \\left. \\frac{\\partial}{\\partial \\xi_{1}} \\xi{\\left(\\xi_{1},u{\\left(t \\right)},v{\\left(t \\right)} \\right)} \\right|_{\\substack{ \\xi_{1}=t }} - a v{\\left(t \\right)} \\frac{d}{d v{\\left(t \\right)}} \\eta_{2}{\\left(t,u{\\left(t \\right)},v{\\left(t \\right)} \\right)} + a v{\\left(t \\right)} \\left. \\frac{\\partial}{\\partial \\xi_{1}} \\xi{\\left(\\xi_{1},u{\\left(t \\right)},v{\\left(t \\right)} \\right)} \\right|_{\\substack{ \\xi_{1}=t }} - u{\\left(t \\right)} v{\\left(t \\right)} \\frac{d}{d u{\\left(t \\right)}} \\eta_{2}{\\left(t,u{\\left(t \\right)},v{\\left(t \\right)} \\right)} + u{\\left(t \\right)} \\frac{d}{d u{\\left(t \\right)}} \\eta_{2}{\\left(t,u{\\left(t \\right)},v{\\left(t \\right)} \\right)} + \\left. \\frac{\\partial}{\\partial \\xi_{1}} \\eta_{2}{\\left(\\xi_{1},u{\\left(t \\right)},v{\\left(t \\right)} \\right)} \\right|_{\\substack{ \\xi_{1}=t }}=0$$\n",
      "Zeroth coefficient\n",
      "a*eta_2(t, u(t), v(t)) + Subs(Derivative(eta_2(_xi_1, u(t), v(t)), _xi_1), _xi_1, t)\n",
      "Printing the determining equations:\n",
      "\n",
      "\\begin{align*}\n",
      "1:&a \\eta_{2}{\\left(t,u{\\left(t \\right)},v{\\left(t \\right)} \\right)} + \\left. \\frac{\\partial}{\\partial \\xi_{1}} \\eta_{2}{\\left(\\xi_{1},u{\\left(t \\right)},v{\\left(t \\right)} \\right)} \\right|_{\\substack{ \\xi_{1}=t }}=0\\\\\n",
      "v:&- a \\eta_{1}{\\left(t,u{\\left(t \\right)},v{\\left(t \\right)} \\right)} - a \\frac{d}{d v{\\left(t \\right)}} \\eta_{2}{\\left(t,u{\\left(t \\right)},v{\\left(t \\right)} \\right)} + a \\left. \\frac{\\partial}{\\partial \\xi_{1}} \\xi{\\left(\\xi_{1},u{\\left(t \\right)},v{\\left(t \\right)} \\right)} \\right|_{\\substack{ \\xi_{1}=t }}=0\\\\\n",
      "v^{2}:&- a^{2} \\frac{d}{d v{\\left(t \\right)}} \\xi{\\left(t,u{\\left(t \\right)},v{\\left(t \\right)} \\right)}=0\\\\\n",
      "u:&- a \\eta_{2}{\\left(t,u{\\left(t \\right)},v{\\left(t \\right)} \\right)} + \\frac{d}{d u{\\left(t \\right)}} \\eta_{2}{\\left(t,u{\\left(t \\right)},v{\\left(t \\right)} \\right)}=0\\\\\n",
      "u v:&a \\frac{d}{d v{\\left(t \\right)}} \\eta_{2}{\\left(t,u{\\left(t \\right)},v{\\left(t \\right)} \\right)} + a \\frac{d}{d u{\\left(t \\right)}} \\xi{\\left(t,u{\\left(t \\right)},v{\\left(t \\right)} \\right)} - a \\left. \\frac{\\partial}{\\partial \\xi_{1}} \\xi{\\left(\\xi_{1},u{\\left(t \\right)},v{\\left(t \\right)} \\right)} \\right|_{\\substack{ \\xi_{1}=t }} - \\frac{d}{d u{\\left(t \\right)}} \\eta_{2}{\\left(t,u{\\left(t \\right)},v{\\left(t \\right)} \\right)}=0\\\\\n",
      "u v^{2}:&2 a^{2} \\frac{d}{d v{\\left(t \\right)}} \\xi{\\left(t,u{\\left(t \\right)},v{\\left(t \\right)} \\right)} - a \\frac{d}{d u{\\left(t \\right)}} \\xi{\\left(t,u{\\left(t \\right)},v{\\left(t \\right)} \\right)}=0\\\\\n",
      "u^{2} v:&- a \\frac{d}{d u{\\left(t \\right)}} \\xi{\\left(t,u{\\left(t \\right)},v{\\left(t \\right)} \\right)}=0\\\\\n",
      "u^{2} v^{2}:&- a^{2} \\frac{d}{d v{\\left(t \\right)}} \\xi{\\left(t,u{\\left(t \\right)},v{\\left(t \\right)} \\right)} + a \\frac{d}{d u{\\left(t \\right)}} \\xi{\\left(t,u{\\left(t \\right)},v{\\left(t \\right)} \\right)}=0\\\\\n",
      "\\end{align*}\n"
     ]
    }
   ],
   "source": [
    "# Create an expression for the linearised symmetry condition\n",
    "lin_sym_2 = Derivative(eta_2_f).doit() - omega_2*Derivative(xi_f).doit() - eta_1_f*Derivative(omega_2,x).doit() - eta_2_f*Derivative(omega_2,y).doit()\n",
    "lin_sym_2 = lin_sym_2.subs(Derivative(u(t), t),omega_1)\n",
    "lin_sym_2 = expand(lin_sym_2.subs(Derivative(v(t), t),omega_2))\n",
    "# Print the linearised symmetry condition\n",
    "lin_sym_temp = lin_sym_2.subs(x,u(t))\n",
    "lin_sym_temp = lin_sym_temp.subs(y,v(t))\n",
    "print(\"Linearised symmetry condition 2\")\n",
    "print(\"$$\" + latex(lin_sym_temp) + \"=0$$\")\n",
    "# Extract the determining equations\n",
    "initial_det_eq = [(monomial,lin_sym_2.coeff(monomial)) for monomial in M if monomial!= 0]\n",
    "# The constant term is bound to be wrong so let's fix it\n",
    "coeff_0 = lin_sym_2.subs(x,0)\n",
    "coeff_0 = coeff_0.subs(y,0)\n",
    "initial_det_eq[0] = (1,coeff_0) \n",
    "# Extract the zeroth coefficient\n",
    "print(\"Zeroth coefficient\")\n",
    "coeff_0 = initial_det_eq[0][1]\n",
    "coeff_0 = coeff_0.subs(x,0)\n",
    "coeff_0 = coeff_0.subs(y,0)\n",
    "print(coeff_0)\n",
    "\n",
    "# Save det_eq\n",
    "det_eq = []\n",
    "# Loop over all determining equations and remove all elements with x and y\n",
    "for index in range(len(initial_det_eq)):\n",
    "    coeff = initial_det_eq[index][1]\n",
    "    coeff = coeff.subs(x,0)\n",
    "    coeff = coeff.subs(y,0)\n",
    "    if coeff != 0:\n",
    "        det_eq.append((initial_det_eq[index][0],coeff))\n",
    "# Print these coefficients nicely in latex\n",
    "print(\"Printing the determining equations:\")\n",
    "print(\"\\n\\\\begin{align*}\")\n",
    "for det_eq_index in range(len(det_eq)):\n",
    "    monomial_string = latex(det_eq[det_eq_index][0])\n",
    "    monomial_string = monomial_string.replace(\"x\",\"u\")\n",
    "    monomial_string = monomial_string.replace(\"y\",\"v\")\n",
    "    # Print the equation    \n",
    "    print(monomial_string + \":&\" + latex(det_eq[det_eq_index][1]) + \"=0\\\\\\\\\")\n",
    "print(\"\\\\end{align*}\")"
   ]
  },
  {
   "cell_type": "code",
   "execution_count": null,
   "id": "90d9b2f6",
   "metadata": {},
   "outputs": [],
   "source": []
  }
 ],
 "metadata": {
  "kernelspec": {
   "display_name": "Python 3",
   "language": "python",
   "name": "python3"
  },
  "language_info": {
   "codemirror_mode": {
    "name": "ipython",
    "version": 3
   },
   "file_extension": ".py",
   "mimetype": "text/x-python",
   "name": "python",
   "nbconvert_exporter": "python",
   "pygments_lexer": "ipython3",
   "version": "3.8.8"
  }
 },
 "nbformat": 4,
 "nbformat_minor": 5
}
