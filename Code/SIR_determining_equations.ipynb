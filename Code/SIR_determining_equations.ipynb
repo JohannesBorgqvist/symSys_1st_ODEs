{
 "cells": [
  {
   "cell_type": "markdown",
   "id": "bf40e7ac",
   "metadata": {},
   "source": [
    "# Deriving the determining equations of the SIR model\n",
    "*Date*: 2022-04-01,<br>\n",
    "*Written by:* Johannes Borgqvist.<br>\n",
    "Ok, so consider the *SIR* model:\n",
    "\\begin{align}\n",
    "    \\dfrac{\\mathrm{d}S}{\\mathrm{d}t}&=-rSI,\\\\\n",
    "    \\dfrac{\\mathrm{d}I}{\\mathrm{d}t}&=rSI-aI.\\\\\n",
    "    \\dfrac{\\mathrm{d}R}{\\mathrm{d}t}&=aI.\\\\    \n",
    "\\end{align}\n",
    "Now, we would like to see if we can derive the determining equations from this using sympy. <br>"
   ]
  },
  {
   "cell_type": "code",
   "execution_count": 1,
   "id": "cddf32d5",
   "metadata": {},
   "outputs": [],
   "source": [
    "# Import sympy\n",
    "from sympy import *\n",
    "# Finding monomials\n",
    "from sympy.polys.monomials import itermonomials, monomial_count\n",
    "# Ordering monomials \n",
    "from sympy.polys.orderings import monomial_key"
   ]
  },
  {
   "cell_type": "markdown",
   "id": "d2a12ed0",
   "metadata": {},
   "source": [
    "# Setting up the reaction terms and so on"
   ]
  },
  {
   "cell_type": "code",
   "execution_count": 2,
   "id": "59adb405",
   "metadata": {},
   "outputs": [
    {
     "name": "stdout",
     "output_type": "stream",
     "text": [
      "The monomials\n",
      "[1, z, z**2, z**3, z**4, z**5, z**6, z**7, z**8, z**9, z**10, y, y*z, y*z**2, y*z**3, y*z**4, y*z**5, y*z**6, y*z**7, y*z**8, y*z**9, y**2, y**2*z, y**2*z**2, y**2*z**3, y**2*z**4, y**2*z**5, y**2*z**6, y**2*z**7, y**2*z**8, y**3, y**3*z, y**3*z**2, y**3*z**3, y**3*z**4, y**3*z**5, y**3*z**6, y**3*z**7, y**4, y**4*z, y**4*z**2, y**4*z**3, y**4*z**4, y**4*z**5, y**4*z**6, y**5, y**5*z, y**5*z**2, y**5*z**3, y**5*z**4, y**5*z**5, y**6, y**6*z, y**6*z**2, y**6*z**3, y**6*z**4, y**7, y**7*z, y**7*z**2, y**7*z**3, y**8, y**8*z, y**8*z**2, y**9, y**9*z, y**10, x, x*z, x*z**2, x*z**3, x*z**4, x*z**5, x*z**6, x*z**7, x*z**8, x*z**9, x*y, x*y*z, x*y*z**2, x*y*z**3, x*y*z**4, x*y*z**5, x*y*z**6, x*y*z**7, x*y*z**8, x*y**2, x*y**2*z, x*y**2*z**2, x*y**2*z**3, x*y**2*z**4, x*y**2*z**5, x*y**2*z**6, x*y**2*z**7, x*y**3, x*y**3*z, x*y**3*z**2, x*y**3*z**3, x*y**3*z**4, x*y**3*z**5, x*y**3*z**6, x*y**4, x*y**4*z, x*y**4*z**2, x*y**4*z**3, x*y**4*z**4, x*y**4*z**5, x*y**5, x*y**5*z, x*y**5*z**2, x*y**5*z**3, x*y**5*z**4, x*y**6, x*y**6*z, x*y**6*z**2, x*y**6*z**3, x*y**7, x*y**7*z, x*y**7*z**2, x*y**8, x*y**8*z, x*y**9, x**2, x**2*z, x**2*z**2, x**2*z**3, x**2*z**4, x**2*z**5, x**2*z**6, x**2*z**7, x**2*z**8, x**2*y, x**2*y*z, x**2*y*z**2, x**2*y*z**3, x**2*y*z**4, x**2*y*z**5, x**2*y*z**6, x**2*y*z**7, x**2*y**2, x**2*y**2*z, x**2*y**2*z**2, x**2*y**2*z**3, x**2*y**2*z**4, x**2*y**2*z**5, x**2*y**2*z**6, x**2*y**3, x**2*y**3*z, x**2*y**3*z**2, x**2*y**3*z**3, x**2*y**3*z**4, x**2*y**3*z**5, x**2*y**4, x**2*y**4*z, x**2*y**4*z**2, x**2*y**4*z**3, x**2*y**4*z**4, x**2*y**5, x**2*y**5*z, x**2*y**5*z**2, x**2*y**5*z**3, x**2*y**6, x**2*y**6*z, x**2*y**6*z**2, x**2*y**7, x**2*y**7*z, x**2*y**8, x**3, x**3*z, x**3*z**2, x**3*z**3, x**3*z**4, x**3*z**5, x**3*z**6, x**3*z**7, x**3*y, x**3*y*z, x**3*y*z**2, x**3*y*z**3, x**3*y*z**4, x**3*y*z**5, x**3*y*z**6, x**3*y**2, x**3*y**2*z, x**3*y**2*z**2, x**3*y**2*z**3, x**3*y**2*z**4, x**3*y**2*z**5, x**3*y**3, x**3*y**3*z, x**3*y**3*z**2, x**3*y**3*z**3, x**3*y**3*z**4, x**3*y**4, x**3*y**4*z, x**3*y**4*z**2, x**3*y**4*z**3, x**3*y**5, x**3*y**5*z, x**3*y**5*z**2, x**3*y**6, x**3*y**6*z, x**3*y**7, x**4, x**4*z, x**4*z**2, x**4*z**3, x**4*z**4, x**4*z**5, x**4*z**6, x**4*y, x**4*y*z, x**4*y*z**2, x**4*y*z**3, x**4*y*z**4, x**4*y*z**5, x**4*y**2, x**4*y**2*z, x**4*y**2*z**2, x**4*y**2*z**3, x**4*y**2*z**4, x**4*y**3, x**4*y**3*z, x**4*y**3*z**2, x**4*y**3*z**3, x**4*y**4, x**4*y**4*z, x**4*y**4*z**2, x**4*y**5, x**4*y**5*z, x**4*y**6, x**5, x**5*z, x**5*z**2, x**5*z**3, x**5*z**4, x**5*z**5, x**5*y, x**5*y*z, x**5*y*z**2, x**5*y*z**3, x**5*y*z**4, x**5*y**2, x**5*y**2*z, x**5*y**2*z**2, x**5*y**2*z**3, x**5*y**3, x**5*y**3*z, x**5*y**3*z**2, x**5*y**4, x**5*y**4*z, x**5*y**5, x**6, x**6*z, x**6*z**2, x**6*z**3, x**6*z**4, x**6*y, x**6*y*z, x**6*y*z**2, x**6*y*z**3, x**6*y**2, x**6*y**2*z, x**6*y**2*z**2, x**6*y**3, x**6*y**3*z, x**6*y**4, x**7, x**7*z, x**7*z**2, x**7*z**3, x**7*y, x**7*y*z, x**7*y*z**2, x**7*y**2, x**7*y**2*z, x**7*y**3, x**8, x**8*z, x**8*z**2, x**8*y, x**8*y*z, x**8*y**2, x**9, x**9*z, x**9*y, x**10]\n",
      "\t\tNumber of terms\t=\t286\n",
      "\n",
      "\n"
     ]
    }
   ],
   "source": [
    "# Independent variable\n",
    "t = symbols('t')\n",
    "# Temporary variables for the dependent variables\n",
    "x, y, z = symbols('x y z')\n",
    "# Dependent variables\n",
    "S,I,R,xi,eta_1,eta_2,eta_3 = symbols('S I R xi eta_1 eta_2 eta_3',cls=Function)\n",
    "# Define our reaction terms\n",
    "omega_1, omega_2, omega_3 = symbols('omega_1 omega_2 omega_3',cls=Function)\n",
    "# Define our parameter a\n",
    "r, a = symbols('r a')\n",
    "# Define our reaction terms\n",
    "omega_1 = -r*x*y\n",
    "omega_2 = r*x*y - a*y\n",
    "omega_3 = a*y\n",
    "# Define our tangents\n",
    "xi_f = xi(t,S(t),I(t),R(t))\n",
    "eta_1_f = eta_1(t,S(t),I(t),R(t))\n",
    "eta_2_f = eta_2(t,S(t),I(t),R(t))\n",
    "eta_3_f = eta_3(t,S(t),I(t),R(t))\n",
    "# Generate all monomials for our polynomials\n",
    "M = list(itermonomials([x, y, z], 10))\n",
    "# Sort the list\n",
    "M = sorted(M, key=monomial_key('lex', [x, y, z]))\n",
    "# Calculate the number of terms in each of the polynomials\n",
    "num_of_terms = monomial_count(3,10)\n",
    "print(\"The monomials\")\n",
    "print(M)\n",
    "print(\"\\t\\tNumber of terms\\t=\\t%d\\n\\n\"%(num_of_terms))"
   ]
  },
  {
   "cell_type": "markdown",
   "id": "abdc7d87",
   "metadata": {},
   "source": [
    "# Linearised symmetry condition 1"
   ]
  },
  {
   "cell_type": "code",
   "execution_count": 3,
   "id": "8d16373d",
   "metadata": {},
   "outputs": [
    {
     "name": "stdout",
     "output_type": "stream",
     "text": [
      "Linearised symmetry condition 1\n",
      "$$- a r I^{2}{\\left(t \\right)} S{\\left(t \\right)} \\frac{d}{d I{\\left(t \\right)}} \\xi{\\left(t,S{\\left(t \\right)},I{\\left(t \\right)},R{\\left(t \\right)} \\right)} + a r I^{2}{\\left(t \\right)} S{\\left(t \\right)} \\frac{d}{d R{\\left(t \\right)}} \\xi{\\left(t,S{\\left(t \\right)},I{\\left(t \\right)},R{\\left(t \\right)} \\right)} - a I{\\left(t \\right)} \\frac{d}{d I{\\left(t \\right)}} \\eta_{1}{\\left(t,S{\\left(t \\right)},I{\\left(t \\right)},R{\\left(t \\right)} \\right)} + a I{\\left(t \\right)} \\frac{d}{d R{\\left(t \\right)}} \\eta_{1}{\\left(t,S{\\left(t \\right)},I{\\left(t \\right)},R{\\left(t \\right)} \\right)} + r^{2} I^{2}{\\left(t \\right)} S^{2}{\\left(t \\right)} \\frac{d}{d I{\\left(t \\right)}} \\xi{\\left(t,S{\\left(t \\right)},I{\\left(t \\right)},R{\\left(t \\right)} \\right)} - r^{2} I^{2}{\\left(t \\right)} S^{2}{\\left(t \\right)} \\frac{d}{d S{\\left(t \\right)}} \\xi{\\left(t,S{\\left(t \\right)},I{\\left(t \\right)},R{\\left(t \\right)} \\right)} + r I{\\left(t \\right)} S{\\left(t \\right)} \\frac{d}{d I{\\left(t \\right)}} \\eta_{1}{\\left(t,S{\\left(t \\right)},I{\\left(t \\right)},R{\\left(t \\right)} \\right)} - r I{\\left(t \\right)} S{\\left(t \\right)} \\frac{d}{d S{\\left(t \\right)}} \\eta_{1}{\\left(t,S{\\left(t \\right)},I{\\left(t \\right)},R{\\left(t \\right)} \\right)} + r I{\\left(t \\right)} S{\\left(t \\right)} \\left. \\frac{\\partial}{\\partial \\xi_{1}} \\xi{\\left(\\xi_{1},S{\\left(t \\right)},I{\\left(t \\right)},R{\\left(t \\right)} \\right)} \\right|_{\\substack{ \\xi_{1}=t }} + r I{\\left(t \\right)} \\eta_{1}{\\left(t,S{\\left(t \\right)},I{\\left(t \\right)},R{\\left(t \\right)} \\right)} + r S{\\left(t \\right)} \\eta_{2}{\\left(t,S{\\left(t \\right)},I{\\left(t \\right)},R{\\left(t \\right)} \\right)} + \\left. \\frac{\\partial}{\\partial \\xi_{1}} \\eta_{1}{\\left(\\xi_{1},S{\\left(t \\right)},I{\\left(t \\right)},R{\\left(t \\right)} \\right)} \\right|_{\\substack{ \\xi_{1}=t }}=0$$\n",
      "Zeroth coefficient\n",
      "Subs(Derivative(eta_1(_xi_1, S(t), I(t), R(t)), _xi_1), _xi_1, t)\n",
      "Printing the determining equations:\n",
      "\n",
      "\\begin{align*}\n",
      "1:&\\left. \\frac{\\partial}{\\partial \\xi_{1}} \\eta_{1}{\\left(\\xi_{1},S{\\left(t \\right)},I{\\left(t \\right)},R{\\left(t \\right)} \\right)} \\right|_{\\substack{ \\xi_{1}=t }}=0\\\\\n",
      "I:&- a \\frac{d}{d I{\\left(t \\right)}} \\eta_{1}{\\left(t,S{\\left(t \\right)},I{\\left(t \\right)},R{\\left(t \\right)} \\right)} + a \\frac{d}{d R{\\left(t \\right)}} \\eta_{1}{\\left(t,S{\\left(t \\right)},I{\\left(t \\right)},R{\\left(t \\right)} \\right)} + r \\eta_{1}{\\left(t,S{\\left(t \\right)},I{\\left(t \\right)},R{\\left(t \\right)} \\right)}=0\\\\\n",
      "S:&r \\eta_{2}{\\left(t,S{\\left(t \\right)},I{\\left(t \\right)},R{\\left(t \\right)} \\right)}=0\\\\\n",
      "S I:&r \\frac{d}{d I{\\left(t \\right)}} \\eta_{1}{\\left(t,S{\\left(t \\right)},I{\\left(t \\right)},R{\\left(t \\right)} \\right)} - r \\frac{d}{d S{\\left(t \\right)}} \\eta_{1}{\\left(t,S{\\left(t \\right)},I{\\left(t \\right)},R{\\left(t \\right)} \\right)} + r \\left. \\frac{\\partial}{\\partial \\xi_{1}} \\xi{\\left(\\xi_{1},S{\\left(t \\right)},I{\\left(t \\right)},R{\\left(t \\right)} \\right)} \\right|_{\\substack{ \\xi_{1}=t }}=0\\\\\n",
      "S I^{2}:&- a r \\frac{d}{d I{\\left(t \\right)}} \\xi{\\left(t,S{\\left(t \\right)},I{\\left(t \\right)},R{\\left(t \\right)} \\right)} + a r \\frac{d}{d R{\\left(t \\right)}} \\xi{\\left(t,S{\\left(t \\right)},I{\\left(t \\right)},R{\\left(t \\right)} \\right)}=0\\\\\n",
      "S^{2} I^{2}:&r^{2} \\frac{d}{d I{\\left(t \\right)}} \\xi{\\left(t,S{\\left(t \\right)},I{\\left(t \\right)},R{\\left(t \\right)} \\right)} - r^{2} \\frac{d}{d S{\\left(t \\right)}} \\xi{\\left(t,S{\\left(t \\right)},I{\\left(t \\right)},R{\\left(t \\right)} \\right)}=0\\\\\n",
      "\\end{align*}\n"
     ]
    }
   ],
   "source": [
    "# Create an expression for the linearised symmetry condition\n",
    "lin_sym_1 = Derivative(eta_1_f).doit() - omega_1*Derivative(xi_f).doit() - eta_1_f*Derivative(omega_1,x).doit() - eta_2_f*Derivative(omega_1,y).doit() - eta_2_f*Derivative(omega_1,z).doit()\n",
    "lin_sym_1 = lin_sym_1.subs(Derivative(S(t), t),omega_1)\n",
    "lin_sym_1 = lin_sym_1.subs(Derivative(I(t), t),omega_2)\n",
    "lin_sym_1 = expand(lin_sym_1.subs(Derivative(R(t), t),omega_3))\n",
    "# Print the linearised symmetry condition\n",
    "lin_sym_temp = lin_sym_1.subs(x,S(t))\n",
    "lin_sym_temp = lin_sym_temp.subs(y,I(t))\n",
    "lin_sym_temp = lin_sym_temp.subs(z,R(t))\n",
    "print(\"Linearised symmetry condition 1\")\n",
    "print(\"$$\" + latex(lin_sym_temp) + \"=0$$\")\n",
    "# Extract the determining equations\n",
    "initial_det_eq = [(monomial,lin_sym_1.coeff(monomial)) for monomial in M if lin_sym_1.coeff(monomial)!= 0]\n",
    "# The constant term is bound to be wrong so let's fix it\n",
    "coeff_0 = lin_sym_1.subs(x,0)\n",
    "coeff_0 = coeff_0.subs(y,0)\n",
    "coeff_0 = coeff_0.subs(z,0)\n",
    "initial_det_eq[0] = (1,coeff_0) \n",
    "# Extract the zeroth coefficient\n",
    "print(\"Zeroth coefficient\")\n",
    "coeff_0 = initial_det_eq[0][1]\n",
    "coeff_0 = coeff_0.subs(x,0)\n",
    "coeff_0 = coeff_0.subs(y,0)\n",
    "print(coeff_0)\n",
    "\n",
    "# Save det_eq\n",
    "det_eq = []\n",
    "# Loop over all determining equations and remove all elements with x and y\n",
    "for index in range(len(initial_det_eq)):\n",
    "    coeff = initial_det_eq[index][1]\n",
    "    coeff = coeff.subs(x,0)\n",
    "    coeff = coeff.subs(y,0)\n",
    "    coeff = coeff.subs(z,0)\n",
    "    if coeff != 0:\n",
    "        det_eq.append((initial_det_eq[index][0],coeff))\n",
    "# Print these coefficients nicely in latex\n",
    "print(\"Printing the determining equations:\")\n",
    "print(\"\\n\\\\begin{align*}\")\n",
    "for det_eq_index in range(len(det_eq)):\n",
    "    monomial_string = latex(det_eq[det_eq_index][0])\n",
    "    monomial_string = monomial_string.replace(\"x\",\"S\")\n",
    "    monomial_string = monomial_string.replace(\"y\",\"I\")\n",
    "    monomial_string = monomial_string.replace(\"z\",\"R\")\n",
    "    # Print the equation    \n",
    "    print(monomial_string + \":&\" + latex(det_eq[det_eq_index][1]) + \"=0\\\\\\\\\")\n",
    "print(\"\\\\end{align*}\")\n"
   ]
  },
  {
   "cell_type": "markdown",
   "id": "0118df69",
   "metadata": {},
   "source": [
    "# Linearised symmetry condition 2"
   ]
  },
  {
   "cell_type": "code",
   "execution_count": 4,
   "id": "8d4d5597",
   "metadata": {},
   "outputs": [
    {
     "name": "stdout",
     "output_type": "stream",
     "text": [
      "Linearised symmetry condition 2\n",
      "$$- a^{2} I^{2}{\\left(t \\right)} \\frac{d}{d I{\\left(t \\right)}} \\xi{\\left(t,S{\\left(t \\right)},I{\\left(t \\right)},R{\\left(t \\right)} \\right)} + a^{2} I^{2}{\\left(t \\right)} \\frac{d}{d R{\\left(t \\right)}} \\xi{\\left(t,S{\\left(t \\right)},I{\\left(t \\right)},R{\\left(t \\right)} \\right)} + 2 a r I^{2}{\\left(t \\right)} S{\\left(t \\right)} \\frac{d}{d I{\\left(t \\right)}} \\xi{\\left(t,S{\\left(t \\right)},I{\\left(t \\right)},R{\\left(t \\right)} \\right)} - a r I^{2}{\\left(t \\right)} S{\\left(t \\right)} \\frac{d}{d R{\\left(t \\right)}} \\xi{\\left(t,S{\\left(t \\right)},I{\\left(t \\right)},R{\\left(t \\right)} \\right)} - a r I^{2}{\\left(t \\right)} S{\\left(t \\right)} \\frac{d}{d S{\\left(t \\right)}} \\xi{\\left(t,S{\\left(t \\right)},I{\\left(t \\right)},R{\\left(t \\right)} \\right)} - a I{\\left(t \\right)} \\frac{d}{d I{\\left(t \\right)}} \\eta_{2}{\\left(t,S{\\left(t \\right)},I{\\left(t \\right)},R{\\left(t \\right)} \\right)} + a I{\\left(t \\right)} \\frac{d}{d R{\\left(t \\right)}} \\eta_{2}{\\left(t,S{\\left(t \\right)},I{\\left(t \\right)},R{\\left(t \\right)} \\right)} + a I{\\left(t \\right)} \\left. \\frac{\\partial}{\\partial \\xi_{1}} \\xi{\\left(\\xi_{1},S{\\left(t \\right)},I{\\left(t \\right)},R{\\left(t \\right)} \\right)} \\right|_{\\substack{ \\xi_{1}=t }} - r^{2} I^{2}{\\left(t \\right)} S^{2}{\\left(t \\right)} \\frac{d}{d I{\\left(t \\right)}} \\xi{\\left(t,S{\\left(t \\right)},I{\\left(t \\right)},R{\\left(t \\right)} \\right)} + r^{2} I^{2}{\\left(t \\right)} S^{2}{\\left(t \\right)} \\frac{d}{d S{\\left(t \\right)}} \\xi{\\left(t,S{\\left(t \\right)},I{\\left(t \\right)},R{\\left(t \\right)} \\right)} + r I{\\left(t \\right)} S{\\left(t \\right)} \\frac{d}{d I{\\left(t \\right)}} \\eta_{2}{\\left(t,S{\\left(t \\right)},I{\\left(t \\right)},R{\\left(t \\right)} \\right)} - r I{\\left(t \\right)} S{\\left(t \\right)} \\frac{d}{d S{\\left(t \\right)}} \\eta_{2}{\\left(t,S{\\left(t \\right)},I{\\left(t \\right)},R{\\left(t \\right)} \\right)} - r I{\\left(t \\right)} S{\\left(t \\right)} \\left. \\frac{\\partial}{\\partial \\xi_{1}} \\xi{\\left(\\xi_{1},S{\\left(t \\right)},I{\\left(t \\right)},R{\\left(t \\right)} \\right)} \\right|_{\\substack{ \\xi_{1}=t }} + r I{\\left(t \\right)} \\eta_{1}{\\left(t,S{\\left(t \\right)},I{\\left(t \\right)},R{\\left(t \\right)} \\right)} + r S{\\left(t \\right)} \\eta_{2}{\\left(t,S{\\left(t \\right)},I{\\left(t \\right)},R{\\left(t \\right)} \\right)} + \\left. \\frac{\\partial}{\\partial \\xi_{1}} \\eta_{2}{\\left(\\xi_{1},S{\\left(t \\right)},I{\\left(t \\right)},R{\\left(t \\right)} \\right)} \\right|_{\\substack{ \\xi_{1}=t }}=0$$\n",
      "Zeroth coefficient\n",
      "Subs(Derivative(eta_2(_xi_1, S(t), I(t), R(t)), _xi_1), _xi_1, t)\n",
      "Printing the determining equations:\n",
      "\n",
      "\\begin{align*}\n",
      "1:&\\left. \\frac{\\partial}{\\partial \\xi_{1}} \\eta_{2}{\\left(\\xi_{1},S{\\left(t \\right)},I{\\left(t \\right)},R{\\left(t \\right)} \\right)} \\right|_{\\substack{ \\xi_{1}=t }}=0\\\\\n",
      "I:&- a \\frac{d}{d I{\\left(t \\right)}} \\eta_{2}{\\left(t,S{\\left(t \\right)},I{\\left(t \\right)},R{\\left(t \\right)} \\right)} + a \\frac{d}{d R{\\left(t \\right)}} \\eta_{2}{\\left(t,S{\\left(t \\right)},I{\\left(t \\right)},R{\\left(t \\right)} \\right)} + a \\left. \\frac{\\partial}{\\partial \\xi_{1}} \\xi{\\left(\\xi_{1},S{\\left(t \\right)},I{\\left(t \\right)},R{\\left(t \\right)} \\right)} \\right|_{\\substack{ \\xi_{1}=t }} + r \\eta_{1}{\\left(t,S{\\left(t \\right)},I{\\left(t \\right)},R{\\left(t \\right)} \\right)}=0\\\\\n",
      "I^{2}:&- a^{2} \\frac{d}{d I{\\left(t \\right)}} \\xi{\\left(t,S{\\left(t \\right)},I{\\left(t \\right)},R{\\left(t \\right)} \\right)} + a^{2} \\frac{d}{d R{\\left(t \\right)}} \\xi{\\left(t,S{\\left(t \\right)},I{\\left(t \\right)},R{\\left(t \\right)} \\right)}=0\\\\\n",
      "S:&r \\eta_{2}{\\left(t,S{\\left(t \\right)},I{\\left(t \\right)},R{\\left(t \\right)} \\right)}=0\\\\\n",
      "S I:&r \\frac{d}{d I{\\left(t \\right)}} \\eta_{2}{\\left(t,S{\\left(t \\right)},I{\\left(t \\right)},R{\\left(t \\right)} \\right)} - r \\frac{d}{d S{\\left(t \\right)}} \\eta_{2}{\\left(t,S{\\left(t \\right)},I{\\left(t \\right)},R{\\left(t \\right)} \\right)} - r \\left. \\frac{\\partial}{\\partial \\xi_{1}} \\xi{\\left(\\xi_{1},S{\\left(t \\right)},I{\\left(t \\right)},R{\\left(t \\right)} \\right)} \\right|_{\\substack{ \\xi_{1}=t }}=0\\\\\n",
      "S I^{2}:&2 a r \\frac{d}{d I{\\left(t \\right)}} \\xi{\\left(t,S{\\left(t \\right)},I{\\left(t \\right)},R{\\left(t \\right)} \\right)} - a r \\frac{d}{d R{\\left(t \\right)}} \\xi{\\left(t,S{\\left(t \\right)},I{\\left(t \\right)},R{\\left(t \\right)} \\right)} - a r \\frac{d}{d S{\\left(t \\right)}} \\xi{\\left(t,S{\\left(t \\right)},I{\\left(t \\right)},R{\\left(t \\right)} \\right)}=0\\\\\n",
      "S^{2} I^{2}:&- r^{2} \\frac{d}{d I{\\left(t \\right)}} \\xi{\\left(t,S{\\left(t \\right)},I{\\left(t \\right)},R{\\left(t \\right)} \\right)} + r^{2} \\frac{d}{d S{\\left(t \\right)}} \\xi{\\left(t,S{\\left(t \\right)},I{\\left(t \\right)},R{\\left(t \\right)} \\right)}=0\\\\\n",
      "\\end{align*}\n"
     ]
    }
   ],
   "source": [
    "# Create an expression for the linearised symmetry condition\n",
    "lin_sym_2 = Derivative(eta_2_f).doit() - omega_2*Derivative(xi_f).doit() - eta_1_f*Derivative(omega_1,x).doit() - eta_2_f*Derivative(omega_1,y).doit() - eta_2_f*Derivative(omega_1,z).doit()\n",
    "lin_sym_2 = lin_sym_2.subs(Derivative(S(t), t),omega_1)\n",
    "lin_sym_2 = lin_sym_2.subs(Derivative(I(t), t),omega_2)\n",
    "lin_sym_2 = expand(lin_sym_2.subs(Derivative(R(t), t),omega_3))\n",
    "# Print the linearised symmetry condition\n",
    "lin_sym_temp = lin_sym_2.subs(x,S(t))\n",
    "lin_sym_temp = lin_sym_temp.subs(y,I(t))\n",
    "lin_sym_temp = lin_sym_temp.subs(z,R(t))\n",
    "print(\"Linearised symmetry condition 2\")\n",
    "print(\"$$\" + latex(lin_sym_temp) + \"=0$$\")\n",
    "# Extract the determining equations\n",
    "initial_det_eq = [(monomial,lin_sym_2.coeff(monomial)) for monomial in M if lin_sym_2.coeff(monomial)!= 0]\n",
    "# The constant term is bound to be wrong so let's fix it\n",
    "coeff_0 = lin_sym_2.subs(x,0)\n",
    "coeff_0 = coeff_0.subs(y,0)\n",
    "coeff_0 = coeff_0.subs(z,0)\n",
    "initial_det_eq[0] = (1,coeff_0) \n",
    "# Extract the zeroth coefficient\n",
    "print(\"Zeroth coefficient\")\n",
    "coeff_0 = initial_det_eq[0][1]\n",
    "coeff_0 = coeff_0.subs(x,0)\n",
    "coeff_0 = coeff_0.subs(y,0)\n",
    "print(coeff_0)\n",
    "\n",
    "# Save det_eq\n",
    "det_eq = []\n",
    "# Loop over all determining equations and remove all elements with x and y\n",
    "for index in range(len(initial_det_eq)):\n",
    "    coeff = initial_det_eq[index][1]\n",
    "    coeff = coeff.subs(x,0)\n",
    "    coeff = coeff.subs(y,0)\n",
    "    coeff = coeff.subs(z,0)\n",
    "    if coeff != 0:\n",
    "        det_eq.append((initial_det_eq[index][0],coeff))\n",
    "# Print these coefficients nicely in latex\n",
    "print(\"Printing the determining equations:\")\n",
    "print(\"\\n\\\\begin{align*}\")\n",
    "for det_eq_index in range(len(det_eq)):\n",
    "    monomial_string = latex(det_eq[det_eq_index][0])\n",
    "    monomial_string = monomial_string.replace(\"x\",\"S\")\n",
    "    monomial_string = monomial_string.replace(\"y\",\"I\")\n",
    "    monomial_string = monomial_string.replace(\"z\",\"R\")\n",
    "    # Print the equation    \n",
    "    print(monomial_string + \":&\" + latex(det_eq[det_eq_index][1]) + \"=0\\\\\\\\\")\n",
    "print(\"\\\\end{align*}\")"
   ]
  },
  {
   "cell_type": "markdown",
   "id": "01026112",
   "metadata": {},
   "source": [
    "# Linearised symmetry condition 3"
   ]
  },
  {
   "cell_type": "code",
   "execution_count": 5,
   "id": "0e900d12",
   "metadata": {},
   "outputs": [
    {
     "name": "stdout",
     "output_type": "stream",
     "text": [
      "Linearised symmetry condition 3\n",
      "$$a^{2} I^{2}{\\left(t \\right)} \\frac{d}{d I{\\left(t \\right)}} \\xi{\\left(t,S{\\left(t \\right)},I{\\left(t \\right)},R{\\left(t \\right)} \\right)} - a^{2} I^{2}{\\left(t \\right)} \\frac{d}{d R{\\left(t \\right)}} \\xi{\\left(t,S{\\left(t \\right)},I{\\left(t \\right)},R{\\left(t \\right)} \\right)} - a r I^{2}{\\left(t \\right)} S{\\left(t \\right)} \\frac{d}{d I{\\left(t \\right)}} \\xi{\\left(t,S{\\left(t \\right)},I{\\left(t \\right)},R{\\left(t \\right)} \\right)} + a r I^{2}{\\left(t \\right)} S{\\left(t \\right)} \\frac{d}{d S{\\left(t \\right)}} \\xi{\\left(t,S{\\left(t \\right)},I{\\left(t \\right)},R{\\left(t \\right)} \\right)} - a I{\\left(t \\right)} \\frac{d}{d I{\\left(t \\right)}} \\eta_{3}{\\left(t,S{\\left(t \\right)},I{\\left(t \\right)},R{\\left(t \\right)} \\right)} + a I{\\left(t \\right)} \\frac{d}{d R{\\left(t \\right)}} \\eta_{3}{\\left(t,S{\\left(t \\right)},I{\\left(t \\right)},R{\\left(t \\right)} \\right)} - a I{\\left(t \\right)} \\left. \\frac{\\partial}{\\partial \\xi_{1}} \\xi{\\left(\\xi_{1},S{\\left(t \\right)},I{\\left(t \\right)},R{\\left(t \\right)} \\right)} \\right|_{\\substack{ \\xi_{1}=t }} + r I{\\left(t \\right)} S{\\left(t \\right)} \\frac{d}{d I{\\left(t \\right)}} \\eta_{3}{\\left(t,S{\\left(t \\right)},I{\\left(t \\right)},R{\\left(t \\right)} \\right)} - r I{\\left(t \\right)} S{\\left(t \\right)} \\frac{d}{d S{\\left(t \\right)}} \\eta_{3}{\\left(t,S{\\left(t \\right)},I{\\left(t \\right)},R{\\left(t \\right)} \\right)} + r I{\\left(t \\right)} \\eta_{1}{\\left(t,S{\\left(t \\right)},I{\\left(t \\right)},R{\\left(t \\right)} \\right)} + r S{\\left(t \\right)} \\eta_{2}{\\left(t,S{\\left(t \\right)},I{\\left(t \\right)},R{\\left(t \\right)} \\right)} + \\left. \\frac{\\partial}{\\partial \\xi_{1}} \\eta_{3}{\\left(\\xi_{1},S{\\left(t \\right)},I{\\left(t \\right)},R{\\left(t \\right)} \\right)} \\right|_{\\substack{ \\xi_{1}=t }}=0$$\n",
      "Zeroth coefficient\n",
      "Subs(Derivative(eta_3(_xi_1, S(t), I(t), R(t)), _xi_1), _xi_1, t)\n",
      "Printing the determining equations:\n",
      "\n",
      "\\begin{align*}\n",
      "1:&\\left. \\frac{\\partial}{\\partial \\xi_{1}} \\eta_{3}{\\left(\\xi_{1},S{\\left(t \\right)},I{\\left(t \\right)},R{\\left(t \\right)} \\right)} \\right|_{\\substack{ \\xi_{1}=t }}=0\\\\\n",
      "I:&- a \\frac{d}{d I{\\left(t \\right)}} \\eta_{3}{\\left(t,S{\\left(t \\right)},I{\\left(t \\right)},R{\\left(t \\right)} \\right)} + a \\frac{d}{d R{\\left(t \\right)}} \\eta_{3}{\\left(t,S{\\left(t \\right)},I{\\left(t \\right)},R{\\left(t \\right)} \\right)} - a \\left. \\frac{\\partial}{\\partial \\xi_{1}} \\xi{\\left(\\xi_{1},S{\\left(t \\right)},I{\\left(t \\right)},R{\\left(t \\right)} \\right)} \\right|_{\\substack{ \\xi_{1}=t }} + r \\eta_{1}{\\left(t,S{\\left(t \\right)},I{\\left(t \\right)},R{\\left(t \\right)} \\right)}=0\\\\\n",
      "I^{2}:&a^{2} \\frac{d}{d I{\\left(t \\right)}} \\xi{\\left(t,S{\\left(t \\right)},I{\\left(t \\right)},R{\\left(t \\right)} \\right)} - a^{2} \\frac{d}{d R{\\left(t \\right)}} \\xi{\\left(t,S{\\left(t \\right)},I{\\left(t \\right)},R{\\left(t \\right)} \\right)}=0\\\\\n",
      "S:&r \\eta_{2}{\\left(t,S{\\left(t \\right)},I{\\left(t \\right)},R{\\left(t \\right)} \\right)}=0\\\\\n",
      "S I:&r \\frac{d}{d I{\\left(t \\right)}} \\eta_{3}{\\left(t,S{\\left(t \\right)},I{\\left(t \\right)},R{\\left(t \\right)} \\right)} - r \\frac{d}{d S{\\left(t \\right)}} \\eta_{3}{\\left(t,S{\\left(t \\right)},I{\\left(t \\right)},R{\\left(t \\right)} \\right)}=0\\\\\n",
      "S I^{2}:&- a r \\frac{d}{d I{\\left(t \\right)}} \\xi{\\left(t,S{\\left(t \\right)},I{\\left(t \\right)},R{\\left(t \\right)} \\right)} + a r \\frac{d}{d S{\\left(t \\right)}} \\xi{\\left(t,S{\\left(t \\right)},I{\\left(t \\right)},R{\\left(t \\right)} \\right)}=0\\\\\n",
      "\\end{align*}\n"
     ]
    }
   ],
   "source": [
    "# Create an expression for the linearised symmetry condition\n",
    "lin_sym_3 = Derivative(eta_3_f).doit() - omega_3*Derivative(xi_f).doit() - eta_1_f*Derivative(omega_1,x).doit() - eta_2_f*Derivative(omega_1,y).doit() - eta_2_f*Derivative(omega_1,z).doit()\n",
    "lin_sym_3 = lin_sym_3.subs(Derivative(S(t), t),omega_1)\n",
    "lin_sym_3 = lin_sym_3.subs(Derivative(I(t), t),omega_2)\n",
    "lin_sym_3 = expand(lin_sym_3.subs(Derivative(R(t), t),omega_3))\n",
    "# Print the linearised symmetry condition\n",
    "lin_sym_temp = lin_sym_3.subs(x,S(t))\n",
    "lin_sym_temp = lin_sym_temp.subs(y,I(t))\n",
    "lin_sym_temp = lin_sym_temp.subs(z,R(t))\n",
    "print(\"Linearised symmetry condition 3\")\n",
    "print(\"$$\" + latex(lin_sym_temp) + \"=0$$\")\n",
    "# Extract the determining equations\n",
    "initial_det_eq = [(monomial,lin_sym_3.coeff(monomial)) for monomial in M if monomial!= 0]\n",
    "# The constant term is bound to be wrong so let's fix it\n",
    "coeff_0 = lin_sym_3.subs(x,0)\n",
    "coeff_0 = coeff_0.subs(y,0)\n",
    "coeff_0 = coeff_0.subs(z,0)\n",
    "initial_det_eq[0] = (1,coeff_0) \n",
    "# Extract the zeroth coefficient\n",
    "print(\"Zeroth coefficient\")\n",
    "coeff_0 = initial_det_eq[0][1]\n",
    "coeff_0 = coeff_0.subs(x,0)\n",
    "coeff_0 = coeff_0.subs(y,0)\n",
    "print(coeff_0)\n",
    "\n",
    "# Save det_eq\n",
    "det_eq = []\n",
    "# Loop over all determining equations and remove all elements with x and y\n",
    "for index in range(len(initial_det_eq)):\n",
    "    coeff = initial_det_eq[index][1]\n",
    "    coeff = coeff.subs(x,0)\n",
    "    coeff = coeff.subs(y,0)\n",
    "    coeff = coeff.subs(z,0)\n",
    "    if coeff != 0:\n",
    "        det_eq.append((initial_det_eq[index][0],coeff))\n",
    "# Print these coefficients nicely in latex\n",
    "print(\"Printing the determining equations:\")\n",
    "print(\"\\n\\\\begin{align*}\")\n",
    "for det_eq_index in range(len(det_eq)):\n",
    "    monomial_string = latex(det_eq[det_eq_index][0])\n",
    "    monomial_string = monomial_string.replace(\"x\",\"S\")\n",
    "    monomial_string = monomial_string.replace(\"y\",\"I\")\n",
    "    monomial_string = monomial_string.replace(\"z\",\"R\")\n",
    "    # Print the equation    \n",
    "    print(monomial_string + \":&\" + latex(det_eq[det_eq_index][1]) + \"=0\\\\\\\\\")\n",
    "print(\"\\\\end{align*}\")"
   ]
  },
  {
   "cell_type": "code",
   "execution_count": null,
   "id": "2fe4139f",
   "metadata": {},
   "outputs": [],
   "source": []
  }
 ],
 "metadata": {
  "kernelspec": {
   "display_name": "Python 3",
   "language": "python",
   "name": "python3"
  },
  "language_info": {
   "codemirror_mode": {
    "name": "ipython",
    "version": 3
   },
   "file_extension": ".py",
   "mimetype": "text/x-python",
   "name": "python",
   "nbconvert_exporter": "python",
   "pygments_lexer": "ipython3",
   "version": "3.8.8"
  }
 },
 "nbformat": 4,
 "nbformat_minor": 5
}
