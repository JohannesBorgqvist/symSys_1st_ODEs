{
 "cells": [
  {
   "cell_type": "markdown",
   "id": "bf40e7ac",
   "metadata": {},
   "source": [
    "# Deriving the determining equations of the MM model\n",
    "*Date*: 2022-04-07,<br>\n",
    "*Written by:* Johannes Borgqvist.<br>\n",
    "Ok, so consider the *Michaelis-Menten Equation* which we will refer to as the MM-model:\n",
    "\\begin{align}\n",
    "    \\dfrac{\\mathrm{d}s}{\\mathrm{d}t}&=-k_1 es+k_{-1}c,\\\\\n",
    "    \\dfrac{\\mathrm{d}c}{\\mathrm{d}t}&=k_1 es-(k_{-1}+k_2)c,\\\\    \n",
    "    \\dfrac{\\mathrm{d}e}{\\mathrm{d}t}&=-k_1 es+(k_{-1}+k_2)c,\\\\\n",
    "    \\dfrac{\\mathrm{d}p}{\\mathrm{d}t}&=k_2 c.\\\\    \n",
    "\\end{align}\n",
    "Now, we would like to see if we can derive the determining equations from this using sympy. <br>"
   ]
  },
  {
   "cell_type": "code",
   "execution_count": 1,
   "id": "cddf32d5",
   "metadata": {},
   "outputs": [],
   "source": [
    "# Import sympy\n",
    "from sympy import *\n",
    "# Finding monomials\n",
    "from sympy.polys.monomials import itermonomials, monomial_count\n",
    "# Ordering monomials \n",
    "from sympy.polys.orderings import monomial_key"
   ]
  },
  {
   "cell_type": "markdown",
   "id": "d2a12ed0",
   "metadata": {},
   "source": [
    "# Setting up the reaction terms and so on"
   ]
  },
  {
   "cell_type": "code",
   "execution_count": 5,
   "id": "59adb405",
   "metadata": {},
   "outputs": [
    {
     "name": "stdout",
     "output_type": "stream",
     "text": [
      "The monomials\n",
      "[1, w, w**2, w**3, w**4, w**5, w**6, w**7, w**8, w**9, w**10, z, w*z, w**2*z, w**3*z, w**4*z, w**5*z, w**6*z, w**7*z, w**8*z, w**9*z, z**2, w*z**2, w**2*z**2, w**3*z**2, w**4*z**2, w**5*z**2, w**6*z**2, w**7*z**2, w**8*z**2, z**3, w*z**3, w**2*z**3, w**3*z**3, w**4*z**3, w**5*z**3, w**6*z**3, w**7*z**3, z**4, w*z**4, w**2*z**4, w**3*z**4, w**4*z**4, w**5*z**4, w**6*z**4, z**5, w*z**5, w**2*z**5, w**3*z**5, w**4*z**5, w**5*z**5, z**6, w*z**6, w**2*z**6, w**3*z**6, w**4*z**6, z**7, w*z**7, w**2*z**7, w**3*z**7, z**8, w*z**8, w**2*z**8, z**9, w*z**9, z**10, y, w*y, w**2*y, w**3*y, w**4*y, w**5*y, w**6*y, w**7*y, w**8*y, w**9*y, y*z, w*y*z, w**2*y*z, w**3*y*z, w**4*y*z, w**5*y*z, w**6*y*z, w**7*y*z, w**8*y*z, y*z**2, w*y*z**2, w**2*y*z**2, w**3*y*z**2, w**4*y*z**2, w**5*y*z**2, w**6*y*z**2, w**7*y*z**2, y*z**3, w*y*z**3, w**2*y*z**3, w**3*y*z**3, w**4*y*z**3, w**5*y*z**3, w**6*y*z**3, y*z**4, w*y*z**4, w**2*y*z**4, w**3*y*z**4, w**4*y*z**4, w**5*y*z**4, y*z**5, w*y*z**5, w**2*y*z**5, w**3*y*z**5, w**4*y*z**5, y*z**6, w*y*z**6, w**2*y*z**6, w**3*y*z**6, y*z**7, w*y*z**7, w**2*y*z**7, y*z**8, w*y*z**8, y*z**9, y**2, w*y**2, w**2*y**2, w**3*y**2, w**4*y**2, w**5*y**2, w**6*y**2, w**7*y**2, w**8*y**2, y**2*z, w*y**2*z, w**2*y**2*z, w**3*y**2*z, w**4*y**2*z, w**5*y**2*z, w**6*y**2*z, w**7*y**2*z, y**2*z**2, w*y**2*z**2, w**2*y**2*z**2, w**3*y**2*z**2, w**4*y**2*z**2, w**5*y**2*z**2, w**6*y**2*z**2, y**2*z**3, w*y**2*z**3, w**2*y**2*z**3, w**3*y**2*z**3, w**4*y**2*z**3, w**5*y**2*z**3, y**2*z**4, w*y**2*z**4, w**2*y**2*z**4, w**3*y**2*z**4, w**4*y**2*z**4, y**2*z**5, w*y**2*z**5, w**2*y**2*z**5, w**3*y**2*z**5, y**2*z**6, w*y**2*z**6, w**2*y**2*z**6, y**2*z**7, w*y**2*z**7, y**2*z**8, y**3, w*y**3, w**2*y**3, w**3*y**3, w**4*y**3, w**5*y**3, w**6*y**3, w**7*y**3, y**3*z, w*y**3*z, w**2*y**3*z, w**3*y**3*z, w**4*y**3*z, w**5*y**3*z, w**6*y**3*z, y**3*z**2, w*y**3*z**2, w**2*y**3*z**2, w**3*y**3*z**2, w**4*y**3*z**2, w**5*y**3*z**2, y**3*z**3, w*y**3*z**3, w**2*y**3*z**3, w**3*y**3*z**3, w**4*y**3*z**3, y**3*z**4, w*y**3*z**4, w**2*y**3*z**4, w**3*y**3*z**4, y**3*z**5, w*y**3*z**5, w**2*y**3*z**5, y**3*z**6, w*y**3*z**6, y**3*z**7, y**4, w*y**4, w**2*y**4, w**3*y**4, w**4*y**4, w**5*y**4, w**6*y**4, y**4*z, w*y**4*z, w**2*y**4*z, w**3*y**4*z, w**4*y**4*z, w**5*y**4*z, y**4*z**2, w*y**4*z**2, w**2*y**4*z**2, w**3*y**4*z**2, w**4*y**4*z**2, y**4*z**3, w*y**4*z**3, w**2*y**4*z**3, w**3*y**4*z**3, y**4*z**4, w*y**4*z**4, w**2*y**4*z**4, y**4*z**5, w*y**4*z**5, y**4*z**6, y**5, w*y**5, w**2*y**5, w**3*y**5, w**4*y**5, w**5*y**5, y**5*z, w*y**5*z, w**2*y**5*z, w**3*y**5*z, w**4*y**5*z, y**5*z**2, w*y**5*z**2, w**2*y**5*z**2, w**3*y**5*z**2, y**5*z**3, w*y**5*z**3, w**2*y**5*z**3, y**5*z**4, w*y**5*z**4, y**5*z**5, y**6, w*y**6, w**2*y**6, w**3*y**6, w**4*y**6, y**6*z, w*y**6*z, w**2*y**6*z, w**3*y**6*z, y**6*z**2, w*y**6*z**2, w**2*y**6*z**2, y**6*z**3, w*y**6*z**3, y**6*z**4, y**7, w*y**7, w**2*y**7, w**3*y**7, y**7*z, w*y**7*z, w**2*y**7*z, y**7*z**2, w*y**7*z**2, y**7*z**3, y**8, w*y**8, w**2*y**8, y**8*z, w*y**8*z, y**8*z**2, y**9, w*y**9, y**9*z, y**10, x, w*x, w**2*x, w**3*x, w**4*x, w**5*x, w**6*x, w**7*x, w**8*x, w**9*x, x*z, w*x*z, w**2*x*z, w**3*x*z, w**4*x*z, w**5*x*z, w**6*x*z, w**7*x*z, w**8*x*z, x*z**2, w*x*z**2, w**2*x*z**2, w**3*x*z**2, w**4*x*z**2, w**5*x*z**2, w**6*x*z**2, w**7*x*z**2, x*z**3, w*x*z**3, w**2*x*z**3, w**3*x*z**3, w**4*x*z**3, w**5*x*z**3, w**6*x*z**3, x*z**4, w*x*z**4, w**2*x*z**4, w**3*x*z**4, w**4*x*z**4, w**5*x*z**4, x*z**5, w*x*z**5, w**2*x*z**5, w**3*x*z**5, w**4*x*z**5, x*z**6, w*x*z**6, w**2*x*z**6, w**3*x*z**6, x*z**7, w*x*z**7, w**2*x*z**7, x*z**8, w*x*z**8, x*z**9, x*y, w*x*y, w**2*x*y, w**3*x*y, w**4*x*y, w**5*x*y, w**6*x*y, w**7*x*y, w**8*x*y, x*y*z, w*x*y*z, w**2*x*y*z, w**3*x*y*z, w**4*x*y*z, w**5*x*y*z, w**6*x*y*z, w**7*x*y*z, x*y*z**2, w*x*y*z**2, w**2*x*y*z**2, w**3*x*y*z**2, w**4*x*y*z**2, w**5*x*y*z**2, w**6*x*y*z**2, x*y*z**3, w*x*y*z**3, w**2*x*y*z**3, w**3*x*y*z**3, w**4*x*y*z**3, w**5*x*y*z**3, x*y*z**4, w*x*y*z**4, w**2*x*y*z**4, w**3*x*y*z**4, w**4*x*y*z**4, x*y*z**5, w*x*y*z**5, w**2*x*y*z**5, w**3*x*y*z**5, x*y*z**6, w*x*y*z**6, w**2*x*y*z**6, x*y*z**7, w*x*y*z**7, x*y*z**8, x*y**2, w*x*y**2, w**2*x*y**2, w**3*x*y**2, w**4*x*y**2, w**5*x*y**2, w**6*x*y**2, w**7*x*y**2, x*y**2*z, w*x*y**2*z, w**2*x*y**2*z, w**3*x*y**2*z, w**4*x*y**2*z, w**5*x*y**2*z, w**6*x*y**2*z, x*y**2*z**2, w*x*y**2*z**2, w**2*x*y**2*z**2, w**3*x*y**2*z**2, w**4*x*y**2*z**2, w**5*x*y**2*z**2, x*y**2*z**3, w*x*y**2*z**3, w**2*x*y**2*z**3, w**3*x*y**2*z**3, w**4*x*y**2*z**3, x*y**2*z**4, w*x*y**2*z**4, w**2*x*y**2*z**4, w**3*x*y**2*z**4, x*y**2*z**5, w*x*y**2*z**5, w**2*x*y**2*z**5, x*y**2*z**6, w*x*y**2*z**6, x*y**2*z**7, x*y**3, w*x*y**3, w**2*x*y**3, w**3*x*y**3, w**4*x*y**3, w**5*x*y**3, w**6*x*y**3, x*y**3*z, w*x*y**3*z, w**2*x*y**3*z, w**3*x*y**3*z, w**4*x*y**3*z, w**5*x*y**3*z, x*y**3*z**2, w*x*y**3*z**2, w**2*x*y**3*z**2, w**3*x*y**3*z**2, w**4*x*y**3*z**2, x*y**3*z**3, w*x*y**3*z**3, w**2*x*y**3*z**3, w**3*x*y**3*z**3, x*y**3*z**4, w*x*y**3*z**4, w**2*x*y**3*z**4, x*y**3*z**5, w*x*y**3*z**5, x*y**3*z**6, x*y**4, w*x*y**4, w**2*x*y**4, w**3*x*y**4, w**4*x*y**4, w**5*x*y**4, x*y**4*z, w*x*y**4*z, w**2*x*y**4*z, w**3*x*y**4*z, w**4*x*y**4*z, x*y**4*z**2, w*x*y**4*z**2, w**2*x*y**4*z**2, w**3*x*y**4*z**2, x*y**4*z**3, w*x*y**4*z**3, w**2*x*y**4*z**3, x*y**4*z**4, w*x*y**4*z**4, x*y**4*z**5, x*y**5, w*x*y**5, w**2*x*y**5, w**3*x*y**5, w**4*x*y**5, x*y**5*z, w*x*y**5*z, w**2*x*y**5*z, w**3*x*y**5*z, x*y**5*z**2, w*x*y**5*z**2, w**2*x*y**5*z**2, x*y**5*z**3, w*x*y**5*z**3, x*y**5*z**4, x*y**6, w*x*y**6, w**2*x*y**6, w**3*x*y**6, x*y**6*z, w*x*y**6*z, w**2*x*y**6*z, x*y**6*z**2, w*x*y**6*z**2, x*y**6*z**3, x*y**7, w*x*y**7, w**2*x*y**7, x*y**7*z, w*x*y**7*z, x*y**7*z**2, x*y**8, w*x*y**8, x*y**8*z, x*y**9, x**2, w*x**2, w**2*x**2, w**3*x**2, w**4*x**2, w**5*x**2, w**6*x**2, w**7*x**2, w**8*x**2, x**2*z, w*x**2*z, w**2*x**2*z, w**3*x**2*z, w**4*x**2*z, w**5*x**2*z, w**6*x**2*z, w**7*x**2*z, x**2*z**2, w*x**2*z**2, w**2*x**2*z**2, w**3*x**2*z**2, w**4*x**2*z**2, w**5*x**2*z**2, w**6*x**2*z**2, x**2*z**3, w*x**2*z**3, w**2*x**2*z**3, w**3*x**2*z**3, w**4*x**2*z**3, w**5*x**2*z**3, x**2*z**4, w*x**2*z**4, w**2*x**2*z**4, w**3*x**2*z**4, w**4*x**2*z**4, x**2*z**5, w*x**2*z**5, w**2*x**2*z**5, w**3*x**2*z**5, x**2*z**6, w*x**2*z**6, w**2*x**2*z**6, x**2*z**7, w*x**2*z**7, x**2*z**8, x**2*y, w*x**2*y, w**2*x**2*y, w**3*x**2*y, w**4*x**2*y, w**5*x**2*y, w**6*x**2*y, w**7*x**2*y, x**2*y*z, w*x**2*y*z, w**2*x**2*y*z, w**3*x**2*y*z, w**4*x**2*y*z, w**5*x**2*y*z, w**6*x**2*y*z, x**2*y*z**2, w*x**2*y*z**2, w**2*x**2*y*z**2, w**3*x**2*y*z**2, w**4*x**2*y*z**2, w**5*x**2*y*z**2, x**2*y*z**3, w*x**2*y*z**3, w**2*x**2*y*z**3, w**3*x**2*y*z**3, w**4*x**2*y*z**3, x**2*y*z**4, w*x**2*y*z**4, w**2*x**2*y*z**4, w**3*x**2*y*z**4, x**2*y*z**5, w*x**2*y*z**5, w**2*x**2*y*z**5, x**2*y*z**6, w*x**2*y*z**6, x**2*y*z**7, x**2*y**2, w*x**2*y**2, w**2*x**2*y**2, w**3*x**2*y**2, w**4*x**2*y**2, w**5*x**2*y**2, w**6*x**2*y**2, x**2*y**2*z, w*x**2*y**2*z, w**2*x**2*y**2*z, w**3*x**2*y**2*z, w**4*x**2*y**2*z, w**5*x**2*y**2*z, x**2*y**2*z**2, w*x**2*y**2*z**2, w**2*x**2*y**2*z**2, w**3*x**2*y**2*z**2, w**4*x**2*y**2*z**2, x**2*y**2*z**3, w*x**2*y**2*z**3, w**2*x**2*y**2*z**3, w**3*x**2*y**2*z**3, x**2*y**2*z**4, w*x**2*y**2*z**4, w**2*x**2*y**2*z**4, x**2*y**2*z**5, w*x**2*y**2*z**5, x**2*y**2*z**6, x**2*y**3, w*x**2*y**3, w**2*x**2*y**3, w**3*x**2*y**3, w**4*x**2*y**3, w**5*x**2*y**3, x**2*y**3*z, w*x**2*y**3*z, w**2*x**2*y**3*z, w**3*x**2*y**3*z, w**4*x**2*y**3*z, x**2*y**3*z**2, w*x**2*y**3*z**2, w**2*x**2*y**3*z**2, w**3*x**2*y**3*z**2, x**2*y**3*z**3, w*x**2*y**3*z**3, w**2*x**2*y**3*z**3, x**2*y**3*z**4, w*x**2*y**3*z**4, x**2*y**3*z**5, x**2*y**4, w*x**2*y**4, w**2*x**2*y**4, w**3*x**2*y**4, w**4*x**2*y**4, x**2*y**4*z, w*x**2*y**4*z, w**2*x**2*y**4*z, w**3*x**2*y**4*z, x**2*y**4*z**2, w*x**2*y**4*z**2, w**2*x**2*y**4*z**2, x**2*y**4*z**3, w*x**2*y**4*z**3, x**2*y**4*z**4, x**2*y**5, w*x**2*y**5, w**2*x**2*y**5, w**3*x**2*y**5, x**2*y**5*z, w*x**2*y**5*z, w**2*x**2*y**5*z, x**2*y**5*z**2, w*x**2*y**5*z**2, x**2*y**5*z**3, x**2*y**6, w*x**2*y**6, w**2*x**2*y**6, x**2*y**6*z, w*x**2*y**6*z, x**2*y**6*z**2, x**2*y**7, w*x**2*y**7, x**2*y**7*z, x**2*y**8, x**3, w*x**3, w**2*x**3, w**3*x**3, w**4*x**3, w**5*x**3, w**6*x**3, w**7*x**3, x**3*z, w*x**3*z, w**2*x**3*z, w**3*x**3*z, w**4*x**3*z, w**5*x**3*z, w**6*x**3*z, x**3*z**2, w*x**3*z**2, w**2*x**3*z**2, w**3*x**3*z**2, w**4*x**3*z**2, w**5*x**3*z**2, x**3*z**3, w*x**3*z**3, w**2*x**3*z**3, w**3*x**3*z**3, w**4*x**3*z**3, x**3*z**4, w*x**3*z**4, w**2*x**3*z**4, w**3*x**3*z**4, x**3*z**5, w*x**3*z**5, w**2*x**3*z**5, x**3*z**6, w*x**3*z**6, x**3*z**7, x**3*y, w*x**3*y, w**2*x**3*y, w**3*x**3*y, w**4*x**3*y, w**5*x**3*y, w**6*x**3*y, x**3*y*z, w*x**3*y*z, w**2*x**3*y*z, w**3*x**3*y*z, w**4*x**3*y*z, w**5*x**3*y*z, x**3*y*z**2, w*x**3*y*z**2, w**2*x**3*y*z**2, w**3*x**3*y*z**2, w**4*x**3*y*z**2, x**3*y*z**3, w*x**3*y*z**3, w**2*x**3*y*z**3, w**3*x**3*y*z**3, x**3*y*z**4, w*x**3*y*z**4, w**2*x**3*y*z**4, x**3*y*z**5, w*x**3*y*z**5, x**3*y*z**6, x**3*y**2, w*x**3*y**2, w**2*x**3*y**2, w**3*x**3*y**2, w**4*x**3*y**2, w**5*x**3*y**2, x**3*y**2*z, w*x**3*y**2*z, w**2*x**3*y**2*z, w**3*x**3*y**2*z, w**4*x**3*y**2*z, x**3*y**2*z**2, w*x**3*y**2*z**2, w**2*x**3*y**2*z**2, w**3*x**3*y**2*z**2, x**3*y**2*z**3, w*x**3*y**2*z**3, w**2*x**3*y**2*z**3, x**3*y**2*z**4, w*x**3*y**2*z**4, x**3*y**2*z**5, x**3*y**3, w*x**3*y**3, w**2*x**3*y**3, w**3*x**3*y**3, w**4*x**3*y**3, x**3*y**3*z, w*x**3*y**3*z, w**2*x**3*y**3*z, w**3*x**3*y**3*z, x**3*y**3*z**2, w*x**3*y**3*z**2, w**2*x**3*y**3*z**2, x**3*y**3*z**3, w*x**3*y**3*z**3, x**3*y**3*z**4, x**3*y**4, w*x**3*y**4, w**2*x**3*y**4, w**3*x**3*y**4, x**3*y**4*z, w*x**3*y**4*z, w**2*x**3*y**4*z, x**3*y**4*z**2, w*x**3*y**4*z**2, x**3*y**4*z**3, x**3*y**5, w*x**3*y**5, w**2*x**3*y**5, x**3*y**5*z, w*x**3*y**5*z, x**3*y**5*z**2, x**3*y**6, w*x**3*y**6, x**3*y**6*z, x**3*y**7, x**4, w*x**4, w**2*x**4, w**3*x**4, w**4*x**4, w**5*x**4, w**6*x**4, x**4*z, w*x**4*z, w**2*x**4*z, w**3*x**4*z, w**4*x**4*z, w**5*x**4*z, x**4*z**2, w*x**4*z**2, w**2*x**4*z**2, w**3*x**4*z**2, w**4*x**4*z**2, x**4*z**3, w*x**4*z**3, w**2*x**4*z**3, w**3*x**4*z**3, x**4*z**4, w*x**4*z**4, w**2*x**4*z**4, x**4*z**5, w*x**4*z**5, x**4*z**6, x**4*y, w*x**4*y, w**2*x**4*y, w**3*x**4*y, w**4*x**4*y, w**5*x**4*y, x**4*y*z, w*x**4*y*z, w**2*x**4*y*z, w**3*x**4*y*z, w**4*x**4*y*z, x**4*y*z**2, w*x**4*y*z**2, w**2*x**4*y*z**2, w**3*x**4*y*z**2, x**4*y*z**3, w*x**4*y*z**3, w**2*x**4*y*z**3, x**4*y*z**4, w*x**4*y*z**4, x**4*y*z**5, x**4*y**2, w*x**4*y**2, w**2*x**4*y**2, w**3*x**4*y**2, w**4*x**4*y**2, x**4*y**2*z, w*x**4*y**2*z, w**2*x**4*y**2*z, w**3*x**4*y**2*z, x**4*y**2*z**2, w*x**4*y**2*z**2, w**2*x**4*y**2*z**2, x**4*y**2*z**3, w*x**4*y**2*z**3, x**4*y**2*z**4, x**4*y**3, w*x**4*y**3, w**2*x**4*y**3, w**3*x**4*y**3, x**4*y**3*z, w*x**4*y**3*z, w**2*x**4*y**3*z, x**4*y**3*z**2, w*x**4*y**3*z**2, x**4*y**3*z**3, x**4*y**4, w*x**4*y**4, w**2*x**4*y**4, x**4*y**4*z, w*x**4*y**4*z, x**4*y**4*z**2, x**4*y**5, w*x**4*y**5, x**4*y**5*z, x**4*y**6, x**5, w*x**5, w**2*x**5, w**3*x**5, w**4*x**5, w**5*x**5, x**5*z, w*x**5*z, w**2*x**5*z, w**3*x**5*z, w**4*x**5*z, x**5*z**2, w*x**5*z**2, w**2*x**5*z**2, w**3*x**5*z**2, x**5*z**3, w*x**5*z**3, w**2*x**5*z**3, x**5*z**4, w*x**5*z**4, x**5*z**5, x**5*y, w*x**5*y, w**2*x**5*y, w**3*x**5*y, w**4*x**5*y, x**5*y*z, w*x**5*y*z, w**2*x**5*y*z, w**3*x**5*y*z, x**5*y*z**2, w*x**5*y*z**2, w**2*x**5*y*z**2, x**5*y*z**3, w*x**5*y*z**3, x**5*y*z**4, x**5*y**2, w*x**5*y**2, w**2*x**5*y**2, w**3*x**5*y**2, x**5*y**2*z, w*x**5*y**2*z, w**2*x**5*y**2*z, x**5*y**2*z**2, w*x**5*y**2*z**2, x**5*y**2*z**3, x**5*y**3, w*x**5*y**3, w**2*x**5*y**3, x**5*y**3*z, w*x**5*y**3*z, x**5*y**3*z**2, x**5*y**4, w*x**5*y**4, x**5*y**4*z, x**5*y**5, x**6, w*x**6, w**2*x**6, w**3*x**6, w**4*x**6, x**6*z, w*x**6*z, w**2*x**6*z, w**3*x**6*z, x**6*z**2, w*x**6*z**2, w**2*x**6*z**2, x**6*z**3, w*x**6*z**3, x**6*z**4, x**6*y, w*x**6*y, w**2*x**6*y, w**3*x**6*y, x**6*y*z, w*x**6*y*z, w**2*x**6*y*z, x**6*y*z**2, w*x**6*y*z**2, x**6*y*z**3, x**6*y**2, w*x**6*y**2, w**2*x**6*y**2, x**6*y**2*z, w*x**6*y**2*z, x**6*y**2*z**2, x**6*y**3, w*x**6*y**3, x**6*y**3*z, x**6*y**4, x**7, w*x**7, w**2*x**7, w**3*x**7, x**7*z, w*x**7*z, w**2*x**7*z, x**7*z**2, w*x**7*z**2, x**7*z**3, x**7*y, w*x**7*y, w**2*x**7*y, x**7*y*z, w*x**7*y*z, x**7*y*z**2, x**7*y**2, w*x**7*y**2, x**7*y**2*z, x**7*y**3, x**8, w*x**8, w**2*x**8, x**8*z, w*x**8*z, x**8*z**2, x**8*y, w*x**8*y, x**8*y*z, x**8*y**2, x**9, w*x**9, x**9*z, x**9*y, x**10]\n",
      "\t\tNumber of terms\t=\t1001\n",
      "\n",
      "\n"
     ]
    }
   ],
   "source": [
    "# Independent variable\n",
    "t = symbols('t')\n",
    "# Temporary variables for the dependent variables\n",
    "x, y, z, w = symbols('x y z w')\n",
    "# Dependent variables\n",
    "s,c,e,p,xi,eta_1,eta_2,eta_3,eta_4 = symbols('s c e p xi eta_1 eta_2 eta_3 eta_4',cls=Function)\n",
    "# Define our reaction terms\n",
    "omega_1, omega_2, omega_3, omega_4 = symbols('omega_1 omega_2 omega_3 omega_4',cls=Function)\n",
    "# Define our parameter a\n",
    "k1, k_1, k2 = symbols('k1 k_1 k2')\n",
    "# Define our reaction terms\n",
    "omega_1 = -k1*x*z+k_1*y\n",
    "omega_2 = k1*x*z - (k_1 + k2)*y\n",
    "omega_3 = -k1*x*z + (k_1 + k2)*y\n",
    "omega_4 = k2*y\n",
    "# Define our tangents\n",
    "xi_f = xi(t,s(t),c(t),e(t),p(t))\n",
    "eta_1_f = eta_1(t,s(t),c(t),e(t),p(t))\n",
    "eta_2_f = eta_2(t,s(t),c(t),e(t),p(t))\n",
    "eta_3_f = eta_3(t,s(t),c(t),e(t),p(t))\n",
    "eta_4_f = eta_4(t,s(t),c(t),e(t),p(t))\n",
    "# Generate all monomials for our polynomials\n",
    "M = list(itermonomials([x, y, z, w], 10))\n",
    "# Sort the list\n",
    "M = sorted(M, key=monomial_key('lex', [x, y, z,w]))\n",
    "# Calculate the number of terms in each of the polynomials\n",
    "num_of_terms = monomial_count(4,10)\n",
    "print(\"The monomials\")\n",
    "print(M)\n",
    "print(\"\\t\\tNumber of terms\\t=\\t%d\\n\\n\"%(num_of_terms))"
   ]
  },
  {
   "cell_type": "markdown",
   "id": "abdc7d87",
   "metadata": {},
   "source": [
    "# Linearised symmetry condition 1"
   ]
  },
  {
   "cell_type": "code",
   "execution_count": 6,
   "id": "8d16373d",
   "metadata": {},
   "outputs": [
    {
     "name": "stdout",
     "output_type": "stream",
     "text": [
      "Linearised symmetry condition 1\n",
      "$$k_{1}^{2} e^{2}{\\left(t \\right)} s^{2}{\\left(t \\right)} \\frac{d}{d c{\\left(t \\right)}} \\xi{\\left(t,s{\\left(t \\right)},c{\\left(t \\right)},e{\\left(t \\right)},p{\\left(t \\right)} \\right)} - k_{1}^{2} e^{2}{\\left(t \\right)} s^{2}{\\left(t \\right)} \\frac{d}{d e{\\left(t \\right)}} \\xi{\\left(t,s{\\left(t \\right)},c{\\left(t \\right)},e{\\left(t \\right)},p{\\left(t \\right)} \\right)} - k_{1}^{2} e^{2}{\\left(t \\right)} s^{2}{\\left(t \\right)} \\frac{d}{d s{\\left(t \\right)}} \\xi{\\left(t,s{\\left(t \\right)},c{\\left(t \\right)},e{\\left(t \\right)},p{\\left(t \\right)} \\right)} - k_{1} k_{2} c{\\left(t \\right)} e{\\left(t \\right)} s{\\left(t \\right)} \\frac{d}{d c{\\left(t \\right)}} \\xi{\\left(t,s{\\left(t \\right)},c{\\left(t \\right)},e{\\left(t \\right)},p{\\left(t \\right)} \\right)} + k_{1} k_{2} c{\\left(t \\right)} e{\\left(t \\right)} s{\\left(t \\right)} \\frac{d}{d e{\\left(t \\right)}} \\xi{\\left(t,s{\\left(t \\right)},c{\\left(t \\right)},e{\\left(t \\right)},p{\\left(t \\right)} \\right)} + k_{1} k_{2} c{\\left(t \\right)} e{\\left(t \\right)} s{\\left(t \\right)} \\frac{d}{d p{\\left(t \\right)}} \\xi{\\left(t,s{\\left(t \\right)},c{\\left(t \\right)},e{\\left(t \\right)},p{\\left(t \\right)} \\right)} - 2 k_{1} k_{1} c{\\left(t \\right)} e{\\left(t \\right)} s{\\left(t \\right)} \\frac{d}{d c{\\left(t \\right)}} \\xi{\\left(t,s{\\left(t \\right)},c{\\left(t \\right)},e{\\left(t \\right)},p{\\left(t \\right)} \\right)} + 2 k_{1} k_{1} c{\\left(t \\right)} e{\\left(t \\right)} s{\\left(t \\right)} \\frac{d}{d e{\\left(t \\right)}} \\xi{\\left(t,s{\\left(t \\right)},c{\\left(t \\right)},e{\\left(t \\right)},p{\\left(t \\right)} \\right)} + 2 k_{1} k_{1} c{\\left(t \\right)} e{\\left(t \\right)} s{\\left(t \\right)} \\frac{d}{d s{\\left(t \\right)}} \\xi{\\left(t,s{\\left(t \\right)},c{\\left(t \\right)},e{\\left(t \\right)},p{\\left(t \\right)} \\right)} + k_{1} e{\\left(t \\right)} \\eta_{1}{\\left(t,s{\\left(t \\right)},c{\\left(t \\right)},e{\\left(t \\right)},p{\\left(t \\right)} \\right)} + k_{1} e{\\left(t \\right)} s{\\left(t \\right)} \\frac{d}{d c{\\left(t \\right)}} \\eta_{1}{\\left(t,s{\\left(t \\right)},c{\\left(t \\right)},e{\\left(t \\right)},p{\\left(t \\right)} \\right)} - k_{1} e{\\left(t \\right)} s{\\left(t \\right)} \\frac{d}{d e{\\left(t \\right)}} \\eta_{1}{\\left(t,s{\\left(t \\right)},c{\\left(t \\right)},e{\\left(t \\right)},p{\\left(t \\right)} \\right)} - k_{1} e{\\left(t \\right)} s{\\left(t \\right)} \\frac{d}{d s{\\left(t \\right)}} \\eta_{1}{\\left(t,s{\\left(t \\right)},c{\\left(t \\right)},e{\\left(t \\right)},p{\\left(t \\right)} \\right)} + k_{1} e{\\left(t \\right)} s{\\left(t \\right)} \\left. \\frac{\\partial}{\\partial \\xi_{1}} \\xi{\\left(\\xi_{1},s{\\left(t \\right)},c{\\left(t \\right)},e{\\left(t \\right)},p{\\left(t \\right)} \\right)} \\right|_{\\substack{ \\xi_{1}=t }} + k_{1} \\eta_{3}{\\left(t,s{\\left(t \\right)},c{\\left(t \\right)},e{\\left(t \\right)},p{\\left(t \\right)} \\right)} s{\\left(t \\right)} + k_{2} k_{1} c^{2}{\\left(t \\right)} \\frac{d}{d c{\\left(t \\right)}} \\xi{\\left(t,s{\\left(t \\right)},c{\\left(t \\right)},e{\\left(t \\right)},p{\\left(t \\right)} \\right)} - k_{2} k_{1} c^{2}{\\left(t \\right)} \\frac{d}{d e{\\left(t \\right)}} \\xi{\\left(t,s{\\left(t \\right)},c{\\left(t \\right)},e{\\left(t \\right)},p{\\left(t \\right)} \\right)} - k_{2} k_{1} c^{2}{\\left(t \\right)} \\frac{d}{d p{\\left(t \\right)}} \\xi{\\left(t,s{\\left(t \\right)},c{\\left(t \\right)},e{\\left(t \\right)},p{\\left(t \\right)} \\right)} - k_{2} c{\\left(t \\right)} \\frac{d}{d c{\\left(t \\right)}} \\eta_{1}{\\left(t,s{\\left(t \\right)},c{\\left(t \\right)},e{\\left(t \\right)},p{\\left(t \\right)} \\right)} + k_{2} c{\\left(t \\right)} \\frac{d}{d e{\\left(t \\right)}} \\eta_{1}{\\left(t,s{\\left(t \\right)},c{\\left(t \\right)},e{\\left(t \\right)},p{\\left(t \\right)} \\right)} + k_{2} c{\\left(t \\right)} \\frac{d}{d p{\\left(t \\right)}} \\eta_{1}{\\left(t,s{\\left(t \\right)},c{\\left(t \\right)},e{\\left(t \\right)},p{\\left(t \\right)} \\right)} + k_{1}^{2} c^{2}{\\left(t \\right)} \\frac{d}{d c{\\left(t \\right)}} \\xi{\\left(t,s{\\left(t \\right)},c{\\left(t \\right)},e{\\left(t \\right)},p{\\left(t \\right)} \\right)} - k_{1}^{2} c^{2}{\\left(t \\right)} \\frac{d}{d e{\\left(t \\right)}} \\xi{\\left(t,s{\\left(t \\right)},c{\\left(t \\right)},e{\\left(t \\right)},p{\\left(t \\right)} \\right)} - k_{1}^{2} c^{2}{\\left(t \\right)} \\frac{d}{d s{\\left(t \\right)}} \\xi{\\left(t,s{\\left(t \\right)},c{\\left(t \\right)},e{\\left(t \\right)},p{\\left(t \\right)} \\right)} - k_{1} c{\\left(t \\right)} \\frac{d}{d c{\\left(t \\right)}} \\eta_{1}{\\left(t,s{\\left(t \\right)},c{\\left(t \\right)},e{\\left(t \\right)},p{\\left(t \\right)} \\right)} + k_{1} c{\\left(t \\right)} \\frac{d}{d e{\\left(t \\right)}} \\eta_{1}{\\left(t,s{\\left(t \\right)},c{\\left(t \\right)},e{\\left(t \\right)},p{\\left(t \\right)} \\right)} + k_{1} c{\\left(t \\right)} \\frac{d}{d s{\\left(t \\right)}} \\eta_{1}{\\left(t,s{\\left(t \\right)},c{\\left(t \\right)},e{\\left(t \\right)},p{\\left(t \\right)} \\right)} - k_{1} c{\\left(t \\right)} \\left. \\frac{\\partial}{\\partial \\xi_{1}} \\xi{\\left(\\xi_{1},s{\\left(t \\right)},c{\\left(t \\right)},e{\\left(t \\right)},p{\\left(t \\right)} \\right)} \\right|_{\\substack{ \\xi_{1}=t }} - k_{1} \\eta_{2}{\\left(t,s{\\left(t \\right)},c{\\left(t \\right)},e{\\left(t \\right)},p{\\left(t \\right)} \\right)} + \\left. \\frac{\\partial}{\\partial \\xi_{1}} \\eta_{1}{\\left(\\xi_{1},s{\\left(t \\right)},c{\\left(t \\right)},e{\\left(t \\right)},p{\\left(t \\right)} \\right)} \\right|_{\\substack{ \\xi_{1}=t }}=0$$\n",
      "Printing the determining equations:\n",
      "\n",
      "\\begin{align*}\n",
      "1:&- k_{1} \\eta_{2}{\\left(t,s{\\left(t \\right)},c{\\left(t \\right)},e{\\left(t \\right)},p{\\left(t \\right)} \\right)} + \\left. \\frac{\\partial}{\\partial \\xi_{1}} \\eta_{1}{\\left(\\xi_{1},s{\\left(t \\right)},c{\\left(t \\right)},e{\\left(t \\right)},p{\\left(t \\right)} \\right)} \\right|_{\\substack{ \\xi_{1}=t }}=0\\\\\n",
      "e:&k_{1} \\eta_{1}{\\left(t,s{\\left(t \\right)},c{\\left(t \\right)},e{\\left(t \\right)},p{\\left(t \\right)} \\right)}=0\\\\\n",
      "c:&- k_{2} \\frac{d}{d c{\\left(t \\right)}} \\eta_{1}{\\left(t,s{\\left(t \\right)},c{\\left(t \\right)},e{\\left(t \\right)},p{\\left(t \\right)} \\right)} + k_{2} \\frac{d}{d e{\\left(t \\right)}} \\eta_{1}{\\left(t,s{\\left(t \\right)},c{\\left(t \\right)},e{\\left(t \\right)},p{\\left(t \\right)} \\right)} + k_{2} \\frac{d}{d p{\\left(t \\right)}} \\eta_{1}{\\left(t,s{\\left(t \\right)},c{\\left(t \\right)},e{\\left(t \\right)},p{\\left(t \\right)} \\right)} - k_{1} \\frac{d}{d c{\\left(t \\right)}} \\eta_{1}{\\left(t,s{\\left(t \\right)},c{\\left(t \\right)},e{\\left(t \\right)},p{\\left(t \\right)} \\right)} + k_{1} \\frac{d}{d e{\\left(t \\right)}} \\eta_{1}{\\left(t,s{\\left(t \\right)},c{\\left(t \\right)},e{\\left(t \\right)},p{\\left(t \\right)} \\right)} + k_{1} \\frac{d}{d s{\\left(t \\right)}} \\eta_{1}{\\left(t,s{\\left(t \\right)},c{\\left(t \\right)},e{\\left(t \\right)},p{\\left(t \\right)} \\right)} - k_{1} \\left. \\frac{\\partial}{\\partial \\xi_{1}} \\xi{\\left(\\xi_{1},s{\\left(t \\right)},c{\\left(t \\right)},e{\\left(t \\right)},p{\\left(t \\right)} \\right)} \\right|_{\\substack{ \\xi_{1}=t }}=0\\\\\n",
      "c^{2}:&k_{2} k_{1} \\frac{d}{d c{\\left(t \\right)}} \\xi{\\left(t,s{\\left(t \\right)},c{\\left(t \\right)},e{\\left(t \\right)},p{\\left(t \\right)} \\right)} - k_{2} k_{1} \\frac{d}{d e{\\left(t \\right)}} \\xi{\\left(t,s{\\left(t \\right)},c{\\left(t \\right)},e{\\left(t \\right)},p{\\left(t \\right)} \\right)} - k_{2} k_{1} \\frac{d}{d p{\\left(t \\right)}} \\xi{\\left(t,s{\\left(t \\right)},c{\\left(t \\right)},e{\\left(t \\right)},p{\\left(t \\right)} \\right)} + k_{1}^{2} \\frac{d}{d c{\\left(t \\right)}} \\xi{\\left(t,s{\\left(t \\right)},c{\\left(t \\right)},e{\\left(t \\right)},p{\\left(t \\right)} \\right)} - k_{1}^{2} \\frac{d}{d e{\\left(t \\right)}} \\xi{\\left(t,s{\\left(t \\right)},c{\\left(t \\right)},e{\\left(t \\right)},p{\\left(t \\right)} \\right)} - k_{1}^{2} \\frac{d}{d s{\\left(t \\right)}} \\xi{\\left(t,s{\\left(t \\right)},c{\\left(t \\right)},e{\\left(t \\right)},p{\\left(t \\right)} \\right)}=0\\\\\n",
      "s:&k_{1} \\eta_{3}{\\left(t,s{\\left(t \\right)},c{\\left(t \\right)},e{\\left(t \\right)},p{\\left(t \\right)} \\right)}=0\\\\\n",
      "s e:&k_{1} \\frac{d}{d c{\\left(t \\right)}} \\eta_{1}{\\left(t,s{\\left(t \\right)},c{\\left(t \\right)},e{\\left(t \\right)},p{\\left(t \\right)} \\right)} - k_{1} \\frac{d}{d e{\\left(t \\right)}} \\eta_{1}{\\left(t,s{\\left(t \\right)},c{\\left(t \\right)},e{\\left(t \\right)},p{\\left(t \\right)} \\right)} - k_{1} \\frac{d}{d s{\\left(t \\right)}} \\eta_{1}{\\left(t,s{\\left(t \\right)},c{\\left(t \\right)},e{\\left(t \\right)},p{\\left(t \\right)} \\right)} + k_{1} \\left. \\frac{\\partial}{\\partial \\xi_{1}} \\xi{\\left(\\xi_{1},s{\\left(t \\right)},c{\\left(t \\right)},e{\\left(t \\right)},p{\\left(t \\right)} \\right)} \\right|_{\\substack{ \\xi_{1}=t }}=0\\\\\n",
      "s c e:&- k_{1} k_{2} \\frac{d}{d c{\\left(t \\right)}} \\xi{\\left(t,s{\\left(t \\right)},c{\\left(t \\right)},e{\\left(t \\right)},p{\\left(t \\right)} \\right)} + k_{1} k_{2} \\frac{d}{d e{\\left(t \\right)}} \\xi{\\left(t,s{\\left(t \\right)},c{\\left(t \\right)},e{\\left(t \\right)},p{\\left(t \\right)} \\right)} + k_{1} k_{2} \\frac{d}{d p{\\left(t \\right)}} \\xi{\\left(t,s{\\left(t \\right)},c{\\left(t \\right)},e{\\left(t \\right)},p{\\left(t \\right)} \\right)} - 2 k_{1} k_{1} \\frac{d}{d c{\\left(t \\right)}} \\xi{\\left(t,s{\\left(t \\right)},c{\\left(t \\right)},e{\\left(t \\right)},p{\\left(t \\right)} \\right)} + 2 k_{1} k_{1} \\frac{d}{d e{\\left(t \\right)}} \\xi{\\left(t,s{\\left(t \\right)},c{\\left(t \\right)},e{\\left(t \\right)},p{\\left(t \\right)} \\right)} + 2 k_{1} k_{1} \\frac{d}{d s{\\left(t \\right)}} \\xi{\\left(t,s{\\left(t \\right)},c{\\left(t \\right)},e{\\left(t \\right)},p{\\left(t \\right)} \\right)}=0\\\\\n",
      "s^{2} e^{2}:&k_{1}^{2} \\frac{d}{d c{\\left(t \\right)}} \\xi{\\left(t,s{\\left(t \\right)},c{\\left(t \\right)},e{\\left(t \\right)},p{\\left(t \\right)} \\right)} - k_{1}^{2} \\frac{d}{d e{\\left(t \\right)}} \\xi{\\left(t,s{\\left(t \\right)},c{\\left(t \\right)},e{\\left(t \\right)},p{\\left(t \\right)} \\right)} - k_{1}^{2} \\frac{d}{d s{\\left(t \\right)}} \\xi{\\left(t,s{\\left(t \\right)},c{\\left(t \\right)},e{\\left(t \\right)},p{\\left(t \\right)} \\right)}=0\\\\\n",
      "\\end{align*}\n"
     ]
    }
   ],
   "source": [
    "# Create an expression for the linearised symmetry condition\n",
    "lin_sym_1 = Derivative(eta_1_f).doit() - omega_1*Derivative(xi_f).doit() - eta_1_f*Derivative(omega_1,x).doit() - eta_2_f*Derivative(omega_1,y).doit() - eta_3_f*Derivative(omega_1,z).doit()- eta_4_f*Derivative(omega_1,w).doit()\n",
    "lin_sym_1 = lin_sym_1.subs(Derivative(s(t), t),omega_1)\n",
    "lin_sym_1 = lin_sym_1.subs(Derivative(c(t), t),omega_2)\n",
    "lin_sym_1 = expand(lin_sym_1.subs(Derivative(e(t), t),omega_3))\n",
    "lin_sym_1 = expand(lin_sym_1.subs(Derivative(p(t), t),omega_4))\n",
    "# Print the linearised symmetry condition\n",
    "lin_sym_temp = lin_sym_1.subs(x,s(t))\n",
    "lin_sym_temp = lin_sym_temp.subs(y,c(t))\n",
    "lin_sym_temp = lin_sym_temp.subs(z,e(t))\n",
    "lin_sym_temp = lin_sym_temp.subs(w,p(t))\n",
    "print(\"Linearised symmetry condition 1\")\n",
    "print(\"$$\" + latex(lin_sym_temp) + \"=0$$\")\n",
    "# Extract the determining equations\n",
    "initial_det_eq = [(monomial,lin_sym_1.coeff(monomial)) for monomial in M if lin_sym_1.coeff(monomial)!= 0]\n",
    "# The constant term is bound to be wrong so let's fix it\n",
    "coeff_0 = lin_sym_1.subs(x,0)\n",
    "coeff_0 = coeff_0.subs(y,0)\n",
    "coeff_0 = coeff_0.subs(z,0)\n",
    "coeff_0 = coeff_0.subs(w,0)\n",
    "initial_det_eq[0] = (1,coeff_0) \n",
    "# Save det_eq\n",
    "det_eq = []\n",
    "# Loop over all determining equations and remove all elements with x and y\n",
    "for index in range(len(initial_det_eq)):\n",
    "    coeff = initial_det_eq[index][1]\n",
    "    coeff = coeff.subs(x,0)\n",
    "    coeff = coeff.subs(y,0)\n",
    "    coeff = coeff.subs(z,0)\n",
    "    coeff = coeff.subs(w,0)\n",
    "    if coeff != 0:\n",
    "        det_eq.append((initial_det_eq[index][0],coeff))\n",
    "# Print these coefficients nicely in latex\n",
    "print(\"Printing the determining equations:\")\n",
    "print(\"\\n\\\\begin{align*}\")\n",
    "for det_eq_index in range(len(det_eq)):\n",
    "    monomial_string = latex(det_eq[det_eq_index][0])\n",
    "    monomial_string = monomial_string.replace(\"x\",\"s\")\n",
    "    monomial_string = monomial_string.replace(\"y\",\"c\")\n",
    "    monomial_string = monomial_string.replace(\"z\",\"e\")\n",
    "    monomial_string = monomial_string.replace(\"w\",\"p\")\n",
    "    # Print the equation    \n",
    "    print(monomial_string + \":&\" + latex(det_eq[det_eq_index][1]) + \"=0\\\\\\\\\")\n",
    "print(\"\\\\end{align*}\")\n"
   ]
  },
  {
   "cell_type": "markdown",
   "id": "0118df69",
   "metadata": {},
   "source": [
    "# Linearised symmetry condition 2"
   ]
  },
  {
   "cell_type": "code",
   "execution_count": 7,
   "id": "a1d2283a",
   "metadata": {},
   "outputs": [
    {
     "name": "stdout",
     "output_type": "stream",
     "text": [
      "Linearised symmetry condition 2\n",
      "$$- k_{1}^{2} e^{2}{\\left(t \\right)} s^{2}{\\left(t \\right)} \\frac{d}{d c{\\left(t \\right)}} \\xi{\\left(t,s{\\left(t \\right)},c{\\left(t \\right)},e{\\left(t \\right)},p{\\left(t \\right)} \\right)} + k_{1}^{2} e^{2}{\\left(t \\right)} s^{2}{\\left(t \\right)} \\frac{d}{d e{\\left(t \\right)}} \\xi{\\left(t,s{\\left(t \\right)},c{\\left(t \\right)},e{\\left(t \\right)},p{\\left(t \\right)} \\right)} + k_{1}^{2} e^{2}{\\left(t \\right)} s^{2}{\\left(t \\right)} \\frac{d}{d s{\\left(t \\right)}} \\xi{\\left(t,s{\\left(t \\right)},c{\\left(t \\right)},e{\\left(t \\right)},p{\\left(t \\right)} \\right)} + 2 k_{1} k_{2} c{\\left(t \\right)} e{\\left(t \\right)} s{\\left(t \\right)} \\frac{d}{d c{\\left(t \\right)}} \\xi{\\left(t,s{\\left(t \\right)},c{\\left(t \\right)},e{\\left(t \\right)},p{\\left(t \\right)} \\right)} - 2 k_{1} k_{2} c{\\left(t \\right)} e{\\left(t \\right)} s{\\left(t \\right)} \\frac{d}{d e{\\left(t \\right)}} \\xi{\\left(t,s{\\left(t \\right)},c{\\left(t \\right)},e{\\left(t \\right)},p{\\left(t \\right)} \\right)} - k_{1} k_{2} c{\\left(t \\right)} e{\\left(t \\right)} s{\\left(t \\right)} \\frac{d}{d p{\\left(t \\right)}} \\xi{\\left(t,s{\\left(t \\right)},c{\\left(t \\right)},e{\\left(t \\right)},p{\\left(t \\right)} \\right)} - k_{1} k_{2} c{\\left(t \\right)} e{\\left(t \\right)} s{\\left(t \\right)} \\frac{d}{d s{\\left(t \\right)}} \\xi{\\left(t,s{\\left(t \\right)},c{\\left(t \\right)},e{\\left(t \\right)},p{\\left(t \\right)} \\right)} + 2 k_{1} k_{1} c{\\left(t \\right)} e{\\left(t \\right)} s{\\left(t \\right)} \\frac{d}{d c{\\left(t \\right)}} \\xi{\\left(t,s{\\left(t \\right)},c{\\left(t \\right)},e{\\left(t \\right)},p{\\left(t \\right)} \\right)} - 2 k_{1} k_{1} c{\\left(t \\right)} e{\\left(t \\right)} s{\\left(t \\right)} \\frac{d}{d e{\\left(t \\right)}} \\xi{\\left(t,s{\\left(t \\right)},c{\\left(t \\right)},e{\\left(t \\right)},p{\\left(t \\right)} \\right)} - 2 k_{1} k_{1} c{\\left(t \\right)} e{\\left(t \\right)} s{\\left(t \\right)} \\frac{d}{d s{\\left(t \\right)}} \\xi{\\left(t,s{\\left(t \\right)},c{\\left(t \\right)},e{\\left(t \\right)},p{\\left(t \\right)} \\right)} - k_{1} e{\\left(t \\right)} \\eta_{1}{\\left(t,s{\\left(t \\right)},c{\\left(t \\right)},e{\\left(t \\right)},p{\\left(t \\right)} \\right)} + k_{1} e{\\left(t \\right)} s{\\left(t \\right)} \\frac{d}{d c{\\left(t \\right)}} \\eta_{2}{\\left(t,s{\\left(t \\right)},c{\\left(t \\right)},e{\\left(t \\right)},p{\\left(t \\right)} \\right)} - k_{1} e{\\left(t \\right)} s{\\left(t \\right)} \\frac{d}{d e{\\left(t \\right)}} \\eta_{2}{\\left(t,s{\\left(t \\right)},c{\\left(t \\right)},e{\\left(t \\right)},p{\\left(t \\right)} \\right)} - k_{1} e{\\left(t \\right)} s{\\left(t \\right)} \\frac{d}{d s{\\left(t \\right)}} \\eta_{2}{\\left(t,s{\\left(t \\right)},c{\\left(t \\right)},e{\\left(t \\right)},p{\\left(t \\right)} \\right)} - k_{1} e{\\left(t \\right)} s{\\left(t \\right)} \\left. \\frac{\\partial}{\\partial \\xi_{1}} \\xi{\\left(\\xi_{1},s{\\left(t \\right)},c{\\left(t \\right)},e{\\left(t \\right)},p{\\left(t \\right)} \\right)} \\right|_{\\substack{ \\xi_{1}=t }} - k_{1} \\eta_{3}{\\left(t,s{\\left(t \\right)},c{\\left(t \\right)},e{\\left(t \\right)},p{\\left(t \\right)} \\right)} s{\\left(t \\right)} - k_{2}^{2} c^{2}{\\left(t \\right)} \\frac{d}{d c{\\left(t \\right)}} \\xi{\\left(t,s{\\left(t \\right)},c{\\left(t \\right)},e{\\left(t \\right)},p{\\left(t \\right)} \\right)} + k_{2}^{2} c^{2}{\\left(t \\right)} \\frac{d}{d e{\\left(t \\right)}} \\xi{\\left(t,s{\\left(t \\right)},c{\\left(t \\right)},e{\\left(t \\right)},p{\\left(t \\right)} \\right)} + k_{2}^{2} c^{2}{\\left(t \\right)} \\frac{d}{d p{\\left(t \\right)}} \\xi{\\left(t,s{\\left(t \\right)},c{\\left(t \\right)},e{\\left(t \\right)},p{\\left(t \\right)} \\right)} - 2 k_{2} k_{1} c^{2}{\\left(t \\right)} \\frac{d}{d c{\\left(t \\right)}} \\xi{\\left(t,s{\\left(t \\right)},c{\\left(t \\right)},e{\\left(t \\right)},p{\\left(t \\right)} \\right)} + 2 k_{2} k_{1} c^{2}{\\left(t \\right)} \\frac{d}{d e{\\left(t \\right)}} \\xi{\\left(t,s{\\left(t \\right)},c{\\left(t \\right)},e{\\left(t \\right)},p{\\left(t \\right)} \\right)} + k_{2} k_{1} c^{2}{\\left(t \\right)} \\frac{d}{d p{\\left(t \\right)}} \\xi{\\left(t,s{\\left(t \\right)},c{\\left(t \\right)},e{\\left(t \\right)},p{\\left(t \\right)} \\right)} + k_{2} k_{1} c^{2}{\\left(t \\right)} \\frac{d}{d s{\\left(t \\right)}} \\xi{\\left(t,s{\\left(t \\right)},c{\\left(t \\right)},e{\\left(t \\right)},p{\\left(t \\right)} \\right)} - k_{2} c{\\left(t \\right)} \\frac{d}{d c{\\left(t \\right)}} \\eta_{2}{\\left(t,s{\\left(t \\right)},c{\\left(t \\right)},e{\\left(t \\right)},p{\\left(t \\right)} \\right)} + k_{2} c{\\left(t \\right)} \\frac{d}{d e{\\left(t \\right)}} \\eta_{2}{\\left(t,s{\\left(t \\right)},c{\\left(t \\right)},e{\\left(t \\right)},p{\\left(t \\right)} \\right)} + k_{2} c{\\left(t \\right)} \\frac{d}{d p{\\left(t \\right)}} \\eta_{2}{\\left(t,s{\\left(t \\right)},c{\\left(t \\right)},e{\\left(t \\right)},p{\\left(t \\right)} \\right)} + k_{2} c{\\left(t \\right)} \\left. \\frac{\\partial}{\\partial \\xi_{1}} \\xi{\\left(\\xi_{1},s{\\left(t \\right)},c{\\left(t \\right)},e{\\left(t \\right)},p{\\left(t \\right)} \\right)} \\right|_{\\substack{ \\xi_{1}=t }} + k_{2} \\eta_{2}{\\left(t,s{\\left(t \\right)},c{\\left(t \\right)},e{\\left(t \\right)},p{\\left(t \\right)} \\right)} - k_{1}^{2} c^{2}{\\left(t \\right)} \\frac{d}{d c{\\left(t \\right)}} \\xi{\\left(t,s{\\left(t \\right)},c{\\left(t \\right)},e{\\left(t \\right)},p{\\left(t \\right)} \\right)} + k_{1}^{2} c^{2}{\\left(t \\right)} \\frac{d}{d e{\\left(t \\right)}} \\xi{\\left(t,s{\\left(t \\right)},c{\\left(t \\right)},e{\\left(t \\right)},p{\\left(t \\right)} \\right)} + k_{1}^{2} c^{2}{\\left(t \\right)} \\frac{d}{d s{\\left(t \\right)}} \\xi{\\left(t,s{\\left(t \\right)},c{\\left(t \\right)},e{\\left(t \\right)},p{\\left(t \\right)} \\right)} - k_{1} c{\\left(t \\right)} \\frac{d}{d c{\\left(t \\right)}} \\eta_{2}{\\left(t,s{\\left(t \\right)},c{\\left(t \\right)},e{\\left(t \\right)},p{\\left(t \\right)} \\right)} + k_{1} c{\\left(t \\right)} \\frac{d}{d e{\\left(t \\right)}} \\eta_{2}{\\left(t,s{\\left(t \\right)},c{\\left(t \\right)},e{\\left(t \\right)},p{\\left(t \\right)} \\right)} + k_{1} c{\\left(t \\right)} \\frac{d}{d s{\\left(t \\right)}} \\eta_{2}{\\left(t,s{\\left(t \\right)},c{\\left(t \\right)},e{\\left(t \\right)},p{\\left(t \\right)} \\right)} + k_{1} c{\\left(t \\right)} \\left. \\frac{\\partial}{\\partial \\xi_{1}} \\xi{\\left(\\xi_{1},s{\\left(t \\right)},c{\\left(t \\right)},e{\\left(t \\right)},p{\\left(t \\right)} \\right)} \\right|_{\\substack{ \\xi_{1}=t }} + k_{1} \\eta_{2}{\\left(t,s{\\left(t \\right)},c{\\left(t \\right)},e{\\left(t \\right)},p{\\left(t \\right)} \\right)} + \\left. \\frac{\\partial}{\\partial \\xi_{1}} \\eta_{2}{\\left(\\xi_{1},s{\\left(t \\right)},c{\\left(t \\right)},e{\\left(t \\right)},p{\\left(t \\right)} \\right)} \\right|_{\\substack{ \\xi_{1}=t }}=0$$\n",
      "Printing the determining equations:\n",
      "\n",
      "\\begin{align*}\n",
      "1:&k_{2} \\eta_{2}{\\left(t,s{\\left(t \\right)},c{\\left(t \\right)},e{\\left(t \\right)},p{\\left(t \\right)} \\right)} + k_{1} \\eta_{2}{\\left(t,s{\\left(t \\right)},c{\\left(t \\right)},e{\\left(t \\right)},p{\\left(t \\right)} \\right)} + \\left. \\frac{\\partial}{\\partial \\xi_{1}} \\eta_{2}{\\left(\\xi_{1},s{\\left(t \\right)},c{\\left(t \\right)},e{\\left(t \\right)},p{\\left(t \\right)} \\right)} \\right|_{\\substack{ \\xi_{1}=t }}=0\\\\\n",
      "e:&- k_{1} \\eta_{1}{\\left(t,s{\\left(t \\right)},c{\\left(t \\right)},e{\\left(t \\right)},p{\\left(t \\right)} \\right)}=0\\\\\n",
      "c:&- k_{2} \\frac{d}{d c{\\left(t \\right)}} \\eta_{2}{\\left(t,s{\\left(t \\right)},c{\\left(t \\right)},e{\\left(t \\right)},p{\\left(t \\right)} \\right)} + k_{2} \\frac{d}{d e{\\left(t \\right)}} \\eta_{2}{\\left(t,s{\\left(t \\right)},c{\\left(t \\right)},e{\\left(t \\right)},p{\\left(t \\right)} \\right)} + k_{2} \\frac{d}{d p{\\left(t \\right)}} \\eta_{2}{\\left(t,s{\\left(t \\right)},c{\\left(t \\right)},e{\\left(t \\right)},p{\\left(t \\right)} \\right)} + k_{2} \\left. \\frac{\\partial}{\\partial \\xi_{1}} \\xi{\\left(\\xi_{1},s{\\left(t \\right)},c{\\left(t \\right)},e{\\left(t \\right)},p{\\left(t \\right)} \\right)} \\right|_{\\substack{ \\xi_{1}=t }} - k_{1} \\frac{d}{d c{\\left(t \\right)}} \\eta_{2}{\\left(t,s{\\left(t \\right)},c{\\left(t \\right)},e{\\left(t \\right)},p{\\left(t \\right)} \\right)} + k_{1} \\frac{d}{d e{\\left(t \\right)}} \\eta_{2}{\\left(t,s{\\left(t \\right)},c{\\left(t \\right)},e{\\left(t \\right)},p{\\left(t \\right)} \\right)} + k_{1} \\frac{d}{d s{\\left(t \\right)}} \\eta_{2}{\\left(t,s{\\left(t \\right)},c{\\left(t \\right)},e{\\left(t \\right)},p{\\left(t \\right)} \\right)} + k_{1} \\left. \\frac{\\partial}{\\partial \\xi_{1}} \\xi{\\left(\\xi_{1},s{\\left(t \\right)},c{\\left(t \\right)},e{\\left(t \\right)},p{\\left(t \\right)} \\right)} \\right|_{\\substack{ \\xi_{1}=t }}=0\\\\\n",
      "c^{2}:&- k_{2}^{2} \\frac{d}{d c{\\left(t \\right)}} \\xi{\\left(t,s{\\left(t \\right)},c{\\left(t \\right)},e{\\left(t \\right)},p{\\left(t \\right)} \\right)} + k_{2}^{2} \\frac{d}{d e{\\left(t \\right)}} \\xi{\\left(t,s{\\left(t \\right)},c{\\left(t \\right)},e{\\left(t \\right)},p{\\left(t \\right)} \\right)} + k_{2}^{2} \\frac{d}{d p{\\left(t \\right)}} \\xi{\\left(t,s{\\left(t \\right)},c{\\left(t \\right)},e{\\left(t \\right)},p{\\left(t \\right)} \\right)} - 2 k_{2} k_{1} \\frac{d}{d c{\\left(t \\right)}} \\xi{\\left(t,s{\\left(t \\right)},c{\\left(t \\right)},e{\\left(t \\right)},p{\\left(t \\right)} \\right)} + 2 k_{2} k_{1} \\frac{d}{d e{\\left(t \\right)}} \\xi{\\left(t,s{\\left(t \\right)},c{\\left(t \\right)},e{\\left(t \\right)},p{\\left(t \\right)} \\right)} + k_{2} k_{1} \\frac{d}{d p{\\left(t \\right)}} \\xi{\\left(t,s{\\left(t \\right)},c{\\left(t \\right)},e{\\left(t \\right)},p{\\left(t \\right)} \\right)} + k_{2} k_{1} \\frac{d}{d s{\\left(t \\right)}} \\xi{\\left(t,s{\\left(t \\right)},c{\\left(t \\right)},e{\\left(t \\right)},p{\\left(t \\right)} \\right)} - k_{1}^{2} \\frac{d}{d c{\\left(t \\right)}} \\xi{\\left(t,s{\\left(t \\right)},c{\\left(t \\right)},e{\\left(t \\right)},p{\\left(t \\right)} \\right)} + k_{1}^{2} \\frac{d}{d e{\\left(t \\right)}} \\xi{\\left(t,s{\\left(t \\right)},c{\\left(t \\right)},e{\\left(t \\right)},p{\\left(t \\right)} \\right)} + k_{1}^{2} \\frac{d}{d s{\\left(t \\right)}} \\xi{\\left(t,s{\\left(t \\right)},c{\\left(t \\right)},e{\\left(t \\right)},p{\\left(t \\right)} \\right)}=0\\\\\n",
      "s:&- k_{1} \\eta_{3}{\\left(t,s{\\left(t \\right)},c{\\left(t \\right)},e{\\left(t \\right)},p{\\left(t \\right)} \\right)}=0\\\\\n",
      "s e:&k_{1} \\frac{d}{d c{\\left(t \\right)}} \\eta_{2}{\\left(t,s{\\left(t \\right)},c{\\left(t \\right)},e{\\left(t \\right)},p{\\left(t \\right)} \\right)} - k_{1} \\frac{d}{d e{\\left(t \\right)}} \\eta_{2}{\\left(t,s{\\left(t \\right)},c{\\left(t \\right)},e{\\left(t \\right)},p{\\left(t \\right)} \\right)} - k_{1} \\frac{d}{d s{\\left(t \\right)}} \\eta_{2}{\\left(t,s{\\left(t \\right)},c{\\left(t \\right)},e{\\left(t \\right)},p{\\left(t \\right)} \\right)} - k_{1} \\left. \\frac{\\partial}{\\partial \\xi_{1}} \\xi{\\left(\\xi_{1},s{\\left(t \\right)},c{\\left(t \\right)},e{\\left(t \\right)},p{\\left(t \\right)} \\right)} \\right|_{\\substack{ \\xi_{1}=t }}=0\\\\\n",
      "s c e:&2 k_{1} k_{2} \\frac{d}{d c{\\left(t \\right)}} \\xi{\\left(t,s{\\left(t \\right)},c{\\left(t \\right)},e{\\left(t \\right)},p{\\left(t \\right)} \\right)} - 2 k_{1} k_{2} \\frac{d}{d e{\\left(t \\right)}} \\xi{\\left(t,s{\\left(t \\right)},c{\\left(t \\right)},e{\\left(t \\right)},p{\\left(t \\right)} \\right)} - k_{1} k_{2} \\frac{d}{d p{\\left(t \\right)}} \\xi{\\left(t,s{\\left(t \\right)},c{\\left(t \\right)},e{\\left(t \\right)},p{\\left(t \\right)} \\right)} - k_{1} k_{2} \\frac{d}{d s{\\left(t \\right)}} \\xi{\\left(t,s{\\left(t \\right)},c{\\left(t \\right)},e{\\left(t \\right)},p{\\left(t \\right)} \\right)} + 2 k_{1} k_{1} \\frac{d}{d c{\\left(t \\right)}} \\xi{\\left(t,s{\\left(t \\right)},c{\\left(t \\right)},e{\\left(t \\right)},p{\\left(t \\right)} \\right)} - 2 k_{1} k_{1} \\frac{d}{d e{\\left(t \\right)}} \\xi{\\left(t,s{\\left(t \\right)},c{\\left(t \\right)},e{\\left(t \\right)},p{\\left(t \\right)} \\right)} - 2 k_{1} k_{1} \\frac{d}{d s{\\left(t \\right)}} \\xi{\\left(t,s{\\left(t \\right)},c{\\left(t \\right)},e{\\left(t \\right)},p{\\left(t \\right)} \\right)}=0\\\\\n",
      "s^{2} e^{2}:&- k_{1}^{2} \\frac{d}{d c{\\left(t \\right)}} \\xi{\\left(t,s{\\left(t \\right)},c{\\left(t \\right)},e{\\left(t \\right)},p{\\left(t \\right)} \\right)} + k_{1}^{2} \\frac{d}{d e{\\left(t \\right)}} \\xi{\\left(t,s{\\left(t \\right)},c{\\left(t \\right)},e{\\left(t \\right)},p{\\left(t \\right)} \\right)} + k_{1}^{2} \\frac{d}{d s{\\left(t \\right)}} \\xi{\\left(t,s{\\left(t \\right)},c{\\left(t \\right)},e{\\left(t \\right)},p{\\left(t \\right)} \\right)}=0\\\\\n",
      "\\end{align*}\n"
     ]
    }
   ],
   "source": [
    "# Create an expression for the linearised symmetry condition\n",
    "lin_sym_2 = Derivative(eta_2_f).doit() - omega_2*Derivative(xi_f).doit() - eta_1_f*Derivative(omega_2,x).doit() - eta_2_f*Derivative(omega_2,y).doit() - eta_3_f*Derivative(omega_2,z).doit()- eta_4_f*Derivative(omega_2,w).doit()\n",
    "lin_sym_2 = lin_sym_2.subs(Derivative(s(t), t),omega_1)\n",
    "lin_sym_2 = lin_sym_2.subs(Derivative(c(t), t),omega_2)\n",
    "lin_sym_2 = expand(lin_sym_2.subs(Derivative(e(t), t),omega_3))\n",
    "lin_sym_2 = expand(lin_sym_2.subs(Derivative(p(t), t),omega_4))\n",
    "# Print the linearised symmetry condition\n",
    "lin_sym_temp = lin_sym_2.subs(x,s(t))\n",
    "lin_sym_temp = lin_sym_temp.subs(y,c(t))\n",
    "lin_sym_temp = lin_sym_temp.subs(z,e(t))\n",
    "lin_sym_temp = lin_sym_temp.subs(w,p(t))\n",
    "print(\"Linearised symmetry condition 2\")\n",
    "print(\"$$\" + latex(lin_sym_temp) + \"=0$$\")\n",
    "# Extract the determining equations\n",
    "initial_det_eq = [(monomial,lin_sym_2.coeff(monomial)) for monomial in M if lin_sym_2.coeff(monomial)!= 0]\n",
    "# The constant term is bound to be wrong so let's fix it\n",
    "coeff_0 = lin_sym_2.subs(x,0)\n",
    "coeff_0 = coeff_0.subs(y,0)\n",
    "coeff_0 = coeff_0.subs(z,0)\n",
    "coeff_0 = coeff_0.subs(w,0)\n",
    "initial_det_eq[0] = (1,coeff_0) \n",
    "# Save det_eq\n",
    "det_eq = []\n",
    "# Loop over all determining equations and remove all elements with x and y\n",
    "for index in range(len(initial_det_eq)):\n",
    "    coeff = initial_det_eq[index][1]\n",
    "    coeff = coeff.subs(x,0)\n",
    "    coeff = coeff.subs(y,0)\n",
    "    coeff = coeff.subs(z,0)\n",
    "    coeff = coeff.subs(w,0)\n",
    "    if coeff != 0:\n",
    "        det_eq.append((initial_det_eq[index][0],coeff))\n",
    "# Print these coefficients nicely in latex\n",
    "print(\"Printing the determining equations:\")\n",
    "print(\"\\n\\\\begin{align*}\")\n",
    "for det_eq_index in range(len(det_eq)):\n",
    "    monomial_string = latex(det_eq[det_eq_index][0])\n",
    "    monomial_string = monomial_string.replace(\"x\",\"s\")\n",
    "    monomial_string = monomial_string.replace(\"y\",\"c\")\n",
    "    monomial_string = monomial_string.replace(\"z\",\"e\")\n",
    "    monomial_string = monomial_string.replace(\"w\",\"p\")\n",
    "    # Print the equation    \n",
    "    print(monomial_string + \":&\" + latex(det_eq[det_eq_index][1]) + \"=0\\\\\\\\\")\n",
    "print(\"\\\\end{align*}\")"
   ]
  },
  {
   "cell_type": "markdown",
   "id": "01026112",
   "metadata": {},
   "source": [
    "# Linearised symmetry condition 3"
   ]
  },
  {
   "cell_type": "code",
   "execution_count": 9,
   "id": "551304be",
   "metadata": {},
   "outputs": [
    {
     "name": "stdout",
     "output_type": "stream",
     "text": [
      "Linearised symmetry condition 3\n",
      "$$k_{1}^{2} e^{2}{\\left(t \\right)} s^{2}{\\left(t \\right)} \\frac{d}{d c{\\left(t \\right)}} \\xi{\\left(t,s{\\left(t \\right)},c{\\left(t \\right)},e{\\left(t \\right)},p{\\left(t \\right)} \\right)} - k_{1}^{2} e^{2}{\\left(t \\right)} s^{2}{\\left(t \\right)} \\frac{d}{d e{\\left(t \\right)}} \\xi{\\left(t,s{\\left(t \\right)},c{\\left(t \\right)},e{\\left(t \\right)},p{\\left(t \\right)} \\right)} - k_{1}^{2} e^{2}{\\left(t \\right)} s^{2}{\\left(t \\right)} \\frac{d}{d s{\\left(t \\right)}} \\xi{\\left(t,s{\\left(t \\right)},c{\\left(t \\right)},e{\\left(t \\right)},p{\\left(t \\right)} \\right)} - 2 k_{1} k_{2} c{\\left(t \\right)} e{\\left(t \\right)} s{\\left(t \\right)} \\frac{d}{d c{\\left(t \\right)}} \\xi{\\left(t,s{\\left(t \\right)},c{\\left(t \\right)},e{\\left(t \\right)},p{\\left(t \\right)} \\right)} + 2 k_{1} k_{2} c{\\left(t \\right)} e{\\left(t \\right)} s{\\left(t \\right)} \\frac{d}{d e{\\left(t \\right)}} \\xi{\\left(t,s{\\left(t \\right)},c{\\left(t \\right)},e{\\left(t \\right)},p{\\left(t \\right)} \\right)} + k_{1} k_{2} c{\\left(t \\right)} e{\\left(t \\right)} s{\\left(t \\right)} \\frac{d}{d p{\\left(t \\right)}} \\xi{\\left(t,s{\\left(t \\right)},c{\\left(t \\right)},e{\\left(t \\right)},p{\\left(t \\right)} \\right)} + k_{1} k_{2} c{\\left(t \\right)} e{\\left(t \\right)} s{\\left(t \\right)} \\frac{d}{d s{\\left(t \\right)}} \\xi{\\left(t,s{\\left(t \\right)},c{\\left(t \\right)},e{\\left(t \\right)},p{\\left(t \\right)} \\right)} - 2 k_{1} k_{1} c{\\left(t \\right)} e{\\left(t \\right)} s{\\left(t \\right)} \\frac{d}{d c{\\left(t \\right)}} \\xi{\\left(t,s{\\left(t \\right)},c{\\left(t \\right)},e{\\left(t \\right)},p{\\left(t \\right)} \\right)} + 2 k_{1} k_{1} c{\\left(t \\right)} e{\\left(t \\right)} s{\\left(t \\right)} \\frac{d}{d e{\\left(t \\right)}} \\xi{\\left(t,s{\\left(t \\right)},c{\\left(t \\right)},e{\\left(t \\right)},p{\\left(t \\right)} \\right)} + 2 k_{1} k_{1} c{\\left(t \\right)} e{\\left(t \\right)} s{\\left(t \\right)} \\frac{d}{d s{\\left(t \\right)}} \\xi{\\left(t,s{\\left(t \\right)},c{\\left(t \\right)},e{\\left(t \\right)},p{\\left(t \\right)} \\right)} + k_{1} e{\\left(t \\right)} \\eta_{1}{\\left(t,s{\\left(t \\right)},c{\\left(t \\right)},e{\\left(t \\right)},p{\\left(t \\right)} \\right)} + k_{1} e{\\left(t \\right)} s{\\left(t \\right)} \\frac{d}{d c{\\left(t \\right)}} \\eta_{3}{\\left(t,s{\\left(t \\right)},c{\\left(t \\right)},e{\\left(t \\right)},p{\\left(t \\right)} \\right)} - k_{1} e{\\left(t \\right)} s{\\left(t \\right)} \\frac{d}{d e{\\left(t \\right)}} \\eta_{3}{\\left(t,s{\\left(t \\right)},c{\\left(t \\right)},e{\\left(t \\right)},p{\\left(t \\right)} \\right)} - k_{1} e{\\left(t \\right)} s{\\left(t \\right)} \\frac{d}{d s{\\left(t \\right)}} \\eta_{3}{\\left(t,s{\\left(t \\right)},c{\\left(t \\right)},e{\\left(t \\right)},p{\\left(t \\right)} \\right)} + k_{1} e{\\left(t \\right)} s{\\left(t \\right)} \\left. \\frac{\\partial}{\\partial \\xi_{1}} \\xi{\\left(\\xi_{1},s{\\left(t \\right)},c{\\left(t \\right)},e{\\left(t \\right)},p{\\left(t \\right)} \\right)} \\right|_{\\substack{ \\xi_{1}=t }} + k_{1} \\eta_{3}{\\left(t,s{\\left(t \\right)},c{\\left(t \\right)},e{\\left(t \\right)},p{\\left(t \\right)} \\right)} s{\\left(t \\right)} + k_{2}^{2} c^{2}{\\left(t \\right)} \\frac{d}{d c{\\left(t \\right)}} \\xi{\\left(t,s{\\left(t \\right)},c{\\left(t \\right)},e{\\left(t \\right)},p{\\left(t \\right)} \\right)} - k_{2}^{2} c^{2}{\\left(t \\right)} \\frac{d}{d e{\\left(t \\right)}} \\xi{\\left(t,s{\\left(t \\right)},c{\\left(t \\right)},e{\\left(t \\right)},p{\\left(t \\right)} \\right)} - k_{2}^{2} c^{2}{\\left(t \\right)} \\frac{d}{d p{\\left(t \\right)}} \\xi{\\left(t,s{\\left(t \\right)},c{\\left(t \\right)},e{\\left(t \\right)},p{\\left(t \\right)} \\right)} + 2 k_{2} k_{1} c^{2}{\\left(t \\right)} \\frac{d}{d c{\\left(t \\right)}} \\xi{\\left(t,s{\\left(t \\right)},c{\\left(t \\right)},e{\\left(t \\right)},p{\\left(t \\right)} \\right)} - 2 k_{2} k_{1} c^{2}{\\left(t \\right)} \\frac{d}{d e{\\left(t \\right)}} \\xi{\\left(t,s{\\left(t \\right)},c{\\left(t \\right)},e{\\left(t \\right)},p{\\left(t \\right)} \\right)} - k_{2} k_{1} c^{2}{\\left(t \\right)} \\frac{d}{d p{\\left(t \\right)}} \\xi{\\left(t,s{\\left(t \\right)},c{\\left(t \\right)},e{\\left(t \\right)},p{\\left(t \\right)} \\right)} - k_{2} k_{1} c^{2}{\\left(t \\right)} \\frac{d}{d s{\\left(t \\right)}} \\xi{\\left(t,s{\\left(t \\right)},c{\\left(t \\right)},e{\\left(t \\right)},p{\\left(t \\right)} \\right)} - k_{2} c{\\left(t \\right)} \\frac{d}{d c{\\left(t \\right)}} \\eta_{3}{\\left(t,s{\\left(t \\right)},c{\\left(t \\right)},e{\\left(t \\right)},p{\\left(t \\right)} \\right)} + k_{2} c{\\left(t \\right)} \\frac{d}{d e{\\left(t \\right)}} \\eta_{3}{\\left(t,s{\\left(t \\right)},c{\\left(t \\right)},e{\\left(t \\right)},p{\\left(t \\right)} \\right)} + k_{2} c{\\left(t \\right)} \\frac{d}{d p{\\left(t \\right)}} \\eta_{3}{\\left(t,s{\\left(t \\right)},c{\\left(t \\right)},e{\\left(t \\right)},p{\\left(t \\right)} \\right)} - k_{2} c{\\left(t \\right)} \\left. \\frac{\\partial}{\\partial \\xi_{1}} \\xi{\\left(\\xi_{1},s{\\left(t \\right)},c{\\left(t \\right)},e{\\left(t \\right)},p{\\left(t \\right)} \\right)} \\right|_{\\substack{ \\xi_{1}=t }} - k_{2} \\eta_{2}{\\left(t,s{\\left(t \\right)},c{\\left(t \\right)},e{\\left(t \\right)},p{\\left(t \\right)} \\right)} + k_{1}^{2} c^{2}{\\left(t \\right)} \\frac{d}{d c{\\left(t \\right)}} \\xi{\\left(t,s{\\left(t \\right)},c{\\left(t \\right)},e{\\left(t \\right)},p{\\left(t \\right)} \\right)} - k_{1}^{2} c^{2}{\\left(t \\right)} \\frac{d}{d e{\\left(t \\right)}} \\xi{\\left(t,s{\\left(t \\right)},c{\\left(t \\right)},e{\\left(t \\right)},p{\\left(t \\right)} \\right)} - k_{1}^{2} c^{2}{\\left(t \\right)} \\frac{d}{d s{\\left(t \\right)}} \\xi{\\left(t,s{\\left(t \\right)},c{\\left(t \\right)},e{\\left(t \\right)},p{\\left(t \\right)} \\right)} - k_{1} c{\\left(t \\right)} \\frac{d}{d c{\\left(t \\right)}} \\eta_{3}{\\left(t,s{\\left(t \\right)},c{\\left(t \\right)},e{\\left(t \\right)},p{\\left(t \\right)} \\right)} + k_{1} c{\\left(t \\right)} \\frac{d}{d e{\\left(t \\right)}} \\eta_{3}{\\left(t,s{\\left(t \\right)},c{\\left(t \\right)},e{\\left(t \\right)},p{\\left(t \\right)} \\right)} + k_{1} c{\\left(t \\right)} \\frac{d}{d s{\\left(t \\right)}} \\eta_{3}{\\left(t,s{\\left(t \\right)},c{\\left(t \\right)},e{\\left(t \\right)},p{\\left(t \\right)} \\right)} - k_{1} c{\\left(t \\right)} \\left. \\frac{\\partial}{\\partial \\xi_{1}} \\xi{\\left(\\xi_{1},s{\\left(t \\right)},c{\\left(t \\right)},e{\\left(t \\right)},p{\\left(t \\right)} \\right)} \\right|_{\\substack{ \\xi_{1}=t }} - k_{1} \\eta_{2}{\\left(t,s{\\left(t \\right)},c{\\left(t \\right)},e{\\left(t \\right)},p{\\left(t \\right)} \\right)} + \\left. \\frac{\\partial}{\\partial \\xi_{1}} \\eta_{3}{\\left(\\xi_{1},s{\\left(t \\right)},c{\\left(t \\right)},e{\\left(t \\right)},p{\\left(t \\right)} \\right)} \\right|_{\\substack{ \\xi_{1}=t }}=0$$\n",
      "Printing the determining equations:\n",
      "\n",
      "\\begin{align*}\n",
      "1:&- k_{2} \\eta_{2}{\\left(t,s{\\left(t \\right)},c{\\left(t \\right)},e{\\left(t \\right)},p{\\left(t \\right)} \\right)} - k_{1} \\eta_{2}{\\left(t,s{\\left(t \\right)},c{\\left(t \\right)},e{\\left(t \\right)},p{\\left(t \\right)} \\right)} + \\left. \\frac{\\partial}{\\partial \\xi_{1}} \\eta_{3}{\\left(\\xi_{1},s{\\left(t \\right)},c{\\left(t \\right)},e{\\left(t \\right)},p{\\left(t \\right)} \\right)} \\right|_{\\substack{ \\xi_{1}=t }}=0\\\\\n",
      "e:&k_{1} \\eta_{1}{\\left(t,s{\\left(t \\right)},c{\\left(t \\right)},e{\\left(t \\right)},p{\\left(t \\right)} \\right)}=0\\\\\n",
      "c:&- k_{2} \\frac{d}{d c{\\left(t \\right)}} \\eta_{3}{\\left(t,s{\\left(t \\right)},c{\\left(t \\right)},e{\\left(t \\right)},p{\\left(t \\right)} \\right)} + k_{2} \\frac{d}{d e{\\left(t \\right)}} \\eta_{3}{\\left(t,s{\\left(t \\right)},c{\\left(t \\right)},e{\\left(t \\right)},p{\\left(t \\right)} \\right)} + k_{2} \\frac{d}{d p{\\left(t \\right)}} \\eta_{3}{\\left(t,s{\\left(t \\right)},c{\\left(t \\right)},e{\\left(t \\right)},p{\\left(t \\right)} \\right)} - k_{2} \\left. \\frac{\\partial}{\\partial \\xi_{1}} \\xi{\\left(\\xi_{1},s{\\left(t \\right)},c{\\left(t \\right)},e{\\left(t \\right)},p{\\left(t \\right)} \\right)} \\right|_{\\substack{ \\xi_{1}=t }} - k_{1} \\frac{d}{d c{\\left(t \\right)}} \\eta_{3}{\\left(t,s{\\left(t \\right)},c{\\left(t \\right)},e{\\left(t \\right)},p{\\left(t \\right)} \\right)} + k_{1} \\frac{d}{d e{\\left(t \\right)}} \\eta_{3}{\\left(t,s{\\left(t \\right)},c{\\left(t \\right)},e{\\left(t \\right)},p{\\left(t \\right)} \\right)} + k_{1} \\frac{d}{d s{\\left(t \\right)}} \\eta_{3}{\\left(t,s{\\left(t \\right)},c{\\left(t \\right)},e{\\left(t \\right)},p{\\left(t \\right)} \\right)} - k_{1} \\left. \\frac{\\partial}{\\partial \\xi_{1}} \\xi{\\left(\\xi_{1},s{\\left(t \\right)},c{\\left(t \\right)},e{\\left(t \\right)},p{\\left(t \\right)} \\right)} \\right|_{\\substack{ \\xi_{1}=t }}=0\\\\\n",
      "c^{2}:&k_{2}^{2} \\frac{d}{d c{\\left(t \\right)}} \\xi{\\left(t,s{\\left(t \\right)},c{\\left(t \\right)},e{\\left(t \\right)},p{\\left(t \\right)} \\right)} - k_{2}^{2} \\frac{d}{d e{\\left(t \\right)}} \\xi{\\left(t,s{\\left(t \\right)},c{\\left(t \\right)},e{\\left(t \\right)},p{\\left(t \\right)} \\right)} - k_{2}^{2} \\frac{d}{d p{\\left(t \\right)}} \\xi{\\left(t,s{\\left(t \\right)},c{\\left(t \\right)},e{\\left(t \\right)},p{\\left(t \\right)} \\right)} + 2 k_{2} k_{1} \\frac{d}{d c{\\left(t \\right)}} \\xi{\\left(t,s{\\left(t \\right)},c{\\left(t \\right)},e{\\left(t \\right)},p{\\left(t \\right)} \\right)} - 2 k_{2} k_{1} \\frac{d}{d e{\\left(t \\right)}} \\xi{\\left(t,s{\\left(t \\right)},c{\\left(t \\right)},e{\\left(t \\right)},p{\\left(t \\right)} \\right)} - k_{2} k_{1} \\frac{d}{d p{\\left(t \\right)}} \\xi{\\left(t,s{\\left(t \\right)},c{\\left(t \\right)},e{\\left(t \\right)},p{\\left(t \\right)} \\right)} - k_{2} k_{1} \\frac{d}{d s{\\left(t \\right)}} \\xi{\\left(t,s{\\left(t \\right)},c{\\left(t \\right)},e{\\left(t \\right)},p{\\left(t \\right)} \\right)} + k_{1}^{2} \\frac{d}{d c{\\left(t \\right)}} \\xi{\\left(t,s{\\left(t \\right)},c{\\left(t \\right)},e{\\left(t \\right)},p{\\left(t \\right)} \\right)} - k_{1}^{2} \\frac{d}{d e{\\left(t \\right)}} \\xi{\\left(t,s{\\left(t \\right)},c{\\left(t \\right)},e{\\left(t \\right)},p{\\left(t \\right)} \\right)} - k_{1}^{2} \\frac{d}{d s{\\left(t \\right)}} \\xi{\\left(t,s{\\left(t \\right)},c{\\left(t \\right)},e{\\left(t \\right)},p{\\left(t \\right)} \\right)}=0\\\\\n",
      "s:&k_{1} \\eta_{3}{\\left(t,s{\\left(t \\right)},c{\\left(t \\right)},e{\\left(t \\right)},p{\\left(t \\right)} \\right)}=0\\\\\n",
      "s e:&k_{1} \\frac{d}{d c{\\left(t \\right)}} \\eta_{3}{\\left(t,s{\\left(t \\right)},c{\\left(t \\right)},e{\\left(t \\right)},p{\\left(t \\right)} \\right)} - k_{1} \\frac{d}{d e{\\left(t \\right)}} \\eta_{3}{\\left(t,s{\\left(t \\right)},c{\\left(t \\right)},e{\\left(t \\right)},p{\\left(t \\right)} \\right)} - k_{1} \\frac{d}{d s{\\left(t \\right)}} \\eta_{3}{\\left(t,s{\\left(t \\right)},c{\\left(t \\right)},e{\\left(t \\right)},p{\\left(t \\right)} \\right)} + k_{1} \\left. \\frac{\\partial}{\\partial \\xi_{1}} \\xi{\\left(\\xi_{1},s{\\left(t \\right)},c{\\left(t \\right)},e{\\left(t \\right)},p{\\left(t \\right)} \\right)} \\right|_{\\substack{ \\xi_{1}=t }}=0\\\\\n",
      "s c e:&- 2 k_{1} k_{2} \\frac{d}{d c{\\left(t \\right)}} \\xi{\\left(t,s{\\left(t \\right)},c{\\left(t \\right)},e{\\left(t \\right)},p{\\left(t \\right)} \\right)} + 2 k_{1} k_{2} \\frac{d}{d e{\\left(t \\right)}} \\xi{\\left(t,s{\\left(t \\right)},c{\\left(t \\right)},e{\\left(t \\right)},p{\\left(t \\right)} \\right)} + k_{1} k_{2} \\frac{d}{d p{\\left(t \\right)}} \\xi{\\left(t,s{\\left(t \\right)},c{\\left(t \\right)},e{\\left(t \\right)},p{\\left(t \\right)} \\right)} + k_{1} k_{2} \\frac{d}{d s{\\left(t \\right)}} \\xi{\\left(t,s{\\left(t \\right)},c{\\left(t \\right)},e{\\left(t \\right)},p{\\left(t \\right)} \\right)} - 2 k_{1} k_{1} \\frac{d}{d c{\\left(t \\right)}} \\xi{\\left(t,s{\\left(t \\right)},c{\\left(t \\right)},e{\\left(t \\right)},p{\\left(t \\right)} \\right)} + 2 k_{1} k_{1} \\frac{d}{d e{\\left(t \\right)}} \\xi{\\left(t,s{\\left(t \\right)},c{\\left(t \\right)},e{\\left(t \\right)},p{\\left(t \\right)} \\right)} + 2 k_{1} k_{1} \\frac{d}{d s{\\left(t \\right)}} \\xi{\\left(t,s{\\left(t \\right)},c{\\left(t \\right)},e{\\left(t \\right)},p{\\left(t \\right)} \\right)}=0\\\\\n",
      "s^{2} e^{2}:&k_{1}^{2} \\frac{d}{d c{\\left(t \\right)}} \\xi{\\left(t,s{\\left(t \\right)},c{\\left(t \\right)},e{\\left(t \\right)},p{\\left(t \\right)} \\right)} - k_{1}^{2} \\frac{d}{d e{\\left(t \\right)}} \\xi{\\left(t,s{\\left(t \\right)},c{\\left(t \\right)},e{\\left(t \\right)},p{\\left(t \\right)} \\right)} - k_{1}^{2} \\frac{d}{d s{\\left(t \\right)}} \\xi{\\left(t,s{\\left(t \\right)},c{\\left(t \\right)},e{\\left(t \\right)},p{\\left(t \\right)} \\right)}=0\\\\\n",
      "\\end{align*}\n"
     ]
    }
   ],
   "source": [
    "# Create an expression for the linearised symmetry condition\n",
    "lin_sym_3 = Derivative(eta_3_f).doit() - omega_3*Derivative(xi_f).doit() - eta_1_f*Derivative(omega_3,x).doit() - eta_2_f*Derivative(omega_3,y).doit() - eta_3_f*Derivative(omega_3,z).doit()- eta_4_f*Derivative(omega_3,w).doit()\n",
    "lin_sym_3 = lin_sym_3.subs(Derivative(s(t), t),omega_1)\n",
    "lin_sym_3 = lin_sym_3.subs(Derivative(c(t), t),omega_2)\n",
    "lin_sym_3 = expand(lin_sym_3.subs(Derivative(e(t), t),omega_3))\n",
    "lin_sym_3 = expand(lin_sym_3.subs(Derivative(p(t), t),omega_4))\n",
    "# Print the linearised symmetry condition\n",
    "lin_sym_temp = lin_sym_3.subs(x,s(t))\n",
    "lin_sym_temp = lin_sym_temp.subs(y,c(t))\n",
    "lin_sym_temp = lin_sym_temp.subs(z,e(t))\n",
    "lin_sym_temp = lin_sym_temp.subs(w,p(t))\n",
    "print(\"Linearised symmetry condition 3\")\n",
    "print(\"$$\" + latex(lin_sym_temp) + \"=0$$\")\n",
    "# Extract the determining equations\n",
    "initial_det_eq = [(monomial,lin_sym_3.coeff(monomial)) for monomial in M if lin_sym_3.coeff(monomial)!= 0]\n",
    "# The constant term is bound to be wrong so let's fix it\n",
    "coeff_0 = lin_sym_3.subs(x,0)\n",
    "coeff_0 = coeff_0.subs(y,0)\n",
    "coeff_0 = coeff_0.subs(z,0)\n",
    "coeff_0 = coeff_0.subs(w,0)\n",
    "initial_det_eq[0] = (1,coeff_0) \n",
    "# Save det_eq\n",
    "det_eq = []\n",
    "# Loop over all determining equations and remove all elements with x and y\n",
    "for index in range(len(initial_det_eq)):\n",
    "    coeff = initial_det_eq[index][1]\n",
    "    coeff = coeff.subs(x,0)\n",
    "    coeff = coeff.subs(y,0)\n",
    "    coeff = coeff.subs(z,0)\n",
    "    coeff = coeff.subs(w,0)\n",
    "    if coeff != 0:\n",
    "        det_eq.append((initial_det_eq[index][0],coeff))\n",
    "# Print these coefficients nicely in latex\n",
    "print(\"Printing the determining equations:\")\n",
    "print(\"\\n\\\\begin{align*}\")\n",
    "for det_eq_index in range(len(det_eq)):\n",
    "    monomial_string = latex(det_eq[det_eq_index][0])\n",
    "    monomial_string = monomial_string.replace(\"x\",\"s\")\n",
    "    monomial_string = monomial_string.replace(\"y\",\"c\")\n",
    "    monomial_string = monomial_string.replace(\"z\",\"e\")\n",
    "    monomial_string = monomial_string.replace(\"w\",\"p\")\n",
    "    # Print the equation    \n",
    "    print(monomial_string + \":&\" + latex(det_eq[det_eq_index][1]) + \"=0\\\\\\\\\")\n",
    "print(\"\\\\end{align*}\")"
   ]
  },
  {
   "cell_type": "markdown",
   "id": "ddd07a25",
   "metadata": {},
   "source": [
    "# Linearised symmetry condition 4"
   ]
  },
  {
   "cell_type": "code",
   "execution_count": 10,
   "id": "37311e63",
   "metadata": {},
   "outputs": [
    {
     "name": "stdout",
     "output_type": "stream",
     "text": [
      "Linearised symmetry condition 4\n",
      "$$- k_{1} k_{2} c{\\left(t \\right)} e{\\left(t \\right)} s{\\left(t \\right)} \\frac{d}{d c{\\left(t \\right)}} \\xi{\\left(t,s{\\left(t \\right)},c{\\left(t \\right)},e{\\left(t \\right)},p{\\left(t \\right)} \\right)} + k_{1} k_{2} c{\\left(t \\right)} e{\\left(t \\right)} s{\\left(t \\right)} \\frac{d}{d e{\\left(t \\right)}} \\xi{\\left(t,s{\\left(t \\right)},c{\\left(t \\right)},e{\\left(t \\right)},p{\\left(t \\right)} \\right)} + k_{1} k_{2} c{\\left(t \\right)} e{\\left(t \\right)} s{\\left(t \\right)} \\frac{d}{d s{\\left(t \\right)}} \\xi{\\left(t,s{\\left(t \\right)},c{\\left(t \\right)},e{\\left(t \\right)},p{\\left(t \\right)} \\right)} + k_{1} e{\\left(t \\right)} s{\\left(t \\right)} \\frac{d}{d c{\\left(t \\right)}} \\eta_{4}{\\left(t,s{\\left(t \\right)},c{\\left(t \\right)},e{\\left(t \\right)},p{\\left(t \\right)} \\right)} - k_{1} e{\\left(t \\right)} s{\\left(t \\right)} \\frac{d}{d e{\\left(t \\right)}} \\eta_{4}{\\left(t,s{\\left(t \\right)},c{\\left(t \\right)},e{\\left(t \\right)},p{\\left(t \\right)} \\right)} - k_{1} e{\\left(t \\right)} s{\\left(t \\right)} \\frac{d}{d s{\\left(t \\right)}} \\eta_{4}{\\left(t,s{\\left(t \\right)},c{\\left(t \\right)},e{\\left(t \\right)},p{\\left(t \\right)} \\right)} + k_{2}^{2} c^{2}{\\left(t \\right)} \\frac{d}{d c{\\left(t \\right)}} \\xi{\\left(t,s{\\left(t \\right)},c{\\left(t \\right)},e{\\left(t \\right)},p{\\left(t \\right)} \\right)} - k_{2}^{2} c^{2}{\\left(t \\right)} \\frac{d}{d e{\\left(t \\right)}} \\xi{\\left(t,s{\\left(t \\right)},c{\\left(t \\right)},e{\\left(t \\right)},p{\\left(t \\right)} \\right)} - k_{2}^{2} c^{2}{\\left(t \\right)} \\frac{d}{d p{\\left(t \\right)}} \\xi{\\left(t,s{\\left(t \\right)},c{\\left(t \\right)},e{\\left(t \\right)},p{\\left(t \\right)} \\right)} + k_{2} k_{1} c^{2}{\\left(t \\right)} \\frac{d}{d c{\\left(t \\right)}} \\xi{\\left(t,s{\\left(t \\right)},c{\\left(t \\right)},e{\\left(t \\right)},p{\\left(t \\right)} \\right)} - k_{2} k_{1} c^{2}{\\left(t \\right)} \\frac{d}{d e{\\left(t \\right)}} \\xi{\\left(t,s{\\left(t \\right)},c{\\left(t \\right)},e{\\left(t \\right)},p{\\left(t \\right)} \\right)} - k_{2} k_{1} c^{2}{\\left(t \\right)} \\frac{d}{d s{\\left(t \\right)}} \\xi{\\left(t,s{\\left(t \\right)},c{\\left(t \\right)},e{\\left(t \\right)},p{\\left(t \\right)} \\right)} - k_{2} c{\\left(t \\right)} \\frac{d}{d c{\\left(t \\right)}} \\eta_{4}{\\left(t,s{\\left(t \\right)},c{\\left(t \\right)},e{\\left(t \\right)},p{\\left(t \\right)} \\right)} + k_{2} c{\\left(t \\right)} \\frac{d}{d e{\\left(t \\right)}} \\eta_{4}{\\left(t,s{\\left(t \\right)},c{\\left(t \\right)},e{\\left(t \\right)},p{\\left(t \\right)} \\right)} + k_{2} c{\\left(t \\right)} \\frac{d}{d p{\\left(t \\right)}} \\eta_{4}{\\left(t,s{\\left(t \\right)},c{\\left(t \\right)},e{\\left(t \\right)},p{\\left(t \\right)} \\right)} - k_{2} c{\\left(t \\right)} \\left. \\frac{\\partial}{\\partial \\xi_{1}} \\xi{\\left(\\xi_{1},s{\\left(t \\right)},c{\\left(t \\right)},e{\\left(t \\right)},p{\\left(t \\right)} \\right)} \\right|_{\\substack{ \\xi_{1}=t }} - k_{2} \\eta_{2}{\\left(t,s{\\left(t \\right)},c{\\left(t \\right)},e{\\left(t \\right)},p{\\left(t \\right)} \\right)} - k_{1} c{\\left(t \\right)} \\frac{d}{d c{\\left(t \\right)}} \\eta_{4}{\\left(t,s{\\left(t \\right)},c{\\left(t \\right)},e{\\left(t \\right)},p{\\left(t \\right)} \\right)} + k_{1} c{\\left(t \\right)} \\frac{d}{d e{\\left(t \\right)}} \\eta_{4}{\\left(t,s{\\left(t \\right)},c{\\left(t \\right)},e{\\left(t \\right)},p{\\left(t \\right)} \\right)} + k_{1} c{\\left(t \\right)} \\frac{d}{d s{\\left(t \\right)}} \\eta_{4}{\\left(t,s{\\left(t \\right)},c{\\left(t \\right)},e{\\left(t \\right)},p{\\left(t \\right)} \\right)} + \\left. \\frac{\\partial}{\\partial \\xi_{1}} \\eta_{4}{\\left(\\xi_{1},s{\\left(t \\right)},c{\\left(t \\right)},e{\\left(t \\right)},p{\\left(t \\right)} \\right)} \\right|_{\\substack{ \\xi_{1}=t }}=0$$\n",
      "Printing the determining equations:\n",
      "\n",
      "\\begin{align*}\n",
      "1:&- k_{2} \\eta_{2}{\\left(t,s{\\left(t \\right)},c{\\left(t \\right)},e{\\left(t \\right)},p{\\left(t \\right)} \\right)} + \\left. \\frac{\\partial}{\\partial \\xi_{1}} \\eta_{4}{\\left(\\xi_{1},s{\\left(t \\right)},c{\\left(t \\right)},e{\\left(t \\right)},p{\\left(t \\right)} \\right)} \\right|_{\\substack{ \\xi_{1}=t }}=0\\\\\n",
      "c:&- k_{2} \\frac{d}{d c{\\left(t \\right)}} \\eta_{4}{\\left(t,s{\\left(t \\right)},c{\\left(t \\right)},e{\\left(t \\right)},p{\\left(t \\right)} \\right)} + k_{2} \\frac{d}{d e{\\left(t \\right)}} \\eta_{4}{\\left(t,s{\\left(t \\right)},c{\\left(t \\right)},e{\\left(t \\right)},p{\\left(t \\right)} \\right)} + k_{2} \\frac{d}{d p{\\left(t \\right)}} \\eta_{4}{\\left(t,s{\\left(t \\right)},c{\\left(t \\right)},e{\\left(t \\right)},p{\\left(t \\right)} \\right)} - k_{2} \\left. \\frac{\\partial}{\\partial \\xi_{1}} \\xi{\\left(\\xi_{1},s{\\left(t \\right)},c{\\left(t \\right)},e{\\left(t \\right)},p{\\left(t \\right)} \\right)} \\right|_{\\substack{ \\xi_{1}=t }} - k_{1} \\frac{d}{d c{\\left(t \\right)}} \\eta_{4}{\\left(t,s{\\left(t \\right)},c{\\left(t \\right)},e{\\left(t \\right)},p{\\left(t \\right)} \\right)} + k_{1} \\frac{d}{d e{\\left(t \\right)}} \\eta_{4}{\\left(t,s{\\left(t \\right)},c{\\left(t \\right)},e{\\left(t \\right)},p{\\left(t \\right)} \\right)} + k_{1} \\frac{d}{d s{\\left(t \\right)}} \\eta_{4}{\\left(t,s{\\left(t \\right)},c{\\left(t \\right)},e{\\left(t \\right)},p{\\left(t \\right)} \\right)}=0\\\\\n",
      "c^{2}:&k_{2}^{2} \\frac{d}{d c{\\left(t \\right)}} \\xi{\\left(t,s{\\left(t \\right)},c{\\left(t \\right)},e{\\left(t \\right)},p{\\left(t \\right)} \\right)} - k_{2}^{2} \\frac{d}{d e{\\left(t \\right)}} \\xi{\\left(t,s{\\left(t \\right)},c{\\left(t \\right)},e{\\left(t \\right)},p{\\left(t \\right)} \\right)} - k_{2}^{2} \\frac{d}{d p{\\left(t \\right)}} \\xi{\\left(t,s{\\left(t \\right)},c{\\left(t \\right)},e{\\left(t \\right)},p{\\left(t \\right)} \\right)} + k_{2} k_{1} \\frac{d}{d c{\\left(t \\right)}} \\xi{\\left(t,s{\\left(t \\right)},c{\\left(t \\right)},e{\\left(t \\right)},p{\\left(t \\right)} \\right)} - k_{2} k_{1} \\frac{d}{d e{\\left(t \\right)}} \\xi{\\left(t,s{\\left(t \\right)},c{\\left(t \\right)},e{\\left(t \\right)},p{\\left(t \\right)} \\right)} - k_{2} k_{1} \\frac{d}{d s{\\left(t \\right)}} \\xi{\\left(t,s{\\left(t \\right)},c{\\left(t \\right)},e{\\left(t \\right)},p{\\left(t \\right)} \\right)}=0\\\\\n",
      "s e:&k_{1} \\frac{d}{d c{\\left(t \\right)}} \\eta_{4}{\\left(t,s{\\left(t \\right)},c{\\left(t \\right)},e{\\left(t \\right)},p{\\left(t \\right)} \\right)} - k_{1} \\frac{d}{d e{\\left(t \\right)}} \\eta_{4}{\\left(t,s{\\left(t \\right)},c{\\left(t \\right)},e{\\left(t \\right)},p{\\left(t \\right)} \\right)} - k_{1} \\frac{d}{d s{\\left(t \\right)}} \\eta_{4}{\\left(t,s{\\left(t \\right)},c{\\left(t \\right)},e{\\left(t \\right)},p{\\left(t \\right)} \\right)}=0\\\\\n",
      "s c e:&- k_{1} k_{2} \\frac{d}{d c{\\left(t \\right)}} \\xi{\\left(t,s{\\left(t \\right)},c{\\left(t \\right)},e{\\left(t \\right)},p{\\left(t \\right)} \\right)} + k_{1} k_{2} \\frac{d}{d e{\\left(t \\right)}} \\xi{\\left(t,s{\\left(t \\right)},c{\\left(t \\right)},e{\\left(t \\right)},p{\\left(t \\right)} \\right)} + k_{1} k_{2} \\frac{d}{d s{\\left(t \\right)}} \\xi{\\left(t,s{\\left(t \\right)},c{\\left(t \\right)},e{\\left(t \\right)},p{\\left(t \\right)} \\right)}=0\\\\\n",
      "\\end{align*}\n"
     ]
    }
   ],
   "source": [
    "# Create an expression for the linearised symmetry condition\n",
    "lin_sym_4 = Derivative(eta_4_f).doit() - omega_4*Derivative(xi_f).doit() - eta_1_f*Derivative(omega_4,x).doit() - eta_2_f*Derivative(omega_4,y).doit() - eta_3_f*Derivative(omega_4,z).doit()- eta_4_f*Derivative(omega_4,w).doit()\n",
    "lin_sym_4 = lin_sym_4.subs(Derivative(s(t), t),omega_1)\n",
    "lin_sym_4 = lin_sym_4.subs(Derivative(c(t), t),omega_2)\n",
    "lin_sym_4 = expand(lin_sym_4.subs(Derivative(e(t), t),omega_3))\n",
    "lin_sym_4 = expand(lin_sym_4.subs(Derivative(p(t), t),omega_4))\n",
    "# Print the linearised symmetry condition\n",
    "lin_sym_temp = lin_sym_4.subs(x,s(t))\n",
    "lin_sym_temp = lin_sym_temp.subs(y,c(t))\n",
    "lin_sym_temp = lin_sym_temp.subs(z,e(t))\n",
    "lin_sym_temp = lin_sym_temp.subs(w,p(t))\n",
    "print(\"Linearised symmetry condition 4\")\n",
    "print(\"$$\" + latex(lin_sym_temp) + \"=0$$\")\n",
    "# Extract the determining equations\n",
    "initial_det_eq = [(monomial,lin_sym_4.coeff(monomial)) for monomial in M if lin_sym_4.coeff(monomial)!= 0]\n",
    "# The constant term is bound to be wrong so let's fix it\n",
    "coeff_0 = lin_sym_4.subs(x,0)\n",
    "coeff_0 = coeff_0.subs(y,0)\n",
    "coeff_0 = coeff_0.subs(z,0)\n",
    "coeff_0 = coeff_0.subs(w,0)\n",
    "initial_det_eq[0] = (1,coeff_0) \n",
    "# Save det_eq\n",
    "det_eq = []\n",
    "# Loop over all determining equations and remove all elements with x and y\n",
    "for index in range(len(initial_det_eq)):\n",
    "    coeff = initial_det_eq[index][1]\n",
    "    coeff = coeff.subs(x,0)\n",
    "    coeff = coeff.subs(y,0)\n",
    "    coeff = coeff.subs(z,0)\n",
    "    coeff = coeff.subs(w,0)\n",
    "    if coeff != 0:\n",
    "        det_eq.append((initial_det_eq[index][0],coeff))\n",
    "# Print these coefficients nicely in latex\n",
    "print(\"Printing the determining equations:\")\n",
    "print(\"\\n\\\\begin{align*}\")\n",
    "for det_eq_index in range(len(det_eq)):\n",
    "    monomial_string = latex(det_eq[det_eq_index][0])\n",
    "    monomial_string = monomial_string.replace(\"x\",\"s\")\n",
    "    monomial_string = monomial_string.replace(\"y\",\"c\")\n",
    "    monomial_string = monomial_string.replace(\"z\",\"e\")\n",
    "    monomial_string = monomial_string.replace(\"w\",\"p\")\n",
    "    # Print the equation    \n",
    "    print(monomial_string + \":&\" + latex(det_eq[det_eq_index][1]) + \"=0\\\\\\\\\")\n",
    "print(\"\\\\end{align*}\")"
   ]
  },
  {
   "cell_type": "code",
   "execution_count": null,
   "id": "e818d701",
   "metadata": {},
   "outputs": [],
   "source": []
  }
 ],
 "metadata": {
  "kernelspec": {
   "display_name": "Python 3",
   "language": "python",
   "name": "python3"
  },
  "language_info": {
   "codemirror_mode": {
    "name": "ipython",
    "version": 3
   },
   "file_extension": ".py",
   "mimetype": "text/x-python",
   "name": "python",
   "nbconvert_exporter": "python",
   "pygments_lexer": "ipython3",
   "version": "3.8.8"
  }
 },
 "nbformat": 4,
 "nbformat_minor": 5
}
