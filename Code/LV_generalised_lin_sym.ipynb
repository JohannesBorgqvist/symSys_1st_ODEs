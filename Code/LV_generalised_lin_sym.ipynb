{
 "cells": [
  {
   "cell_type": "markdown",
   "id": "bf40e7ac",
   "metadata": {},
   "source": [
    "# Deriving the determining equations of the Lotka-Volterra model\n",
    "*Date*: 2022-04-13,<br>\n",
    "*Written by:* Johannes Borgqvist.<br>\n",
    "Ok, so consider the dimensionless *Lotka-Volterra* model:\n",
    "\\begin{align}\n",
    "    \\dfrac{\\mathrm{d}u}{\\mathrm{d}t}&=u(1-v),\\\\\n",
    "    \\dfrac{\\mathrm{d}v}{\\mathrm{d}t}&=\\alpha v(u-1).\\\\\n",
    "\\end{align}\n",
    "Now, we would like to see if we can derive the determining equations from this using sympy. <br>"
   ]
  },
  {
   "cell_type": "code",
   "execution_count": 1,
   "id": "cddf32d5",
   "metadata": {},
   "outputs": [],
   "source": [
    "# Import sympy\n",
    "from sympy import *\n",
    "# Translate a string to symbolic expression\n",
    "from sympy.parsing.sympy_parser import parse_expr"
   ]
  },
  {
   "cell_type": "markdown",
   "id": "d2a12ed0",
   "metadata": {},
   "source": [
    "# Setting up the reaction terms and so on"
   ]
  },
  {
   "cell_type": "code",
   "execution_count": 2,
   "id": "59adb405",
   "metadata": {},
   "outputs": [
    {
     "name": "stdout",
     "output_type": "stream",
     "text": [
      "{1, 2}\n"
     ]
    }
   ],
   "source": [
    "# Independent variable\n",
    "t = symbols('t')\n",
    "# Dependent variables\n",
    "u,v = symbols('u v',cls=Function)\n",
    "# Define our parameter a\n",
    "a = symbols('a')\n",
    "# Define the states\n",
    "states = [u(t), v(t)]\n",
    "# Define our reaction terms\n",
    "omega_list = [u(t)*(1-v(t)), a*v(t)*(u(t)-1)]\n",
    "\n",
    "print(set(range(1,len(states)+1)))"
   ]
  },
  {
   "cell_type": "markdown",
   "id": "f6d50f9b",
   "metadata": {},
   "source": [
    "# Try to implement linearised symmetry condition brute force style"
   ]
  },
  {
   "cell_type": "code",
   "execution_count": 3,
   "id": "4b47ccda",
   "metadata": {},
   "outputs": [
    {
     "name": "stdout",
     "output_type": "stream",
     "text": [
      "\t\t\tBefore:\n",
      "\n",
      "-(1 - v(t))*u(t)*Derivative(xi(t), t) + Derivative(eta_1(t, u(t), v(t)), u(t))*Derivative(u(t), t) + Derivative(eta_1(t, u(t), v(t)), v(t))*Derivative(v(t), t) + Subs(Derivative(eta_1(_xi_1, u(t), v(t)), _xi_1), _xi_1, t)\n",
      "\t\t\tAfter:\n",
      "\n",
      "a*(u(t) - 1)*v(t)*Derivative(eta_1(t, u(t), v(t)), v(t)) + (1 - v(t))*u(t)*Derivative(eta_1(t, u(t), v(t)), u(t)) - (1 - v(t))*u(t)*Derivative(xi(t), t) + Subs(Derivative(eta_1(_xi_1, u(t), v(t)), _xi_1), _xi_1, t)\n",
      "\t\t\tRHS:\n",
      "\n",
      "(1 - v(t))*eta_1(t, u(t), v(t)) - eta_2(t, u(t), v(t))*u(t)\n",
      "a \\left(u{\\left(t \\right)} - 1\\right) v{\\left(t \\right)} \\frac{d}{d v{\\left(t \\right)}} \\eta_{1}{\\left(t,u{\\left(t \\right)},v{\\left(t \\right)} \\right)} - \\left(1 - v{\\left(t \\right)}\\right) \\eta_{1}{\\left(t,u{\\left(t \\right)},v{\\left(t \\right)} \\right)} + \\left(1 - v{\\left(t \\right)}\\right) u{\\left(t \\right)} \\frac{d}{d u{\\left(t \\right)}} \\eta_{1}{\\left(t,u{\\left(t \\right)},v{\\left(t \\right)} \\right)} - \\left(1 - v{\\left(t \\right)}\\right) u{\\left(t \\right)} \\frac{d}{d t} \\xi{\\left(t \\right)} + \\eta_{2}{\\left(t,u{\\left(t \\right)},v{\\left(t \\right)} \\right)} u{\\left(t \\right)} + \\left. \\frac{\\partial}{\\partial \\xi_{1}} \\eta_{1}{\\left(\\xi_{1},u{\\left(t \\right)},v{\\left(t \\right)} \\right)} \\right|_{\\substack{ \\xi_{1}=t }}\n"
     ]
    }
   ],
   "source": [
    "# Allocate tangents\n",
    "xi,eta_1,eta_2 = symbols('xi eta_1 eta_2',cls=Function)\n",
    "# Help variable\n",
    "x = symbols('x')\n",
    "# Define the tangents\n",
    "xi_f = xi(t)\n",
    "eta_1_f = eta_1(t,u(t),v(t))\n",
    "eta_2_f = eta_2(t,u(t),v(t))\n",
    "# Linearised symmetry condition 1\n",
    "LHS = Derivative(eta_1_f,t).doit() - omega_list[0]*Derivative(xi_f,t).doit()\n",
    "print(\"\\t\\t\\tBefore:\\n\")\n",
    "print(LHS)\n",
    "# Replace time derivatives with reaction terms\n",
    "LHS = LHS.subs(Derivative(u(t), t),omega_list[0])\n",
    "LHS = LHS.subs(Derivative(v(t), t),omega_list[1])\n",
    "print(\"\\t\\t\\tAfter:\\n\")\n",
    "print(LHS)\n",
    "# The RHS\n",
    "RHS = 0 \n",
    "for index in range(1,len(states)+1):\n",
    "    exec(\"RHS += eta_%d_f*Derivative(omega_list[0].subs(states[index-1],x),x).subs(x,states[index-1]).doit()\"%(index))\n",
    "print(\"\\t\\t\\tRHS:\\n\")\n",
    "print(RHS)\n",
    "print(latex(LHS-RHS))\n"
   ]
  },
  {
   "cell_type": "markdown",
   "id": "41e926ea",
   "metadata": {},
   "source": [
    "# Function for setting up the linearised symmetry condition\n",
    "So now we will try to set up a general function for deriving the linearised symmetry conditions!"
   ]
  },
  {
   "cell_type": "code",
   "execution_count": 4,
   "id": "4548389d",
   "metadata": {},
   "outputs": [],
   "source": [
    "# Function \"lin_sym_conds_fibre_preserving\". This functions sets up the linearised symmetry conditions\n",
    "# given an independent variable t, the states and the reaction terms\n",
    "def lin_sym_conds_fibre_preserving(t,states,reaction_terms):\n",
    "    # Temporary variables for the dependent variables so that we can \n",
    "    # differentiate the reaction terms with respect to each state\n",
    "    x = symbols('x')    \n",
    "    # Add a temporary function which we differentiate all the time\n",
    "    f = symbols('f',cls=Function)\n",
    "    # Define a list of tangents\n",
    "    tangent_list = []\n",
    "    # Define the time tangent\n",
    "    xi = symbols('xi', cls=Function)\n",
    "    # Add it to the tangent list\n",
    "    tangent_list.append(xi(t))\n",
    "    # Loop over the states and add a tangent for each state, hey?\n",
    "    for state_index in range(1,len(states)+1):\n",
    "        # We start by allocating our new tangent as a symbolic function\n",
    "        #exec(\"eta_%d = symbols(\\'eta_%d\\',cls=Function) \"%(state_index,state_index)) \n",
    "        # Here, we essentially define a string which we then convert\n",
    "        # to a symbolic expression using \"parse_expr\"\n",
    "        temp_str = \"eta_\" + str(state_index) + \"(\" + str(t) + \",\" \n",
    "        for state in states:\n",
    "            temp_str += str(state) + \",\"\n",
    "        temp_str += \")\"\n",
    "        temp_str = temp_str.replace(\",)\",\")\")\n",
    "        # Assign this expression to our function f\n",
    "        #exec(\"eta_%d_f=%s\"%(state_index,temp_str))\n",
    "        # Add our new tangent\n",
    "        #exec(\"tangent_list.append(eta_%d_f)\"%(state_index))\n",
    "        tangent_list.append(parse_expr(temp_str))\n",
    "    # Ok, so at this point we have our tangent lists, now we can start assembling our linearised symmetry conditions\n",
    "    # Allocate memory for our linearised symmetry conditions\n",
    "    lin_sym_original = []\n",
    "    # Loop over the number of states and define the linearised symmetry condition\n",
    "    for state_index in range(1,len(states)+1):\n",
    "        # Define the LHS\n",
    "        LHS = Derivative(tangent_list[state_index],t).doit() - omega_list[state_index-1]*Derivative(tangent_list[0],t).doit()\n",
    "        # Allocate memory for the RHS\n",
    "        RHS = 0\n",
    "        # Add all partial derivatives of the current reaction term by looping over all states and times\n",
    "        for RHS_index in range(1,len(states)+1):\n",
    "            # Extract temporary tangent\n",
    "            tangent_temp = tangent_list[RHS_index]\n",
    "            # Partial derivative wrt to the time\n",
    "            RHS += (Derivative(omega_list[state_index-1].subs(states[RHS_index-1],x),x).subs(x,states[RHS_index-1]).doit()*tangent_temp)\n",
    "        # After this is done we loop over the states one more time and substitute all time derivatives of the\n",
    "        # states with the reaction terms\n",
    "        eq_temp = LHS - RHS\n",
    "        for state_index in range(len(omega_list)):\n",
    "            # Also, we substitute the reaction terms in the LHS\n",
    "            eq_temp = eq_temp.subs(Derivative(states[state_index],t),omega_list[state_index])\n",
    "        # Append the equation defined as LHS-RHS\n",
    "        lin_sym_original.append(eq_temp)\n",
    "    # Return the list with all the tangents\n",
    "    return tangent_list, lin_sym_original\n",
    "# Function, latex_printing_of_lin_sym\n",
    "# This function takes in the time t, the states, tangent_list and the linearised symmetry condition\n",
    "# and prints them in a nice fashion.\n",
    "def latex_printing_of_lin_sym(t,states,tangent_list,lin_sym_original):\n",
    "    # We essentially return a giant string which can be printed, so let's start constructing it\n",
    "    tangent_str = \"\\n\\nThe tangents are:\\n$$\" + latex(tangent_list) + \"$$\\n\"\n",
    "    output_str = \"\"\n",
    "    # Get the arguments as well\n",
    "    argument_str = latex(tangent_list[1]).replace(\"\\\\eta_{1}\",\"\")\n",
    "    # Loop through the linearised symmetry condition and add the equations\n",
    "    output_str += \"\\nThe linearised symmetry conditions are:\\n\\n\\\\begin{align*}\\n\"\n",
    "    for lin_sym in lin_sym_original:\n",
    "        output_str += latex(lin_sym) + \"&=0,\\\\\\\\\\n\"\n",
    "    output_str += \"\\\\end{align*}\\n\\n\"\n",
    "    # Now we replace the arguments as well to see if this helps\n",
    "    output_str = output_str.replace(argument_str,\"\")  \n",
    "    # Remove time dependence already\n",
    "    output_str = output_str.replace(\"{\\\\left(t \\\\right)}\",\"\")    \n",
    "    # Loop through the tangents and replace strings for partial derivatives\n",
    "    for tangent_index in range(len(tangent_list)):\n",
    "        if tangent_index == 0:\n",
    "            # Time derivative\n",
    "            time_str = \"\\\\left. \\\\frac{\\\\partial}{\\\\partial \\\\xi_{1}} \\\\xi{\\\\left(\\\\xi_{1},u,v \\\\right)} \\\\right|_{\\\\substack{ \\\\xi_{1}=t }}\"\n",
    "            output_str = output_str.replace(time_str,\"\\\\frac{d\\\\xi}{dt}\")\n",
    "            output_str = output_str.replace(\"\\\\frac{d}{d t} \\\\xi\",\"\\\\frac{d\\\\xi}{dt}\")\n",
    "        else:\n",
    "            # Time derivative\n",
    "            time_str = \"\\\\left. \\\\frac{\\\\partial}{\\\\partial \\\\xi_{1}} \\\\eta_{\" + str(tangent_index) + \"}{\\\\left(\\\\xi_{1},u,v \\\\right)} \\\\right|_{\\\\substack{ \\\\xi_{1}=t }}\"\n",
    "            output_str = output_str.replace(time_str,\"\\\\frac{\\\\partial\\\\eta_\"+ str(tangent_index)+\"}{\\\\partial t}\")            \n",
    "            state_str = \"\"\n",
    "            # Loop through the states and find the partial derivatives\n",
    "            for state_index in range(len(states)):\n",
    "                # Extract the string for the state at hand\n",
    "                state_str = latex(states[state_index])\n",
    "                state_str = state_str.replace(\"{\\\\left(t \\\\right)}\",\"\")\n",
    "                # Replace the partial derivative at hand\n",
    "                output_str = output_str.replace(\"\\\\frac{d}{d \" + state_str +\"} \\\\eta_{\"+ str(tangent_index) +\"}\",\"\\\\frac{\\\\partial\\\\eta_{\"+ str(tangent_index) +\"}}{\\\\partial \"+ state_str +\"}\")            \n",
    "    # Return the output string\n",
    "    return tangent_str,output_str"
   ]
  },
  {
   "cell_type": "markdown",
   "id": "56df9e32",
   "metadata": {},
   "source": [
    "# Test output from automated function"
   ]
  },
  {
   "cell_type": "code",
   "execution_count": 5,
   "id": "a805ff91",
   "metadata": {},
   "outputs": [
    {
     "name": "stdout",
     "output_type": "stream",
     "text": [
      "Printing the output\n",
      "\n",
      "\n",
      "The tangents are:\n",
      "$$\\left[ \\xi{\\left(t \\right)}, \\  \\eta_{1}{\\left(t,u{\\left(t \\right)},v{\\left(t \\right)} \\right)}, \\  \\eta_{2}{\\left(t,u{\\left(t \\right)},v{\\left(t \\right)} \\right)}\\right]$$\n",
      "\n",
      "\n",
      "The linearised symmetry conditions are:\n",
      "\n",
      "\\begin{align*}\n",
      "a \\left(u - 1\\right) v \\frac{\\partial\\eta_{1}}{\\partial v} - \\left(1 - v\\right) \\eta_{1} + \\left(1 - v\\right) u \\frac{\\partial\\eta_{1}}{\\partial u} - \\left(1 - v\\right) u \\frac{d\\xi}{dt} + \\eta_{2} u + \\frac{\\partial\\eta_1}{\\partial t}&=0,\\\\\n",
      "- a \\left(u - 1\\right) \\eta_{2} + a \\left(u - 1\\right) v \\frac{\\partial\\eta_{2}}{\\partial v} - a \\left(u - 1\\right) v \\frac{d\\xi}{dt} - a \\eta_{1} v + \\left(1 - v\\right) u \\frac{\\partial\\eta_{2}}{\\partial u} + \\frac{\\partial\\eta_2}{\\partial t}&=0,\\\\\n",
      "\\end{align*}\n",
      "\n",
      "\n"
     ]
    }
   ],
   "source": [
    "tangent_list,lin_sym_original = lin_sym_conds_fibre_preserving(t,states,omega_list)    \n",
    "tangent_str,output_str = latex_printing_of_lin_sym(t,states,tangent_list,lin_sym_original)\n",
    "print(\"Printing the output\")\n",
    "print(tangent_str)\n",
    "print(output_str)"
   ]
  },
  {
   "cell_type": "markdown",
   "id": "ee971a11",
   "metadata": {},
   "source": [
    "Printing the output\n",
    "\n",
    "\n",
    "The tangents are:\n",
    "$$\\left[ \\xi{\\left(t \\right)}, \\  \\eta_{1}{\\left(t,u{\\left(t \\right)},v{\\left(t \\right)} \\right)}, \\  \\eta_{2}{\\left(t,u{\\left(t \\right)},v{\\left(t \\right)} \\right)}\\right]$$\n",
    "\n",
    "\n",
    "The linearised symmetry conditions are:\n",
    "\n",
    "\\begin{align*}\n",
    "a \\left(u - 1\\right) v \\frac{\\partial\\eta_{1}}{\\partial v} - \\left(1 - v\\right) \\eta_{1} + \\left(1 - v\\right) u \\frac{\\partial\\eta_{1}}{\\partial u} - \\left(1 - v\\right) u \\frac{d\\xi}{dt} + \\eta_{2} u + \\frac{\\partial\\eta_1}{\\partial t}&=0,\\\\\n",
    "- a \\left(u - 1\\right) \\eta_{2} + a \\left(u - 1\\right) v \\frac{\\partial\\eta_{2}}{\\partial v} - a \\left(u - 1\\right) v \\frac{d\\xi}{dt} - a \\eta_{1} v + \\left(1 - v\\right) u \\frac{\\partial\\eta_{2}}{\\partial u} + \\frac{\\partial\\eta_2}{\\partial t}&=0.\\\\\n",
    "\\end{align*}\n",
    "\n",
    "Ok, so the next step is to try to formulate the *determining equations*. This is done in two steps:\n",
    "\n",
    "1. Solve the first equation above for $\\eta_2$ and then plug in this equation into the second equation.\n",
    "2. Organise the resulting second order PDE in terms of the derivative (as the derivatives are linearly independent).\n",
    "\n",
    "The resulting equations are referred to as the *determining equations*. Let's see if we can manipulate these, and derive the determining equations.\n",
    "\n"
   ]
  },
  {
   "cell_type": "code",
   "execution_count": 29,
   "id": "f21fa527",
   "metadata": {},
   "outputs": [
    {
     "name": "stdout",
     "output_type": "stream",
     "text": [
      "Equation for linearised symmetry equation\n",
      "\n",
      "a*(u(t) - 1)*v(t)*Derivative(eta_1(t, u(t), v(t)), v(t)) - (1 - v(t))*eta_1(t, u(t), v(t)) + (1 - v(t))*u(t)*Derivative(eta_1(t, u(t), v(t)), u(t)) - (1 - v(t))*u(t)*Derivative(xi(t), t) + eta_2(t, u(t), v(t))*u(t) + Subs(Derivative(eta_1(_xi_1, u(t), v(t)), _xi_1), _xi_1, t)\n",
      "\n",
      "\n",
      "Solve this equation for the second tangent\n",
      "\n",
      "[eta_2(t, u(t), v(t)), (-a*u(t)*v(t)*Derivative(eta_1(t, u(t), v(t)), v(t)) + a*v(t)*Derivative(eta_1(t, u(t), v(t)), v(t)) - eta_2(t, u(t), v(t))*u(t) + u(t)*v(t)*Derivative(eta_1(t, u(t), v(t)), u(t)) - u(t)*v(t)*Derivative(xi(t), t) - u(t)*Derivative(eta_1(t, u(t), v(t)), u(t)) + u(t)*Derivative(xi(t), t) - Subs(Derivative(eta_1(_xi_1, u(t), v(t)), _xi_1), _xi_1, t))/(v(t) - 1)]\n",
      "\n",
      "\n",
      "If we substitute this solution into the second equation and simplify this is what we get:\n",
      "\n",
      "$$\\frac{a^{2} u^{2}{\\left(t \\right)} v^{2}{\\left(t \\right)} \\frac{d}{d v{\\left(t \\right)}} \\eta_{1}{\\left(t,u{\\left(t \\right)},v{\\left(t \\right)} \\right)}}{v^{2}{\\left(t \\right)} - 2 v{\\left(t \\right)} + 1} - \\frac{2 a^{2} u{\\left(t \\right)} v^{2}{\\left(t \\right)} \\frac{d}{d v{\\left(t \\right)}} \\eta_{1}{\\left(t,u{\\left(t \\right)},v{\\left(t \\right)} \\right)}}{v^{2}{\\left(t \\right)} - 2 v{\\left(t \\right)} + 1} + \\frac{a^{2} v^{2}{\\left(t \\right)} \\frac{d}{d v{\\left(t \\right)}} \\eta_{1}{\\left(t,u{\\left(t \\right)},v{\\left(t \\right)} \\right)}}{v^{2}{\\left(t \\right)} - 2 v{\\left(t \\right)} + 1} - \\frac{a^{2} u^{2}{\\left(t \\right)} v^{2}{\\left(t \\right)} \\frac{d^{2}}{d v{\\left(t \\right)}^{2}} \\eta_{1}{\\left(t,u{\\left(t \\right)},v{\\left(t \\right)} \\right)}}{v{\\left(t \\right)} - 1} + \\frac{2 a^{2} u{\\left(t \\right)} v^{2}{\\left(t \\right)} \\frac{d^{2}}{d v{\\left(t \\right)}^{2}} \\eta_{1}{\\left(t,u{\\left(t \\right)},v{\\left(t \\right)} \\right)}}{v{\\left(t \\right)} - 1} - \\frac{a^{2} v^{2}{\\left(t \\right)} \\frac{d^{2}}{d v{\\left(t \\right)}^{2}} \\eta_{1}{\\left(t,u{\\left(t \\right)},v{\\left(t \\right)} \\right)}}{v{\\left(t \\right)} - 1} - a \\eta_{1}{\\left(t,u{\\left(t \\right)},v{\\left(t \\right)} \\right)} v{\\left(t \\right)} - a u{\\left(t \\right)} v{\\left(t \\right)} \\frac{d}{d t} \\xi{\\left(t \\right)} + a v{\\left(t \\right)} \\frac{d}{d t} \\xi{\\left(t \\right)} + \\frac{a \\eta_{2}{\\left(t,u{\\left(t \\right)},v{\\left(t \\right)} \\right)} u^{2}{\\left(t \\right)} v{\\left(t \\right)}}{v^{2}{\\left(t \\right)} - 2 v{\\left(t \\right)} + 1} - \\frac{a \\eta_{2}{\\left(t,u{\\left(t \\right)},v{\\left(t \\right)} \\right)} u{\\left(t \\right)} v{\\left(t \\right)}}{v^{2}{\\left(t \\right)} - 2 v{\\left(t \\right)} + 1} - \\frac{a u^{2}{\\left(t \\right)} v^{2}{\\left(t \\right)} \\frac{d}{d u{\\left(t \\right)}} \\eta_{1}{\\left(t,u{\\left(t \\right)},v{\\left(t \\right)} \\right)}}{v^{2}{\\left(t \\right)} - 2 v{\\left(t \\right)} + 1} + \\frac{a u^{2}{\\left(t \\right)} v^{2}{\\left(t \\right)} \\frac{d}{d t} \\xi{\\left(t \\right)}}{v^{2}{\\left(t \\right)} - 2 v{\\left(t \\right)} + 1} + \\frac{a u^{2}{\\left(t \\right)} v{\\left(t \\right)} \\frac{d}{d u{\\left(t \\right)}} \\eta_{1}{\\left(t,u{\\left(t \\right)},v{\\left(t \\right)} \\right)}}{v^{2}{\\left(t \\right)} - 2 v{\\left(t \\right)} + 1} - \\frac{a u^{2}{\\left(t \\right)} v{\\left(t \\right)} \\frac{d}{d t} \\xi{\\left(t \\right)}}{v^{2}{\\left(t \\right)} - 2 v{\\left(t \\right)} + 1} + \\frac{a u{\\left(t \\right)} v^{2}{\\left(t \\right)} \\frac{d}{d u{\\left(t \\right)}} \\eta_{1}{\\left(t,u{\\left(t \\right)},v{\\left(t \\right)} \\right)}}{v^{2}{\\left(t \\right)} - 2 v{\\left(t \\right)} + 1} - \\frac{a u{\\left(t \\right)} v^{2}{\\left(t \\right)} \\frac{d}{d t} \\xi{\\left(t \\right)}}{v^{2}{\\left(t \\right)} - 2 v{\\left(t \\right)} + 1} - \\frac{a u{\\left(t \\right)} v{\\left(t \\right)} \\frac{d}{d u{\\left(t \\right)}} \\eta_{1}{\\left(t,u{\\left(t \\right)},v{\\left(t \\right)} \\right)}}{v^{2}{\\left(t \\right)} - 2 v{\\left(t \\right)} + 1} + \\frac{a u{\\left(t \\right)} v{\\left(t \\right)} \\frac{d}{d t} \\xi{\\left(t \\right)}}{v^{2}{\\left(t \\right)} - 2 v{\\left(t \\right)} + 1} + \\frac{a u{\\left(t \\right)} v{\\left(t \\right)} \\left. \\frac{\\partial}{\\partial \\xi_{1}} \\eta_{1}{\\left(\\xi_{1},u{\\left(t \\right)},v{\\left(t \\right)} \\right)} \\right|_{\\substack{ \\xi_{1}=t }}}{v^{2}{\\left(t \\right)} - 2 v{\\left(t \\right)} + 1} - \\frac{a v{\\left(t \\right)} \\left. \\frac{\\partial}{\\partial \\xi_{1}} \\eta_{1}{\\left(\\xi_{1},u{\\left(t \\right)},v{\\left(t \\right)} \\right)} \\right|_{\\substack{ \\xi_{1}=t }}}{v^{2}{\\left(t \\right)} - 2 v{\\left(t \\right)} + 1} + \\frac{a \\eta_{2}{\\left(t,u{\\left(t \\right)},v{\\left(t \\right)} \\right)} u^{2}{\\left(t \\right)}}{v{\\left(t \\right)} - 1} - \\frac{a \\eta_{2}{\\left(t,u{\\left(t \\right)},v{\\left(t \\right)} \\right)} u{\\left(t \\right)}}{v{\\left(t \\right)} - 1} + \\frac{2 a u^{2}{\\left(t \\right)} v^{2}{\\left(t \\right)} \\frac{d^{2}}{d v{\\left(t \\right)}d u{\\left(t \\right)}} \\eta_{1}{\\left(t,u{\\left(t \\right)},v{\\left(t \\right)} \\right)}}{v{\\left(t \\right)} - 1} - \\frac{a u^{2}{\\left(t \\right)} v{\\left(t \\right)} \\frac{d}{d v{\\left(t \\right)}} \\eta_{2}{\\left(t,u{\\left(t \\right)},v{\\left(t \\right)} \\right)}}{v{\\left(t \\right)} - 1} - \\frac{2 a u^{2}{\\left(t \\right)} v{\\left(t \\right)} \\frac{d^{2}}{d v{\\left(t \\right)}d u{\\left(t \\right)}} \\eta_{1}{\\left(t,u{\\left(t \\right)},v{\\left(t \\right)} \\right)}}{v{\\left(t \\right)} - 1} + \\frac{a u^{2}{\\left(t \\right)} \\frac{d}{d u{\\left(t \\right)}} \\eta_{1}{\\left(t,u{\\left(t \\right)},v{\\left(t \\right)} \\right)}}{v{\\left(t \\right)} - 1} - \\frac{a u^{2}{\\left(t \\right)} \\frac{d}{d t} \\xi{\\left(t \\right)}}{v{\\left(t \\right)} - 1} + \\frac{a u{\\left(t \\right)} v^{2}{\\left(t \\right)} \\frac{d}{d v{\\left(t \\right)}} \\eta_{1}{\\left(t,u{\\left(t \\right)},v{\\left(t \\right)} \\right)}}{v{\\left(t \\right)} - 1} - \\frac{2 a u{\\left(t \\right)} v^{2}{\\left(t \\right)} \\frac{d^{2}}{d v{\\left(t \\right)}d u{\\left(t \\right)}} \\eta_{1}{\\left(t,u{\\left(t \\right)},v{\\left(t \\right)} \\right)}}{v{\\left(t \\right)} - 1} - \\frac{a u{\\left(t \\right)} v{\\left(t \\right)} \\frac{d}{d v{\\left(t \\right)}} \\eta_{1}{\\left(t,u{\\left(t \\right)},v{\\left(t \\right)} \\right)}}{v{\\left(t \\right)} - 1} + \\frac{a u{\\left(t \\right)} v{\\left(t \\right)} \\frac{d}{d v{\\left(t \\right)}} \\eta_{2}{\\left(t,u{\\left(t \\right)},v{\\left(t \\right)} \\right)}}{v{\\left(t \\right)} - 1} + \\frac{2 a u{\\left(t \\right)} v{\\left(t \\right)} \\frac{d^{2}}{d v{\\left(t \\right)}d u{\\left(t \\right)}} \\eta_{1}{\\left(t,u{\\left(t \\right)},v{\\left(t \\right)} \\right)}}{v{\\left(t \\right)} - 1} - \\frac{a u{\\left(t \\right)} v{\\left(t \\right)} \\left. \\frac{\\partial^{2}}{\\partial v{\\left(t \\right)}\\partial \\xi_{1}} \\eta_{1}{\\left(\\xi_{1},u{\\left(t \\right)},v{\\left(t \\right)} \\right)} \\right|_{\\substack{ \\xi_{1}=t }}}{v{\\left(t \\right)} - 1} - \\frac{a u{\\left(t \\right)} \\frac{d}{d u{\\left(t \\right)}} \\eta_{1}{\\left(t,u{\\left(t \\right)},v{\\left(t \\right)} \\right)}}{v{\\left(t \\right)} - 1} + \\frac{a u{\\left(t \\right)} \\frac{d}{d t} \\xi{\\left(t \\right)}}{v{\\left(t \\right)} - 1} + \\frac{a u{\\left(t \\right)} \\left. \\frac{\\partial}{\\partial \\xi_{1}} \\eta_{1}{\\left(\\xi_{1},u{\\left(t \\right)},v{\\left(t \\right)} \\right)} \\right|_{\\substack{ \\xi_{1}=t }}}{v{\\left(t \\right)} - 1} + \\frac{a v{\\left(t \\right)} \\left. \\frac{\\partial^{2}}{\\partial v{\\left(t \\right)}\\partial \\xi_{1}} \\eta_{1}{\\left(\\xi_{1},u{\\left(t \\right)},v{\\left(t \\right)} \\right)} \\right|_{\\substack{ \\xi_{1}=t }}}{v{\\left(t \\right)} - 1} - \\frac{a \\left. \\frac{\\partial}{\\partial \\xi_{1}} \\eta_{1}{\\left(\\xi_{1},u{\\left(t \\right)},v{\\left(t \\right)} \\right)} \\right|_{\\substack{ \\xi_{1}=t }}}{v{\\left(t \\right)} - 1} + \\left. \\frac{\\partial}{\\partial \\xi_{1}} \\eta_{2}{\\left(\\xi_{1},u{\\left(t \\right)},v{\\left(t \\right)} \\right)} \\right|_{\\substack{ \\xi_{1}=t }} + \\frac{\\eta_{2}{\\left(t,u{\\left(t \\right)},v{\\left(t \\right)} \\right)} u{\\left(t \\right)} v{\\left(t \\right)}}{v{\\left(t \\right)} - 1} - \\frac{\\eta_{2}{\\left(t,u{\\left(t \\right)},v{\\left(t \\right)} \\right)} u{\\left(t \\right)}}{v{\\left(t \\right)} - 1} - \\frac{u^{2}{\\left(t \\right)} v^{2}{\\left(t \\right)} \\frac{d^{2}}{d u{\\left(t \\right)}^{2}} \\eta_{1}{\\left(t,u{\\left(t \\right)},v{\\left(t \\right)} \\right)}}{v{\\left(t \\right)} - 1} + \\frac{2 u^{2}{\\left(t \\right)} v{\\left(t \\right)} \\frac{d^{2}}{d u{\\left(t \\right)}^{2}} \\eta_{1}{\\left(t,u{\\left(t \\right)},v{\\left(t \\right)} \\right)}}{v{\\left(t \\right)} - 1} + \\frac{u^{2}{\\left(t \\right)} v{\\left(t \\right)} \\frac{d}{d u{\\left(t \\right)}} \\eta_{2}{\\left(t,u{\\left(t \\right)},v{\\left(t \\right)} \\right)}}{v{\\left(t \\right)} - 1} - \\frac{u^{2}{\\left(t \\right)} \\frac{d^{2}}{d u{\\left(t \\right)}^{2}} \\eta_{1}{\\left(t,u{\\left(t \\right)},v{\\left(t \\right)} \\right)}}{v{\\left(t \\right)} - 1} - \\frac{u^{2}{\\left(t \\right)} \\frac{d}{d u{\\left(t \\right)}} \\eta_{2}{\\left(t,u{\\left(t \\right)},v{\\left(t \\right)} \\right)}}{v{\\left(t \\right)} - 1} - \\frac{u{\\left(t \\right)} v^{2}{\\left(t \\right)} \\frac{d}{d u{\\left(t \\right)}} \\eta_{1}{\\left(t,u{\\left(t \\right)},v{\\left(t \\right)} \\right)}}{v{\\left(t \\right)} - 1} + \\frac{u{\\left(t \\right)} v^{2}{\\left(t \\right)} \\frac{d}{d t} \\xi{\\left(t \\right)}}{v{\\left(t \\right)} - 1} + \\frac{2 u{\\left(t \\right)} v{\\left(t \\right)} \\frac{d}{d u{\\left(t \\right)}} \\eta_{1}{\\left(t,u{\\left(t \\right)},v{\\left(t \\right)} \\right)}}{v{\\left(t \\right)} - 1} - \\frac{2 u{\\left(t \\right)} v{\\left(t \\right)} \\frac{d}{d t} \\xi{\\left(t \\right)}}{v{\\left(t \\right)} - 1} + \\frac{u{\\left(t \\right)} v{\\left(t \\right)} \\left. \\frac{\\partial^{2}}{\\partial u{\\left(t \\right)}\\partial \\xi_{1}} \\eta_{1}{\\left(\\xi_{1},u{\\left(t \\right)},v{\\left(t \\right)} \\right)} \\right|_{\\substack{ \\xi_{1}=t }}}{v{\\left(t \\right)} - 1} - \\frac{u{\\left(t \\right)} \\frac{d}{d u{\\left(t \\right)}} \\eta_{1}{\\left(t,u{\\left(t \\right)},v{\\left(t \\right)} \\right)}}{v{\\left(t \\right)} - 1} + \\frac{u{\\left(t \\right)} \\frac{d}{d t} \\xi{\\left(t \\right)}}{v{\\left(t \\right)} - 1} - \\frac{u{\\left(t \\right)} \\left. \\frac{\\partial^{2}}{\\partial u{\\left(t \\right)}\\partial \\xi_{1}} \\eta_{1}{\\left(\\xi_{1},u{\\left(t \\right)},v{\\left(t \\right)} \\right)} \\right|_{\\substack{ \\xi_{1}=t }}}{v{\\left(t \\right)} - 1}=0$$\n"
     ]
    }
   ],
   "source": [
    "# Solve equations for the second component\n",
    "# Extract equation\n",
    "lin_sym_temp_1 = lin_sym_original[0]\n",
    "print(\"Equation for linearised symmetry equation\\n\")\n",
    "print(lin_sym_temp_1)\n",
    "# Solve this equation for eta_2\n",
    "eta_2_solution = [tangent_list[2],solve(lin_sym_temp_1,tangent_list[1])[0]]\n",
    "print(\"\\n\\nSolve this equation for the second tangent\\n\")\n",
    "print(eta_2_solution)\n",
    "# Substitute this into the second linearised symmetry condition and simplify\n",
    "lin_sym_temp_2 = expand(lin_sym_original[1].subs(eta_2_solution[0],eta_2_solution[1]).doit())\n",
    "print(\"\\n\\nIf we substitute this solution into the second equation and simplify this is what we get:\\n\")\n",
    "print(\"$$\" + latex(lin_sym_temp_2) + \"=0$$\")"
   ]
  },
  {
   "cell_type": "markdown",
   "id": "32f5f9f3",
   "metadata": {},
   "source": [
    "So this is what our equation looks like!\n",
    "\n",
    "$$\\frac{a^{2} u^{2}{\\left(t \\right)} v^{2}{\\left(t \\right)} \\frac{d}{d v{\\left(t \\right)}} \\eta_{1}{\\left(t,u{\\left(t \\right)},v{\\left(t \\right)} \\right)}}{v^{2}{\\left(t \\right)} - 2 v{\\left(t \\right)} + 1} - \\frac{2 a^{2} u{\\left(t \\right)} v^{2}{\\left(t \\right)} \\frac{d}{d v{\\left(t \\right)}} \\eta_{1}{\\left(t,u{\\left(t \\right)},v{\\left(t \\right)} \\right)}}{v^{2}{\\left(t \\right)} - 2 v{\\left(t \\right)} + 1} + \\frac{a^{2} v^{2}{\\left(t \\right)} \\frac{d}{d v{\\left(t \\right)}} \\eta_{1}{\\left(t,u{\\left(t \\right)},v{\\left(t \\right)} \\right)}}{v^{2}{\\left(t \\right)} - 2 v{\\left(t \\right)} + 1} - \\frac{a^{2} u^{2}{\\left(t \\right)} v^{2}{\\left(t \\right)} \\frac{d^{2}}{d v{\\left(t \\right)}^{2}} \\eta_{1}{\\left(t,u{\\left(t \\right)},v{\\left(t \\right)} \\right)}}{v{\\left(t \\right)} - 1} + \\frac{2 a^{2} u{\\left(t \\right)} v^{2}{\\left(t \\right)} \\frac{d^{2}}{d v{\\left(t \\right)}^{2}} \\eta_{1}{\\left(t,u{\\left(t \\right)},v{\\left(t \\right)} \\right)}}{v{\\left(t \\right)} - 1} - \\frac{a^{2} v^{2}{\\left(t \\right)} \\frac{d^{2}}{d v{\\left(t \\right)}^{2}} \\eta_{1}{\\left(t,u{\\left(t \\right)},v{\\left(t \\right)} \\right)}}{v{\\left(t \\right)} - 1} - a \\eta_{1}{\\left(t,u{\\left(t \\right)},v{\\left(t \\right)} \\right)} v{\\left(t \\right)} - a u{\\left(t \\right)} v{\\left(t \\right)} \\frac{d}{d t} \\xi{\\left(t \\right)} + a v{\\left(t \\right)} \\frac{d}{d t} \\xi{\\left(t \\right)} + \\frac{a \\eta_{2}{\\left(t,u{\\left(t \\right)},v{\\left(t \\right)} \\right)} u^{2}{\\left(t \\right)} v{\\left(t \\right)}}{v^{2}{\\left(t \\right)} - 2 v{\\left(t \\right)} + 1} - \\frac{a \\eta_{2}{\\left(t,u{\\left(t \\right)},v{\\left(t \\right)} \\right)} u{\\left(t \\right)} v{\\left(t \\right)}}{v^{2}{\\left(t \\right)} - 2 v{\\left(t \\right)} + 1} - \\frac{a u^{2}{\\left(t \\right)} v^{2}{\\left(t \\right)} \\frac{d}{d u{\\left(t \\right)}} \\eta_{1}{\\left(t,u{\\left(t \\right)},v{\\left(t \\right)} \\right)}}{v^{2}{\\left(t \\right)} - 2 v{\\left(t \\right)} + 1} + \\frac{a u^{2}{\\left(t \\right)} v^{2}{\\left(t \\right)} \\frac{d}{d t} \\xi{\\left(t \\right)}}{v^{2}{\\left(t \\right)} - 2 v{\\left(t \\right)} + 1} + \\frac{a u^{2}{\\left(t \\right)} v{\\left(t \\right)} \\frac{d}{d u{\\left(t \\right)}} \\eta_{1}{\\left(t,u{\\left(t \\right)},v{\\left(t \\right)} \\right)}}{v^{2}{\\left(t \\right)} - 2 v{\\left(t \\right)} + 1} - \\frac{a u^{2}{\\left(t \\right)} v{\\left(t \\right)} \\frac{d}{d t} \\xi{\\left(t \\right)}}{v^{2}{\\left(t \\right)} - 2 v{\\left(t \\right)} + 1} + \\frac{a u{\\left(t \\right)} v^{2}{\\left(t \\right)} \\frac{d}{d u{\\left(t \\right)}} \\eta_{1}{\\left(t,u{\\left(t \\right)},v{\\left(t \\right)} \\right)}}{v^{2}{\\left(t \\right)} - 2 v{\\left(t \\right)} + 1} - \\frac{a u{\\left(t \\right)} v^{2}{\\left(t \\right)} \\frac{d}{d t} \\xi{\\left(t \\right)}}{v^{2}{\\left(t \\right)} - 2 v{\\left(t \\right)} + 1} - \\frac{a u{\\left(t \\right)} v{\\left(t \\right)} \\frac{d}{d u{\\left(t \\right)}} \\eta_{1}{\\left(t,u{\\left(t \\right)},v{\\left(t \\right)} \\right)}}{v^{2}{\\left(t \\right)} - 2 v{\\left(t \\right)} + 1} + \\frac{a u{\\left(t \\right)} v{\\left(t \\right)} \\frac{d}{d t} \\xi{\\left(t \\right)}}{v^{2}{\\left(t \\right)} - 2 v{\\left(t \\right)} + 1} + \\frac{a u{\\left(t \\right)} v{\\left(t \\right)} \\left. \\frac{\\partial}{\\partial \\xi_{1}} \\eta_{1}{\\left(\\xi_{1},u{\\left(t \\right)},v{\\left(t \\right)} \\right)} \\right|_{\\substack{ \\xi_{1}=t }}}{v^{2}{\\left(t \\right)} - 2 v{\\left(t \\right)} + 1} - \\frac{a v{\\left(t \\right)} \\left. \\frac{\\partial}{\\partial \\xi_{1}} \\eta_{1}{\\left(\\xi_{1},u{\\left(t \\right)},v{\\left(t \\right)} \\right)} \\right|_{\\substack{ \\xi_{1}=t }}}{v^{2}{\\left(t \\right)} - 2 v{\\left(t \\right)} + 1} + \\frac{a \\eta_{2}{\\left(t,u{\\left(t \\right)},v{\\left(t \\right)} \\right)} u^{2}{\\left(t \\right)}}{v{\\left(t \\right)} - 1} - \\frac{a \\eta_{2}{\\left(t,u{\\left(t \\right)},v{\\left(t \\right)} \\right)} u{\\left(t \\right)}}{v{\\left(t \\right)} - 1} + \\frac{2 a u^{2}{\\left(t \\right)} v^{2}{\\left(t \\right)} \\frac{d^{2}}{d v{\\left(t \\right)}d u{\\left(t \\right)}} \\eta_{1}{\\left(t,u{\\left(t \\right)},v{\\left(t \\right)} \\right)}}{v{\\left(t \\right)} - 1} - \\frac{a u^{2}{\\left(t \\right)} v{\\left(t \\right)} \\frac{d}{d v{\\left(t \\right)}} \\eta_{2}{\\left(t,u{\\left(t \\right)},v{\\left(t \\right)} \\right)}}{v{\\left(t \\right)} - 1} - \\frac{2 a u^{2}{\\left(t \\right)} v{\\left(t \\right)} \\frac{d^{2}}{d v{\\left(t \\right)}d u{\\left(t \\right)}} \\eta_{1}{\\left(t,u{\\left(t \\right)},v{\\left(t \\right)} \\right)}}{v{\\left(t \\right)} - 1} + \\frac{a u^{2}{\\left(t \\right)} \\frac{d}{d u{\\left(t \\right)}} \\eta_{1}{\\left(t,u{\\left(t \\right)},v{\\left(t \\right)} \\right)}}{v{\\left(t \\right)} - 1} - \\frac{a u^{2}{\\left(t \\right)} \\frac{d}{d t} \\xi{\\left(t \\right)}}{v{\\left(t \\right)} - 1} + \\frac{a u{\\left(t \\right)} v^{2}{\\left(t \\right)} \\frac{d}{d v{\\left(t \\right)}} \\eta_{1}{\\left(t,u{\\left(t \\right)},v{\\left(t \\right)} \\right)}}{v{\\left(t \\right)} - 1} - \\frac{2 a u{\\left(t \\right)} v^{2}{\\left(t \\right)} \\frac{d^{2}}{d v{\\left(t \\right)}d u{\\left(t \\right)}} \\eta_{1}{\\left(t,u{\\left(t \\right)},v{\\left(t \\right)} \\right)}}{v{\\left(t \\right)} - 1} - \\frac{a u{\\left(t \\right)} v{\\left(t \\right)} \\frac{d}{d v{\\left(t \\right)}} \\eta_{1}{\\left(t,u{\\left(t \\right)},v{\\left(t \\right)} \\right)}}{v{\\left(t \\right)} - 1} + \\frac{a u{\\left(t \\right)} v{\\left(t \\right)} \\frac{d}{d v{\\left(t \\right)}} \\eta_{2}{\\left(t,u{\\left(t \\right)},v{\\left(t \\right)} \\right)}}{v{\\left(t \\right)} - 1} + \\frac{2 a u{\\left(t \\right)} v{\\left(t \\right)} \\frac{d^{2}}{d v{\\left(t \\right)}d u{\\left(t \\right)}} \\eta_{1}{\\left(t,u{\\left(t \\right)},v{\\left(t \\right)} \\right)}}{v{\\left(t \\right)} - 1} - \\frac{a u{\\left(t \\right)} v{\\left(t \\right)} \\left. \\frac{\\partial^{2}}{\\partial v{\\left(t \\right)}\\partial \\xi_{1}} \\eta_{1}{\\left(\\xi_{1},u{\\left(t \\right)},v{\\left(t \\right)} \\right)} \\right|_{\\substack{ \\xi_{1}=t }}}{v{\\left(t \\right)} - 1} - \\frac{a u{\\left(t \\right)} \\frac{d}{d u{\\left(t \\right)}} \\eta_{1}{\\left(t,u{\\left(t \\right)},v{\\left(t \\right)} \\right)}}{v{\\left(t \\right)} - 1} + \\frac{a u{\\left(t \\right)} \\frac{d}{d t} \\xi{\\left(t \\right)}}{v{\\left(t \\right)} - 1} + \\frac{a u{\\left(t \\right)} \\left. \\frac{\\partial}{\\partial \\xi_{1}} \\eta_{1}{\\left(\\xi_{1},u{\\left(t \\right)},v{\\left(t \\right)} \\right)} \\right|_{\\substack{ \\xi_{1}=t }}}{v{\\left(t \\right)} - 1} + \\frac{a v{\\left(t \\right)} \\left. \\frac{\\partial^{2}}{\\partial v{\\left(t \\right)}\\partial \\xi_{1}} \\eta_{1}{\\left(\\xi_{1},u{\\left(t \\right)},v{\\left(t \\right)} \\right)} \\right|_{\\substack{ \\xi_{1}=t }}}{v{\\left(t \\right)} - 1} - \\frac{a \\left. \\frac{\\partial}{\\partial \\xi_{1}} \\eta_{1}{\\left(\\xi_{1},u{\\left(t \\right)},v{\\left(t \\right)} \\right)} \\right|_{\\substack{ \\xi_{1}=t }}}{v{\\left(t \\right)} - 1} + \\left. \\frac{\\partial}{\\partial \\xi_{1}} \\eta_{2}{\\left(\\xi_{1},u{\\left(t \\right)},v{\\left(t \\right)} \\right)} \\right|_{\\substack{ \\xi_{1}=t }} + \\frac{\\eta_{2}{\\left(t,u{\\left(t \\right)},v{\\left(t \\right)} \\right)} u{\\left(t \\right)} v{\\left(t \\right)}}{v{\\left(t \\right)} - 1} - \\frac{\\eta_{2}{\\left(t,u{\\left(t \\right)},v{\\left(t \\right)} \\right)} u{\\left(t \\right)}}{v{\\left(t \\right)} - 1} - \\frac{u^{2}{\\left(t \\right)} v^{2}{\\left(t \\right)} \\frac{d^{2}}{d u{\\left(t \\right)}^{2}} \\eta_{1}{\\left(t,u{\\left(t \\right)},v{\\left(t \\right)} \\right)}}{v{\\left(t \\right)} - 1} + \\frac{2 u^{2}{\\left(t \\right)} v{\\left(t \\right)} \\frac{d^{2}}{d u{\\left(t \\right)}^{2}} \\eta_{1}{\\left(t,u{\\left(t \\right)},v{\\left(t \\right)} \\right)}}{v{\\left(t \\right)} - 1} + \\frac{u^{2}{\\left(t \\right)} v{\\left(t \\right)} \\frac{d}{d u{\\left(t \\right)}} \\eta_{2}{\\left(t,u{\\left(t \\right)},v{\\left(t \\right)} \\right)}}{v{\\left(t \\right)} - 1} - \\frac{u^{2}{\\left(t \\right)} \\frac{d^{2}}{d u{\\left(t \\right)}^{2}} \\eta_{1}{\\left(t,u{\\left(t \\right)},v{\\left(t \\right)} \\right)}}{v{\\left(t \\right)} - 1} - \\frac{u^{2}{\\left(t \\right)} \\frac{d}{d u{\\left(t \\right)}} \\eta_{2}{\\left(t,u{\\left(t \\right)},v{\\left(t \\right)} \\right)}}{v{\\left(t \\right)} - 1} - \\frac{u{\\left(t \\right)} v^{2}{\\left(t \\right)} \\frac{d}{d u{\\left(t \\right)}} \\eta_{1}{\\left(t,u{\\left(t \\right)},v{\\left(t \\right)} \\right)}}{v{\\left(t \\right)} - 1} + \\frac{u{\\left(t \\right)} v^{2}{\\left(t \\right)} \\frac{d}{d t} \\xi{\\left(t \\right)}}{v{\\left(t \\right)} - 1} + \\frac{2 u{\\left(t \\right)} v{\\left(t \\right)} \\frac{d}{d u{\\left(t \\right)}} \\eta_{1}{\\left(t,u{\\left(t \\right)},v{\\left(t \\right)} \\right)}}{v{\\left(t \\right)} - 1} - \\frac{2 u{\\left(t \\right)} v{\\left(t \\right)} \\frac{d}{d t} \\xi{\\left(t \\right)}}{v{\\left(t \\right)} - 1} + \\frac{u{\\left(t \\right)} v{\\left(t \\right)} \\left. \\frac{\\partial^{2}}{\\partial u{\\left(t \\right)}\\partial \\xi_{1}} \\eta_{1}{\\left(\\xi_{1},u{\\left(t \\right)},v{\\left(t \\right)} \\right)} \\right|_{\\substack{ \\xi_{1}=t }}}{v{\\left(t \\right)} - 1} - \\frac{u{\\left(t \\right)} \\frac{d}{d u{\\left(t \\right)}} \\eta_{1}{\\left(t,u{\\left(t \\right)},v{\\left(t \\right)} \\right)}}{v{\\left(t \\right)} - 1} + \\frac{u{\\left(t \\right)} \\frac{d}{d t} \\xi{\\left(t \\right)}}{v{\\left(t \\right)} - 1} - \\frac{u{\\left(t \\right)} \\left. \\frac{\\partial^{2}}{\\partial u{\\left(t \\right)}\\partial \\xi_{1}} \\eta_{1}{\\left(\\xi_{1},u{\\left(t \\right)},v{\\left(t \\right)} \\right)} \\right|_{\\substack{ \\xi_{1}=t }}}{v{\\left(t \\right)} - 1}=0$$\n",
    "And now we want to identify derivatives with respect to $\\eta_1$ and $\\eta_2$ how do we go about achieving this?"
   ]
  },
  {
   "cell_type": "markdown",
   "id": "18f1aed6",
   "metadata": {},
   "source": [
    "# Attempt 1\n",
    "Perhaps the easiest way is in fact to convert the symbolic object to a string? We can then separate all terms with respect to the plus signs? Our maybe it is better to split them up before as a symbolic object using args. Anyhow, We should then be able to find all string with the keyword \"Derivative\". And then we should be able to sort out all types of derivatives we have and lastly save all corresponding terms as well. "
   ]
  },
  {
   "cell_type": "code",
   "execution_count": 31,
   "id": "8b2754bc",
   "metadata": {},
   "outputs": [
    {
     "name": "stdout",
     "output_type": "stream",
     "text": [
      "a*v(t)*Derivative(xi(t), t)\n",
      "u(t)*Derivative(xi(t), t)/(v(t) - 1)\n"
     ]
    }
   ],
   "source": [
    "# Extract one term for example\n",
    "print(lin_sym_temp_2.args[0])\n",
    "# Extract another\n",
    "print(lin_sym_temp_2.args[1])"
   ]
  },
  {
   "cell_type": "code",
   "execution_count": null,
   "id": "9bafd3b7",
   "metadata": {},
   "outputs": [],
   "source": []
  }
 ],
 "metadata": {
  "kernelspec": {
   "display_name": "Python 3",
   "language": "python",
   "name": "python3"
  },
  "language_info": {
   "codemirror_mode": {
    "name": "ipython",
    "version": 3
   },
   "file_extension": ".py",
   "mimetype": "text/x-python",
   "name": "python",
   "nbconvert_exporter": "python",
   "pygments_lexer": "ipython3",
   "version": "3.8.8"
  }
 },
 "nbformat": 4,
 "nbformat_minor": 5
}
